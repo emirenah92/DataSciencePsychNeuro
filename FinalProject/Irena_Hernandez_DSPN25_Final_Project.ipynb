{
  "cells": [
    {
      "cell_type": "markdown",
      "metadata": {
        "id": "view-in-github",
        "colab_type": "text"
      },
      "source": [
        "<a href=\"https://colab.research.google.com/github/emirenah92/DataSciencePsychNeuro/blob/master/FinalProject/Irena_Hernandez_DSPN25_Final_Project.ipynb\" target=\"_parent\"><img src=\"https://colab.research.google.com/assets/colab-badge.svg\" alt=\"Open In Colab\"/></a>"
      ]
    },
    {
      "cell_type": "markdown",
      "source": [
        "# **How do people acquire sexist beliefs and traditional gender role biases?**\n",
        "Emiliano Irena-Hernández\n",
        "\n"
      ],
      "metadata": {
        "id": "1uelj0PcgUDs"
      }
    },
    {
      "cell_type": "markdown",
      "source": [
        "## **Background**"
      ],
      "metadata": {
        "id": "XQ1gt2NniFU0"
      }
    },
    {
      "cell_type": "markdown",
      "source": [
        "## **Research question**\n",
        "\n",
        "For the current statistical archival research, we have determined the following research question:\n",
        "\n",
        "*How do men and women acquire gender roles and sexist beliefs?*"
      ],
      "metadata": {
        "id": "5xXm3SlsiZ3g"
      }
    },
    {
      "cell_type": "markdown",
      "source": [
        "## **Aims and hypotheses**\n",
        "\n",
        "The main purpose of the study is to contrast the assumptions of two theoretical frameworks on gender roles acquisition: gender schema theory and social cognition. Thus, we have identified the following research aims and hypotheses to fulfill the previous general purpose and to address the research question.  \n",
        "\n",
        "1. Aim 1: Determine if gender schema theory or social cognition theory assumptions about gender roles and sexist beliefs stand. In this sense, we predict that individuals with traditional gender schemas or with a traditional gender role distribution in their upbringing household will present stronger associations to sexist beliefs and gender roles.\n",
        "\n",
        "2. Aim 2: Identify the type of relationship that gender schema theory and social cognition theory play in determining the process of gender roles and sexist beliefs acquisition. For this aim, we have developed two contrasting exploratory hypotheses.\n",
        "\n",
        "  First, we hypothesize that the relationship between gender and sexist beliefs is mediated by the sequential effect of observational learning and gender schema. In this case, the process of identification with a gender schema will be a consequence of observational learning, which in turn, will determine the level of association with sexist beliefs and gender roles acquisition. In this first exploratory hypothesis, we predict that individuals with a traditional gender role distribution in their upbringing household are more likely to develop traditional gender schemas, which in turn, will lead to stronger sexist beliefs and traditional gender roles perceptions.\n",
        "\n",
        "  Second, we hypothesize that the relationship between gender and sexist beliefs is mediated by a parallel effect of observational learning and gender schema. So contrary to our first hypothesis, we are assuming that the process of identification with a gender schema is independent from observational learning of traditional gender roles, but that together, both factors may increase the likelihood of gender roles and sexist beliefs acquisition. Our prediction in this second exploratory hypothesis is that individuals with a traditional gender role distribution in their upbringing household and who developed traditional gender schemas will have stronger sexist beliefs and more traditional gender roles perceptions.\n",
        "\n",
        "\n",
        "3. Aim 3: Explore if identity salience has a moderating effect on the relationship between gender and sexist beliefs. As such, we predict that individuals who consider their gender identification as a key determinant of their personal identity to have stronger sexist beliefs and more traditional gender roles perceptions.\n"
      ],
      "metadata": {
        "id": "YNX00anLiebX"
      }
    },
    {
      "cell_type": "markdown",
      "source": [
        "## **Variables of interest**\n",
        "\n",
        "### Identification and demographic variables\n",
        "\n",
        "* ID (*Id*): Participant's numeric identifier\n",
        "\n",
        "* Country (*Country*): Country where the data was collected (62 countries)\n",
        "\n",
        "* Age (Age): Age reported by the participant (Between 16 and 86 years old)\n",
        "\n",
        "* Gender (*Gender*): Gender to which the participant self-identifies with. (Male, Female, Non-binary, Third Gender, I don't identify myself with any gender, Prefer to self-describe).\n",
        "  \n",
        "  We will only be considering two genders for the analysis: Female and Male\n",
        "\n",
        "### Gender identity, gender schema, and social cognition variables\n",
        "\n",
        "* Gender salience (*Identification_with_gender_group*): Identity salience refers to the level of importance, attachment, or belonging associated with a particular social group or category. The stronger the feelings of belonging, the greater the identity salience (Carr-Chellman and Levitan, 2016; Stryker and Serpe, 1994).\n",
        "  \n",
        "  In this case, the variable is identifying to what extent being a member of the female or male gender is an important part of how the participants perceive themselves. (Scale from 1-7, 1 being \"not at all\" and 7 being \"very much\").\n",
        "\n",
        "* Female gender schema (*Feminine_identity*): identifies how much participants think of themselves as feminine. (Scale from 1-7, 1 being \"not at all\" and 7 being \"very much\").\n",
        "\n",
        "* Male gender schema (*Masculine_identity*): identifies how much participants think of themselves as masculine. (Scale from 1-7, 1 being \"not at all\" and 7 being \"very much\").\n",
        "\n",
        "* Observational learning of the role of homemaker (*Roles in the family_Homemaker*): identifies who was more likely to fulfill the role of homemaker in the household of the participant while they were growing up, a man or a woman. (Scale from 0 to 10, 0 being \"mostly female homemaker\", 5 being \"equally\", and 10 being \"mostly male homemaker\")\n",
        "\n",
        "* Observational learning of the role of financial provider (*Roles in the family_Fincial_provider*): identifies who was more likely to fulfill the role of financial provider in the household of the participant while they were growing up, a man or a woman. (Scale from 0 to 10, 0 being \"mostly female provider\", 5 being \"equally\", and 10 being \"mostly male provider\")\n",
        "\n",
        "\n",
        "### Gender roles, sexist beliefs, and perceptions\n",
        "\n",
        "* Gender role for men (*Gender_ideology_Men_should_prioritize*): indicates\n",
        "participants' perception of what the gender role of men should prioritize. (Scale from 0 to 10, 0 being \"having a family\" and 10 being \"having a career\").\n",
        "\n",
        "* Gender role for women (*Gender_ideology_Women_should_prioritize*): indicates participants' pecerpection of what the gender role of women should prioritize. (Scale from 0 to 10, 0 being \"having a family\" and 10 being \"having a career\").\n",
        "\n",
        "* Impact of gender roles on the self (*Gender_ideology_You_wil_prioritize*): refers to participants' perception of what role they should have: prioritizing family or a career. (Scale from 0 to 10, 0 being \"having a family\" and 10 being \"having a career\").\n",
        "\n",
        "* Descriptive stereotypes (*GenderStereotypes_gifted_STEM1_gifted_in_math, GenderStereotypes_gifted_STEM2_gifted_in_science, GenderStereotypes_gifted_Humanities1_gifted_in_humanities, GenderStereotypes_gifted_Humanities2_linguistically_gifted*): this factor reflects the participant's gender stereotypes over who has more natural skills in math, science, linguistics, and humanities. (Scale from 1 to 7, 1 being \"more frequently associated with women than men\" and 7 being \"more frequently associated with men than women\").\n",
        "\n",
        "* Precarious Manhood Beliefs (*Precarious_manhood_1/4*): Precarious manhood beliefs relate to the conception of manhood as elusive, uncertain, a matter of struggle, and something to be constantly proven (Vandello et al., 2008). As such, holding greater precarious manhood beliefs is associated with greater perceptual levels of sexism.\n",
        "\n",
        "  The dataset included 4 items from the Precarious Manhood Beliefs (PMB) scale (Vandello et al., 2023) that conveyed beliefs that manhood is difficult to earn and easy to lose. (Scale from 1 to 7, 1 being \"strongly disagree\" and 7 being \"strongly agree\") (Kosakowska-Berezecka et al., 2024).\n",
        "\n",
        "* Collective Action Intentions to Support Gender Equality (*Collective_action_intentions_normative1/2, Collective_action_intentions_radical1/2, Collective_action_intentions_normative_long_1/6*): According to Social Dominance Theory, individuals with sexist beliefs is a reflection of holding hierarchy-enhancing ideologies, which in turn, increases their motivations to act in ways that perpetuate gender inequalities (Stewart, 2017; Sidanius and Pratto, 1999).\n",
        "\n",
        "  The dataset assessed the participants' intention to engage in collective behaviors for gender equality by including 4 items from the radical group behavior scale (Tausch et al., 2011) and 6 items from the environmental action scale (Alisat and Reimer, 2015). (Scale from 1 to 7, 1 being \"not likely at all\" and 7 being \"very likely\") (Kosakowska-Berezecka et al., 2024).\n",
        "\n",
        "* Zero-Sum Perspective of Gender Status (*ZeroSum_GenderPerspective_1/7*): This factor is based on the general zero-sum concept that argues that people hold a cognitive bias called fixed-pie bias that entails that one's interests will be opposed to the interests of others (Davidai and Tepper, 2023). In this context, zero-sum gender beliefs correspond to the perception that the interests, profits, and actions of women will negatively affect the one's of men, creating a comprehension of win-lose social interaction between men and women.\n",
        "\n",
        "  The dataset combined items from two scales to examine participants' zero-sum beliefs about gender status. It included all six items of the Zero-Sum Perspective on Gender Status Scale (Ruthig et al., 2017), which assessed zero-sum beliefs six domains (e.g., family, politics, occupational), and a single item that examines zero-sum gender beliefs over discrimination (Scale from 0 to 5, 0 being \"strongly disagree\" and 5 \"strongly agree\") (Kosakowska-Berezecka et al., 2024).\n",
        "\n",
        "* Ambivalent Sexism (*AmbivalentSexism_1/6*): Ambivalent sexism theory considers that sexism embodies two possible forms of social interactions between men and women. One is the reflection of hostility toward women (hostile sexism), and another that associates with behaviors and attitudes that are stereotypically against women but that are subjectively positive in feeling tone, and often are mistaken as prosocial or intimacy-seeking behaviors (benevolent sexism) (Glick and Fiske, 1996).\n",
        "\n",
        "  To measure ambivalent sexism, the dataset includes 3 items to assess benevolent sexism and 3 more for hostile sexism from the Ambivalent Sexism Inventory (Rollero et al., 2014). (Scale from 0 to 5, 0 being \"strongly disagree\" and 5 \"strongly agree\") (Kosakowska-Berezecka et al., 2024).\n",
        "\n",
        "* Ambivalence toward Men (*Ambivalence_toward_men_1/6*): Ambivalence toward men offers the opposite perceptual position of Ambivalence Sexism. It refers to those attitudes that characterize men as either controlling, condescending, and likely to sexually harass (hostility toward men), or as protectors, providers, and who should be taken care of by women (benevolence toward men) (Glick and Whitehead, 2010).\n",
        "\n",
        "  The dataset included six items from the Ambivalence toward Men Inventory (Glick and Whitehead, 2010), 3 items that measure Hostility toward Men, and 3 more for Benevolence toward Men. (Scale from 0 to 5, 0 being \"strongly disagree\" and 5 \"strongly agree\") (Kosakowska-Berezecka et al., 2024).\n",
        "\n",
        "* Gender essentialism (*GenderEssentialism_1/3*): Holding gender essentialist beliefs refers to the perception that there are innate differences (Heyman and Giles, 2006; Gelman, 2003), and that these differences are what determine the assignment of gender roles.\n",
        "\n",
        "  To examine the presence of gender essentialist beliefs among the participants, the dataset included five items from the Gender Essentialism Scale (Skewes et al., 2018) (Scale from 1 to 7, 1 being \"strongly disagree\" and 7 being \"strongly agree\") (Kosakowska-Berezecka et al., 2024).\n",
        "\n",
        "* Power Distance Beliefs (*PowerDistanceBeliefs_1/4*): This factor is defined as the degree of power disparity that people in a culture expect and accept (Hofstede, 2001, in Kim and Zhang, 2014). Thus, it has been determined that one of the characteristics of ambivalent sexism involves protecting men's power dominance position with respect to women, and such will show greater support for power distance beliefs (Ratliff et al., 2017 in Cross et al., 2018).\n",
        "\n",
        "  To analyze the prevalence of power distance beliefs, the dataset contains four items from Brockner et al. (2001), which focus on assessing attitudes about societal ranks, salary increases, questioning authority decisions, and formal communication with superiors. (Scale from 1/7, 1 being \"strongly disagree\" and 7 being \"strongly agree\") (Kosakowska-Berezecka et al., 2024).\n",
        "\n",
        "* Autonomy and Embeddedness Values (*Autonomy_1/5, Embeddedness_1/5*): Holding autonomy values poses as opposites to communal preferences or embeddedness values, which emphasize the importance of belonging to a social group and adherence to its norms and values. Thus, autonomy values are associated with more individualistic perceptions and attitudes that promote independence and development of the self (Proudfoot and Kay, 2022). In this sense, stronger embeddedness values aid in the reinforcement of sexist beliefs as part of the collective representations of social interactions. Whereas stronger autonomy values are more likely to contest the status quo of sexist beliefs.\n",
        "\n",
        "  The dataset uses the adapted autonomy vs embeddedness scale by Vignoles et al. (2016), which contains 10 items: 5 measuring autonomy values and the rest for embeddedness values. (Scale from 1-6, 1 being \"not at all like me\" and 6 being \"a lot like me\") (Kosakowska-Berezecka et al., 2024).\n",
        "\n"
      ],
      "metadata": {
        "id": "J9T3iUDQiLbl"
      }
    },
    {
      "cell_type": "markdown",
      "metadata": {
        "id": "N_8Y2F3a4dLw"
      },
      "source": [
        "## **Data Plan Organization**\n",
        "\n",
        "Step by step\n",
        "\n",
        "1. Data organization\n",
        "\n",
        "  a. Data cleansing and tidying\n",
        "\n",
        "  b. Data architecture of the Toward Gender Harmony Dataset\n",
        "\n",
        "2. Statistical Analysis\n",
        "\n",
        "  a. Distribution analysis for sexist beliefs and gender identity variables\n",
        "\n",
        "  b. Correlational analysis\n",
        "\n",
        "  c. Principal component analysis (PCA)\n",
        "\n",
        "  d. Linear regression model for theory contrast analysis\n",
        "\n",
        "  e. Mediation analysis\n",
        "\n",
        "  f. Moderation analysis"
      ]
    },
    {
      "cell_type": "markdown",
      "metadata": {
        "id": "Lk3piOfBKCAN"
      },
      "source": [
        "## **Data organization**\n",
        "\n",
        "1. Load the dataset Toward a Gender Harmony"
      ]
    },
    {
      "cell_type": "code",
      "execution_count": 3,
      "metadata": {
        "id": "9Smxq-BV4UMo",
        "colab": {
          "base_uri": "https://localhost:8080/",
          "height": 34
        },
        "outputId": "f5b0992b-ad22-47c8-daa4-4bda993a5ffc"
      },
      "outputs": [
        {
          "output_type": "display_data",
          "data": {
            "text/html": [
              "<style>\n",
              ".list-inline {list-style: none; margin:0; padding: 0}\n",
              ".list-inline>li {display: inline-block}\n",
              ".list-inline>li:not(:last-child)::after {content: \"\\00b7\"; padding: 0 .5ex}\n",
              "</style>\n",
              "<ol class=list-inline><li>33313</li><li>287</li></ol>\n"
            ],
            "text/markdown": "1. 33313\n2. 287\n\n\n",
            "text/latex": "\\begin{enumerate*}\n\\item 33313\n\\item 287\n\\end{enumerate*}\n",
            "text/plain": [
              "[1] 33313   287"
            ]
          },
          "metadata": {}
        }
      ],
      "source": [
        "tgh<-read.csv(\"DataBaseTGH.csv\")\n",
        "dim(tgh)"
      ]
    },
    {
      "cell_type": "markdown",
      "metadata": {
        "id": "15DYXPXXLNz9"
      },
      "source": [
        "2. Load tidyverse library and make a new csv file from the original dataset containing the following data auditing specifications:\n",
        "\n",
        "\n",
        "Select only the relevant variables to the analysis:\n",
        "\n",
        "* Identification variables: ID, Country and Gender\n",
        "\n",
        "* Gender identity variables: Identification_with_gender_group, Roles in the family_Fincial_provider, Roles in the family_Homemaker, Feminine_identity, Masculine_identity\n",
        "\n",
        "* Sexist beliefs, perceptions and roles: Gender_ideology_You_wil_prioritize, Gender_ideology_Men_should_prioritize, Gender_ideology_Women_should_prioritize, GenderStereotypes_gifted_STEM1_gifted_in_math,GenderStereotypes_gifted_STEM2_gifted_in_science, GenderStereotypes_gifted_Humanities1_gifted_in_humanities, GenderStereotypes_gifted_Humanities2_linguistically_gifted, Precarious_manhood_1/4, Collective_action_intentions_normative1/2, Collective_action_intentions_radical1/2, Collective_action_intentions_normative_long_1/6, ZeroSum_GenderPerspective_1/7, AmbivalentSexism_1/6, Ambivalence_toward_men_1/6, GenderEssentialism_1/3, PowerDistanceBeliefs_1/4, Autonomy_1/5, Embeddedness_1/5\n",
        "\n",
        "Remove any missing values\n",
        "\n",
        "Filter the dataset to contain information from only two genders: male and female\n",
        "\n",
        "Visualize the first rows and the dimensionality of the new dataset"
      ]
    },
    {
      "cell_type": "code",
      "execution_count": 4,
      "metadata": {
        "colab": {
          "base_uri": "https://localhost:8080/",
          "height": 556
        },
        "id": "8WF3poq1OhPD",
        "outputId": "06e5b708-bb34-4e45-80cf-8fcc1e8666d9"
      },
      "outputs": [
        {
          "output_type": "stream",
          "name": "stderr",
          "text": [
            "── \u001b[1mAttaching core tidyverse packages\u001b[22m ──────────────────────── tidyverse 2.0.0 ──\n",
            "\u001b[32m✔\u001b[39m \u001b[34mdplyr    \u001b[39m 1.1.4     \u001b[32m✔\u001b[39m \u001b[34mreadr    \u001b[39m 2.1.5\n",
            "\u001b[32m✔\u001b[39m \u001b[34mforcats  \u001b[39m 1.0.0     \u001b[32m✔\u001b[39m \u001b[34mstringr  \u001b[39m 1.5.1\n",
            "\u001b[32m✔\u001b[39m \u001b[34mggplot2  \u001b[39m 3.5.2     \u001b[32m✔\u001b[39m \u001b[34mtibble   \u001b[39m 3.2.1\n",
            "\u001b[32m✔\u001b[39m \u001b[34mlubridate\u001b[39m 1.9.4     \u001b[32m✔\u001b[39m \u001b[34mtidyr    \u001b[39m 1.3.1\n",
            "\u001b[32m✔\u001b[39m \u001b[34mpurrr    \u001b[39m 1.0.4     \n",
            "── \u001b[1mConflicts\u001b[22m ────────────────────────────────────────── tidyverse_conflicts() ──\n",
            "\u001b[31m✖\u001b[39m \u001b[34mtidyr\u001b[39m::\u001b[32mexpand()\u001b[39m    masks \u001b[34mreshape\u001b[39m::expand()\n",
            "\u001b[31m✖\u001b[39m \u001b[34mdplyr\u001b[39m::\u001b[32mfilter()\u001b[39m    masks \u001b[34mstats\u001b[39m::filter()\n",
            "\u001b[31m✖\u001b[39m \u001b[34mdplyr\u001b[39m::\u001b[32mlag()\u001b[39m       masks \u001b[34mstats\u001b[39m::lag()\n",
            "\u001b[31m✖\u001b[39m \u001b[34mdplyr\u001b[39m::\u001b[32mrename()\u001b[39m    masks \u001b[34mreshape\u001b[39m::rename()\n",
            "\u001b[31m✖\u001b[39m \u001b[34mlubridate\u001b[39m::\u001b[32mstamp()\u001b[39m masks \u001b[34mreshape\u001b[39m::stamp()\n",
            "\u001b[36mℹ\u001b[39m Use the conflicted package (\u001b[3m\u001b[34m<http://conflicted.r-lib.org/>\u001b[39m\u001b[23m) to force all conflicts to become errors\n"
          ]
        },
        {
          "output_type": "display_data",
          "data": {
            "text/html": [
              "<table class=\"dataframe\">\n",
              "<caption>A data.frame: 6 × 66</caption>\n",
              "<thead>\n",
              "\t<tr><th></th><th scope=col>Id</th><th scope=col>Country</th><th scope=col>Age</th><th scope=col>Gender</th><th scope=col>Identification_with_gender_group</th><th scope=col>Roles.in.the.family_Fincial_provider</th><th scope=col>Roles.in.the.family_Homemaker</th><th scope=col>Feminine_identity</th><th scope=col>Masculine_identity</th><th scope=col>Gender_ideology_Men_should_prioritize</th><th scope=col>⋯</th><th scope=col>Autonomy_1</th><th scope=col>Autonomy_2</th><th scope=col>Autonomy_3</th><th scope=col>Autonomy_4</th><th scope=col>Autonomy_5</th><th scope=col>Embeddedness_1</th><th scope=col>Embeddedness_2</th><th scope=col>Embeddedness_3</th><th scope=col>Embeddedness_4</th><th scope=col>Embeddedness_5</th></tr>\n",
              "\t<tr><th></th><th scope=col>&lt;int&gt;</th><th scope=col>&lt;chr&gt;</th><th scope=col>&lt;int&gt;</th><th scope=col>&lt;chr&gt;</th><th scope=col>&lt;int&gt;</th><th scope=col>&lt;int&gt;</th><th scope=col>&lt;dbl&gt;</th><th scope=col>&lt;int&gt;</th><th scope=col>&lt;int&gt;</th><th scope=col>&lt;int&gt;</th><th scope=col>⋯</th><th scope=col>&lt;int&gt;</th><th scope=col>&lt;int&gt;</th><th scope=col>&lt;int&gt;</th><th scope=col>&lt;int&gt;</th><th scope=col>&lt;int&gt;</th><th scope=col>&lt;int&gt;</th><th scope=col>&lt;int&gt;</th><th scope=col>&lt;int&gt;</th><th scope=col>&lt;int&gt;</th><th scope=col>&lt;int&gt;</th></tr>\n",
              "</thead>\n",
              "<tbody>\n",
              "\t<tr><th scope=row>1</th><td>1</td><td>Chile</td><td>46</td><td>Female</td><td>3</td><td> 8</td><td> 1</td><td>3</td><td>4</td><td> 6</td><td>⋯</td><td>4</td><td>2</td><td>4</td><td>4</td><td>4</td><td>4</td><td>4</td><td>5</td><td>3</td><td>4</td></tr>\n",
              "\t<tr><th scope=row>2</th><td>2</td><td>Chile</td><td>45</td><td>Female</td><td>1</td><td> 8</td><td> 5</td><td>4</td><td>7</td><td> 5</td><td>⋯</td><td>4</td><td>3</td><td>5</td><td>4</td><td>3</td><td>5</td><td>4</td><td>4</td><td>5</td><td>3</td></tr>\n",
              "\t<tr><th scope=row>3</th><td>3</td><td>Chile</td><td>45</td><td>Female</td><td>4</td><td> 8</td><td> 1</td><td>7</td><td>7</td><td> 5</td><td>⋯</td><td>5</td><td>1</td><td>5</td><td>5</td><td>5</td><td>5</td><td>5</td><td>5</td><td>5</td><td>5</td></tr>\n",
              "\t<tr><th scope=row>4</th><td>4</td><td>Chile</td><td>41</td><td>Female</td><td>1</td><td>10</td><td>10</td><td>7</td><td>7</td><td> 5</td><td>⋯</td><td>1</td><td>1</td><td>5</td><td>5</td><td>1</td><td>5</td><td>5</td><td>5</td><td>5</td><td>5</td></tr>\n",
              "\t<tr><th scope=row>5</th><td>6</td><td>Chile</td><td>37</td><td>Female</td><td>5</td><td> 5</td><td> 2</td><td>7</td><td>7</td><td>10</td><td>⋯</td><td>5</td><td>1</td><td>5</td><td>5</td><td>5</td><td>4</td><td>5</td><td>3</td><td>3</td><td>4</td></tr>\n",
              "\t<tr><th scope=row>6</th><td>7</td><td>Chile</td><td>34</td><td>Male  </td><td>7</td><td>10</td><td>10</td><td>7</td><td>1</td><td>10</td><td>⋯</td><td>5</td><td>1</td><td>5</td><td>5</td><td>5</td><td>5</td><td>5</td><td>5</td><td>5</td><td>5</td></tr>\n",
              "</tbody>\n",
              "</table>\n"
            ],
            "text/markdown": "\nA data.frame: 6 × 66\n\n| <!--/--> | Id &lt;int&gt; | Country &lt;chr&gt; | Age &lt;int&gt; | Gender &lt;chr&gt; | Identification_with_gender_group &lt;int&gt; | Roles.in.the.family_Fincial_provider &lt;int&gt; | Roles.in.the.family_Homemaker &lt;dbl&gt; | Feminine_identity &lt;int&gt; | Masculine_identity &lt;int&gt; | Gender_ideology_Men_should_prioritize &lt;int&gt; | ⋯ ⋯ | Autonomy_1 &lt;int&gt; | Autonomy_2 &lt;int&gt; | Autonomy_3 &lt;int&gt; | Autonomy_4 &lt;int&gt; | Autonomy_5 &lt;int&gt; | Embeddedness_1 &lt;int&gt; | Embeddedness_2 &lt;int&gt; | Embeddedness_3 &lt;int&gt; | Embeddedness_4 &lt;int&gt; | Embeddedness_5 &lt;int&gt; |\n|---|---|---|---|---|---|---|---|---|---|---|---|---|---|---|---|---|---|---|---|---|---|\n| 1 | 1 | Chile | 46 | Female | 3 |  8 |  1 | 3 | 4 |  6 | ⋯ | 4 | 2 | 4 | 4 | 4 | 4 | 4 | 5 | 3 | 4 |\n| 2 | 2 | Chile | 45 | Female | 1 |  8 |  5 | 4 | 7 |  5 | ⋯ | 4 | 3 | 5 | 4 | 3 | 5 | 4 | 4 | 5 | 3 |\n| 3 | 3 | Chile | 45 | Female | 4 |  8 |  1 | 7 | 7 |  5 | ⋯ | 5 | 1 | 5 | 5 | 5 | 5 | 5 | 5 | 5 | 5 |\n| 4 | 4 | Chile | 41 | Female | 1 | 10 | 10 | 7 | 7 |  5 | ⋯ | 1 | 1 | 5 | 5 | 1 | 5 | 5 | 5 | 5 | 5 |\n| 5 | 6 | Chile | 37 | Female | 5 |  5 |  2 | 7 | 7 | 10 | ⋯ | 5 | 1 | 5 | 5 | 5 | 4 | 5 | 3 | 3 | 4 |\n| 6 | 7 | Chile | 34 | Male   | 7 | 10 | 10 | 7 | 1 | 10 | ⋯ | 5 | 1 | 5 | 5 | 5 | 5 | 5 | 5 | 5 | 5 |\n\n",
            "text/latex": "A data.frame: 6 × 66\n\\begin{tabular}{r|lllllllllllllllllllll}\n  & Id & Country & Age & Gender & Identification\\_with\\_gender\\_group & Roles.in.the.family\\_Fincial\\_provider & Roles.in.the.family\\_Homemaker & Feminine\\_identity & Masculine\\_identity & Gender\\_ideology\\_Men\\_should\\_prioritize & ⋯ & Autonomy\\_1 & Autonomy\\_2 & Autonomy\\_3 & Autonomy\\_4 & Autonomy\\_5 & Embeddedness\\_1 & Embeddedness\\_2 & Embeddedness\\_3 & Embeddedness\\_4 & Embeddedness\\_5\\\\\n  & <int> & <chr> & <int> & <chr> & <int> & <int> & <dbl> & <int> & <int> & <int> & ⋯ & <int> & <int> & <int> & <int> & <int> & <int> & <int> & <int> & <int> & <int>\\\\\n\\hline\n\t1 & 1 & Chile & 46 & Female & 3 &  8 &  1 & 3 & 4 &  6 & ⋯ & 4 & 2 & 4 & 4 & 4 & 4 & 4 & 5 & 3 & 4\\\\\n\t2 & 2 & Chile & 45 & Female & 1 &  8 &  5 & 4 & 7 &  5 & ⋯ & 4 & 3 & 5 & 4 & 3 & 5 & 4 & 4 & 5 & 3\\\\\n\t3 & 3 & Chile & 45 & Female & 4 &  8 &  1 & 7 & 7 &  5 & ⋯ & 5 & 1 & 5 & 5 & 5 & 5 & 5 & 5 & 5 & 5\\\\\n\t4 & 4 & Chile & 41 & Female & 1 & 10 & 10 & 7 & 7 &  5 & ⋯ & 1 & 1 & 5 & 5 & 1 & 5 & 5 & 5 & 5 & 5\\\\\n\t5 & 6 & Chile & 37 & Female & 5 &  5 &  2 & 7 & 7 & 10 & ⋯ & 5 & 1 & 5 & 5 & 5 & 4 & 5 & 3 & 3 & 4\\\\\n\t6 & 7 & Chile & 34 & Male   & 7 & 10 & 10 & 7 & 1 & 10 & ⋯ & 5 & 1 & 5 & 5 & 5 & 5 & 5 & 5 & 5 & 5\\\\\n\\end{tabular}\n",
            "text/plain": [
              "  Id Country Age Gender Identification_with_gender_group\n",
              "1 1  Chile   46  Female 3                               \n",
              "2 2  Chile   45  Female 1                               \n",
              "3 3  Chile   45  Female 4                               \n",
              "4 4  Chile   41  Female 1                               \n",
              "5 6  Chile   37  Female 5                               \n",
              "6 7  Chile   34  Male   7                               \n",
              "  Roles.in.the.family_Fincial_provider Roles.in.the.family_Homemaker\n",
              "1  8                                    1                           \n",
              "2  8                                    5                           \n",
              "3  8                                    1                           \n",
              "4 10                                   10                           \n",
              "5  5                                    2                           \n",
              "6 10                                   10                           \n",
              "  Feminine_identity Masculine_identity Gender_ideology_Men_should_prioritize ⋯\n",
              "1 3                 4                   6                                    ⋯\n",
              "2 4                 7                   5                                    ⋯\n",
              "3 7                 7                   5                                    ⋯\n",
              "4 7                 7                   5                                    ⋯\n",
              "5 7                 7                  10                                    ⋯\n",
              "6 7                 1                  10                                    ⋯\n",
              "  Autonomy_1 Autonomy_2 Autonomy_3 Autonomy_4 Autonomy_5 Embeddedness_1\n",
              "1 4          2          4          4          4          4             \n",
              "2 4          3          5          4          3          5             \n",
              "3 5          1          5          5          5          5             \n",
              "4 1          1          5          5          1          5             \n",
              "5 5          1          5          5          5          4             \n",
              "6 5          1          5          5          5          5             \n",
              "  Embeddedness_2 Embeddedness_3 Embeddedness_4 Embeddedness_5\n",
              "1 4              5              3              4             \n",
              "2 4              4              5              3             \n",
              "3 5              5              5              5             \n",
              "4 5              5              5              5             \n",
              "5 5              3              3              4             \n",
              "6 5              5              5              5             "
            ]
          },
          "metadata": {}
        },
        {
          "output_type": "display_data",
          "data": {
            "text/html": [
              "<style>\n",
              ".list-inline {list-style: none; margin:0; padding: 0}\n",
              ".list-inline>li {display: inline-block}\n",
              ".list-inline>li:not(:last-child)::after {content: \"\\00b7\"; padding: 0 .5ex}\n",
              "</style>\n",
              "<ol class=list-inline><li>24303</li><li>66</li></ol>\n"
            ],
            "text/markdown": "1. 24303\n2. 66\n\n\n",
            "text/latex": "\\begin{enumerate*}\n\\item 24303\n\\item 66\n\\end{enumerate*}\n",
            "text/plain": [
              "[1] 24303    66"
            ]
          },
          "metadata": {}
        }
      ],
      "source": [
        "library(tidyverse)\n",
        "tgh <- tgh %>%\n",
        "  select(Id,Country,Age,Gender,Identification_with_gender_group,starts_with(\"Roles.in.the.family\"),\n",
        "         ends_with(\"_identity\"), starts_with(\"Gender_ideology_\"), starts_with(\"GenderStereotypes_gifted_\"),\n",
        "         starts_with(\"Precarious_manhood_\"),starts_with(\"Collective_action_intentions\"),\n",
        "         starts_with(\"ZeroSum_GenderPerspective\"),starts_with(\"AmbivalentSexism\"),\n",
        "         starts_with(\"Ambivalence_toward_men\"), starts_with(\"GenderEssentialism\"),\n",
        "         starts_with(\"PowerDistanceBeliefs\"),starts_with(\"Autonomy\"),starts_with(\"Embeddedness\")) %>%\n",
        "  drop_na() %>%\n",
        "  filter(Gender %in% c(\"Male\",\"Female\"))\n",
        "head(tgh)\n",
        "dim(tgh)"
      ]
    },
    {
      "cell_type": "markdown",
      "metadata": {
        "id": "Vb-ETcasPx4T"
      },
      "source": [
        "3. Reverse scales to have all variables reflecting sexist beliefs with larger values and egalitarian beliefs with smaller values"
      ]
    },
    {
      "cell_type": "code",
      "execution_count": 5,
      "metadata": {
        "id": "2i6_nB0PQT3s"
      },
      "outputs": [],
      "source": [
        "tgh<-tgh %>%\n",
        "  mutate(Roles.in.the.family_Homemaker=10-Roles.in.the.family_Homemaker) %>% #Homemaker\n",
        "  mutate(GenderStereotypes_gifted_STEM1_gifted_in_math=8-GenderStereotypes_gifted_STEM1_gifted_in_math) %>% #Gender stereotypes in math\n",
        "  mutate(GenderStereotypes_gifted_STEM2_gifted_in_science=8-GenderStereotypes_gifted_STEM2_gifted_in_science) %>% #Gender stereotypes in science\n",
        "  mutate(Collective_action_intentions_normative1=8-Collective_action_intentions_normative1) %>% #Normative CAI 1\n",
        "  mutate(Collective_action_intentions_normative2=8-Collective_action_intentions_normative2) %>% #Normative CAI 2\n",
        "  mutate(Collective_action_intentions_radical1=8-Collective_action_intentions_radical1) %>% #Radical CAI 1\n",
        "  mutate(Collective_action_intentions_radical2=8-Collective_action_intentions_radical2) %>% #Radical CAI 2\n",
        "  mutate(Collective_action_intentions_normative_long_1=8-Collective_action_intentions_normative_long_1) %>% #Normative CAI 1 long\n",
        "  mutate(Collective_action_intentions_normative_long_2=8-Collective_action_intentions_normative_long_2) %>% #Normative CAI 2 long\n",
        "  mutate(Collective_action_intentions_normative_long_3=8-Collective_action_intentions_normative_long_3) %>% #Normative CAI 3 long\n",
        "  mutate(Collective_action_intentions_normative_long_4=8-Collective_action_intentions_normative_long_4) %>% #Normative CAI 4 long\n",
        "  mutate(Collective_action_intentions_normative_long_5=8-Collective_action_intentions_normative_long_5) %>% #Normative CAI 5 long\n",
        "  mutate(Collective_action_intentions_normative_long_6=8-Collective_action_intentions_normative_long_6) #Normative CAI 6 long"
      ]
    },
    {
      "cell_type": "markdown",
      "metadata": {
        "id": "YFT7SUGtQfSD"
      },
      "source": [
        "4. Generate new variables as composites for gender schema and observational learning (have a unique variable that reflect the range of gender schemata (feminine and masculine) and who was more likely to fulfill the roles of homemaker and financial provider while growing up."
      ]
    },
    {
      "cell_type": "code",
      "execution_count": 6,
      "metadata": {
        "id": "cH6GRfp6RTFe"
      },
      "outputs": [],
      "source": [
        "tgh<-tgh %>%\n",
        "  mutate(gen.schema=Feminine_identity-Masculine_identity) %>% #Gender schemata\n",
        "  mutate(trad.fem.schema=ifelse(Gender==\"Female\" & gen.schema>0, Feminine_identity,0)) %>% #Traditional feminine gender schema\n",
        "  mutate(trad.masc.schema=ifelse(Gender==\"Male\" & gen.schema<0,Masculine_identity,0)) %>% #Traditional masculine gender schema\n",
        "  mutate(obs.learning=(Roles.in.the.family_Fincial_provider+Roles.in.the.family_Homemaker)/2) #Observational learning"
      ]
    },
    {
      "cell_type": "markdown",
      "metadata": {
        "id": "EfreE24oS9AA"
      },
      "source": [
        "5. Create composites for each sexist belief factor that was incorporated in the original design of the dataset:\n",
        "\n",
        "*   Descriptive Stereotypes\n",
        "*   Precarious Manhood Beliefs\n",
        "*   Collective Action Intentions to Support Gender Equality\n",
        "*   Zero-Sum Perspective of Gender Status\n",
        "*   Ambivalent Sexism\n",
        "*   Ambivalence toward Men\n",
        "*   Gender essentialism\n",
        "*   Power Distance Beliefs\n",
        "*   Autonomy and Embeddedness Values\n",
        "\n",
        "For these composites, we are following the recommended statistical plan developed by the authors of the dataset, Kosakowska-Berezecka et al (2024)\n",
        "\n"
      ]
    },
    {
      "cell_type": "code",
      "execution_count": 14,
      "metadata": {
        "id": "8jYaEw6iS8bt"
      },
      "outputs": [],
      "source": [
        "tgh<- tgh %>%\n",
        "  mutate(stype.stem=(GenderStereotypes_gifted_STEM1_gifted_in_math+\n",
        "                       GenderStereotypes_gifted_STEM2_gifted_in_science)/2) %>% #Descriptive Stereotypes for math and science\n",
        "  mutate(stype.hum=(GenderStereotypes_gifted_Humanities1_gifted_in_humanities+\n",
        "                      GenderStereotypes_gifted_Humanities2_linguistically_gifted)/2) %>% #Descriptive Stereotypes for humanities and linguistics\n",
        "  mutate(pmb=(Precarious_manhood_1+Precarious_manhood_2+Precarious_manhood_3+Precarious_manhood_4)/4) %>% #Precarious Manhood Beliefs\n",
        "  mutate(cai=(Collective_action_intentions_normative1+Collective_action_intentions_normative2+\n",
        "                Collective_action_intentions_radical1+Collective_action_intentions_radical2+\n",
        "                Collective_action_intentions_normative_long_1+Collective_action_intentions_normative_long_2+\n",
        "                Collective_action_intentions_normative_long_3+Collective_action_intentions_normative_long_4+\n",
        "                Collective_action_intentions_normative_long_5+Collective_action_intentions_normative_long_6)/10) %>% #Collective Action Intentions\n",
        "  mutate(zero.sum=(ZeroSum_GenderPerspective_1+ZeroSum_GenderPerspective_2+ZeroSum_GenderPerspective_3+\n",
        "                     ZeroSum_GenderPerspective_4+ZeroSum_GenderPerspective_5+ZeroSum_GenderPerspective_6+\n",
        "                     ZeroSum_GenderPerspective_7)/7) %>% #Zero-Sum Perspective of Gender\n",
        "  mutate(amb.sex=(AmbivalentSexism_1+AmbivalentSexism_2+AmbivalentSexism_3+AmbivalentSexism_4+\n",
        "                    Ambivalence_toward_men_5+Ambivalence_toward_men_6)/6) %>% #Ambivalent Sexism\n",
        "  mutate(amb.men=(Ambivalence_toward_men_1+Ambivalence_toward_men_2+Ambivalence_toward_men_3+\n",
        "                    Ambivalence_toward_men_4+Ambivalence_toward_men_5+Ambivalence_toward_men_6)/6) %>% #Ambivalence toward Men\n",
        "  mutate(gen.ess=(GenderEssentialism_1+GenderEssentialism_2+GenderEssentialism_3)/3) %>% #Gender Essentialism\n",
        "  mutate(pdb=(PowerDistanceBeliefs_1+PowerDistanceBeliefs_2+PowerDistanceBeliefs_3+PowerDistanceBeliefs_4)/4) %>% #Power distance beliefs\n",
        "  mutate(autonomy=(Autonomy_1+Autonomy_2+Autonomy_3+Autonomy_4+Autonomy_5)/5) %>% #Autonomy\n",
        "  mutate(emb=(Embeddedness_1+Embeddedness_2+Embeddedness_3+Embeddedness_4+Embeddedness_5)/5) %>% #Embeddedness\n",
        "  mutate(sexist=(stype.stem+stype.hum+pmb+cai+zero.sum+amb.sex+gen.ess)) %>% #Generate sexist variable\n",
        "  mutate(sexist.perc=((stype.stem+stype.hum+pmb+cai+zero.sum+amb.sex+gen.ess)*100)/39) #Generate sexist as percentage"
      ]
    },
    {
      "cell_type": "markdown",
      "metadata": {
        "id": "Nm9eQU9JUGQI"
      },
      "source": [
        "6. Create a new data frame with only the new composites variables for sexist beliefs, the gender identity variables and identification variables. Visualize the first rows and the dimensionality of the new data frame"
      ]
    },
    {
      "cell_type": "code",
      "execution_count": 15,
      "metadata": {
        "colab": {
          "base_uri": "https://localhost:8080/",
          "height": 324
        },
        "id": "W91S3m1NUZ5a",
        "outputId": "374c7525-b7d0-40b8-9d98-700d74b46e5a"
      },
      "outputs": [
        {
          "output_type": "display_data",
          "data": {
            "text/html": [
              "<table class=\"dataframe\">\n",
              "<caption>A data.frame: 6 × 27</caption>\n",
              "<thead>\n",
              "\t<tr><th></th><th scope=col>Id</th><th scope=col>Country</th><th scope=col>Age</th><th scope=col>Gender</th><th scope=col>Identification_with_gender_group</th><th scope=col>gen.schema</th><th scope=col>Feminine_identity</th><th scope=col>Masculine_identity</th><th scope=col>trad.fem.schema</th><th scope=col>trad.masc.schema</th><th scope=col>⋯</th><th scope=col>zero.sum</th><th scope=col>amb.sex</th><th scope=col>amb.men</th><th scope=col>gen.ess</th><th scope=col>pdb</th><th scope=col>autonomy</th><th scope=col>emb</th><th scope=col>Gender_ideology_Men_should_prioritize</th><th scope=col>Gender_ideology_Women_should_prioritize</th><th scope=col>Gender_ideology_You_wil_prioritize</th></tr>\n",
              "\t<tr><th></th><th scope=col>&lt;int&gt;</th><th scope=col>&lt;chr&gt;</th><th scope=col>&lt;int&gt;</th><th scope=col>&lt;chr&gt;</th><th scope=col>&lt;int&gt;</th><th scope=col>&lt;int&gt;</th><th scope=col>&lt;int&gt;</th><th scope=col>&lt;int&gt;</th><th scope=col>&lt;dbl&gt;</th><th scope=col>&lt;dbl&gt;</th><th scope=col>⋯</th><th scope=col>&lt;dbl&gt;</th><th scope=col>&lt;dbl&gt;</th><th scope=col>&lt;dbl&gt;</th><th scope=col>&lt;dbl&gt;</th><th scope=col>&lt;dbl&gt;</th><th scope=col>&lt;dbl&gt;</th><th scope=col>&lt;dbl&gt;</th><th scope=col>&lt;int&gt;</th><th scope=col>&lt;int&gt;</th><th scope=col>&lt;int&gt;</th></tr>\n",
              "</thead>\n",
              "<tbody>\n",
              "\t<tr><th scope=row>1</th><td>1</td><td>Chile</td><td>46</td><td>Female</td><td>3</td><td>-1</td><td>3</td><td>4</td><td>0</td><td>0</td><td>⋯</td><td>0.8571429</td><td>1.8333333</td><td>2.0000000</td><td>5.333333</td><td>2.50</td><td>3.6</td><td>4.0</td><td> 6</td><td> 5</td><td> 5</td></tr>\n",
              "\t<tr><th scope=row>2</th><td>2</td><td>Chile</td><td>45</td><td>Female</td><td>1</td><td>-3</td><td>4</td><td>7</td><td>0</td><td>0</td><td>⋯</td><td>2.0000000</td><td>3.0000000</td><td>3.5000000</td><td>6.000000</td><td>6.00</td><td>3.8</td><td>4.2</td><td> 5</td><td> 5</td><td> 5</td></tr>\n",
              "\t<tr><th scope=row>3</th><td>3</td><td>Chile</td><td>45</td><td>Female</td><td>4</td><td> 0</td><td>7</td><td>7</td><td>0</td><td>0</td><td>⋯</td><td>0.0000000</td><td>3.3333333</td><td>3.3333333</td><td>5.000000</td><td>5.50</td><td>4.2</td><td>5.0</td><td> 5</td><td>10</td><td>10</td></tr>\n",
              "\t<tr><th scope=row>4</th><td>4</td><td>Chile</td><td>41</td><td>Female</td><td>1</td><td> 0</td><td>7</td><td>7</td><td>0</td><td>0</td><td>⋯</td><td>0.0000000</td><td>0.8333333</td><td>0.8333333</td><td>1.000000</td><td>2.50</td><td>2.6</td><td>5.0</td><td> 5</td><td> 5</td><td> 5</td></tr>\n",
              "\t<tr><th scope=row>5</th><td>6</td><td>Chile</td><td>37</td><td>Female</td><td>5</td><td> 0</td><td>7</td><td>7</td><td>0</td><td>0</td><td>⋯</td><td>0.0000000</td><td>2.5000000</td><td>4.5000000</td><td>5.000000</td><td>4.75</td><td>4.2</td><td>3.8</td><td>10</td><td> 9</td><td>10</td></tr>\n",
              "\t<tr><th scope=row>6</th><td>7</td><td>Chile</td><td>34</td><td>Male  </td><td>7</td><td> 6</td><td>7</td><td>1</td><td>0</td><td>0</td><td>⋯</td><td>0.0000000</td><td>0.0000000</td><td>0.8333333</td><td>1.000000</td><td>1.00</td><td>4.2</td><td>5.0</td><td>10</td><td>10</td><td>10</td></tr>\n",
              "</tbody>\n",
              "</table>\n"
            ],
            "text/markdown": "\nA data.frame: 6 × 27\n\n| <!--/--> | Id &lt;int&gt; | Country &lt;chr&gt; | Age &lt;int&gt; | Gender &lt;chr&gt; | Identification_with_gender_group &lt;int&gt; | gen.schema &lt;int&gt; | Feminine_identity &lt;int&gt; | Masculine_identity &lt;int&gt; | trad.fem.schema &lt;dbl&gt; | trad.masc.schema &lt;dbl&gt; | ⋯ ⋯ | zero.sum &lt;dbl&gt; | amb.sex &lt;dbl&gt; | amb.men &lt;dbl&gt; | gen.ess &lt;dbl&gt; | pdb &lt;dbl&gt; | autonomy &lt;dbl&gt; | emb &lt;dbl&gt; | Gender_ideology_Men_should_prioritize &lt;int&gt; | Gender_ideology_Women_should_prioritize &lt;int&gt; | Gender_ideology_You_wil_prioritize &lt;int&gt; |\n|---|---|---|---|---|---|---|---|---|---|---|---|---|---|---|---|---|---|---|---|---|---|\n| 1 | 1 | Chile | 46 | Female | 3 | -1 | 3 | 4 | 0 | 0 | ⋯ | 0.8571429 | 1.8333333 | 2.0000000 | 5.333333 | 2.50 | 3.6 | 4.0 |  6 |  5 |  5 |\n| 2 | 2 | Chile | 45 | Female | 1 | -3 | 4 | 7 | 0 | 0 | ⋯ | 2.0000000 | 3.0000000 | 3.5000000 | 6.000000 | 6.00 | 3.8 | 4.2 |  5 |  5 |  5 |\n| 3 | 3 | Chile | 45 | Female | 4 |  0 | 7 | 7 | 0 | 0 | ⋯ | 0.0000000 | 3.3333333 | 3.3333333 | 5.000000 | 5.50 | 4.2 | 5.0 |  5 | 10 | 10 |\n| 4 | 4 | Chile | 41 | Female | 1 |  0 | 7 | 7 | 0 | 0 | ⋯ | 0.0000000 | 0.8333333 | 0.8333333 | 1.000000 | 2.50 | 2.6 | 5.0 |  5 |  5 |  5 |\n| 5 | 6 | Chile | 37 | Female | 5 |  0 | 7 | 7 | 0 | 0 | ⋯ | 0.0000000 | 2.5000000 | 4.5000000 | 5.000000 | 4.75 | 4.2 | 3.8 | 10 |  9 | 10 |\n| 6 | 7 | Chile | 34 | Male   | 7 |  6 | 7 | 1 | 0 | 0 | ⋯ | 0.0000000 | 0.0000000 | 0.8333333 | 1.000000 | 1.00 | 4.2 | 5.0 | 10 | 10 | 10 |\n\n",
            "text/latex": "A data.frame: 6 × 27\n\\begin{tabular}{r|lllllllllllllllllllll}\n  & Id & Country & Age & Gender & Identification\\_with\\_gender\\_group & gen.schema & Feminine\\_identity & Masculine\\_identity & trad.fem.schema & trad.masc.schema & ⋯ & zero.sum & amb.sex & amb.men & gen.ess & pdb & autonomy & emb & Gender\\_ideology\\_Men\\_should\\_prioritize & Gender\\_ideology\\_Women\\_should\\_prioritize & Gender\\_ideology\\_You\\_wil\\_prioritize\\\\\n  & <int> & <chr> & <int> & <chr> & <int> & <int> & <int> & <int> & <dbl> & <dbl> & ⋯ & <dbl> & <dbl> & <dbl> & <dbl> & <dbl> & <dbl> & <dbl> & <int> & <int> & <int>\\\\\n\\hline\n\t1 & 1 & Chile & 46 & Female & 3 & -1 & 3 & 4 & 0 & 0 & ⋯ & 0.8571429 & 1.8333333 & 2.0000000 & 5.333333 & 2.50 & 3.6 & 4.0 &  6 &  5 &  5\\\\\n\t2 & 2 & Chile & 45 & Female & 1 & -3 & 4 & 7 & 0 & 0 & ⋯ & 2.0000000 & 3.0000000 & 3.5000000 & 6.000000 & 6.00 & 3.8 & 4.2 &  5 &  5 &  5\\\\\n\t3 & 3 & Chile & 45 & Female & 4 &  0 & 7 & 7 & 0 & 0 & ⋯ & 0.0000000 & 3.3333333 & 3.3333333 & 5.000000 & 5.50 & 4.2 & 5.0 &  5 & 10 & 10\\\\\n\t4 & 4 & Chile & 41 & Female & 1 &  0 & 7 & 7 & 0 & 0 & ⋯ & 0.0000000 & 0.8333333 & 0.8333333 & 1.000000 & 2.50 & 2.6 & 5.0 &  5 &  5 &  5\\\\\n\t5 & 6 & Chile & 37 & Female & 5 &  0 & 7 & 7 & 0 & 0 & ⋯ & 0.0000000 & 2.5000000 & 4.5000000 & 5.000000 & 4.75 & 4.2 & 3.8 & 10 &  9 & 10\\\\\n\t6 & 7 & Chile & 34 & Male   & 7 &  6 & 7 & 1 & 0 & 0 & ⋯ & 0.0000000 & 0.0000000 & 0.8333333 & 1.000000 & 1.00 & 4.2 & 5.0 & 10 & 10 & 10\\\\\n\\end{tabular}\n",
            "text/plain": [
              "  Id Country Age Gender Identification_with_gender_group gen.schema\n",
              "1 1  Chile   46  Female 3                                -1        \n",
              "2 2  Chile   45  Female 1                                -3        \n",
              "3 3  Chile   45  Female 4                                 0        \n",
              "4 4  Chile   41  Female 1                                 0        \n",
              "5 6  Chile   37  Female 5                                 0        \n",
              "6 7  Chile   34  Male   7                                 6        \n",
              "  Feminine_identity Masculine_identity trad.fem.schema trad.masc.schema ⋯\n",
              "1 3                 4                  0               0                ⋯\n",
              "2 4                 7                  0               0                ⋯\n",
              "3 7                 7                  0               0                ⋯\n",
              "4 7                 7                  0               0                ⋯\n",
              "5 7                 7                  0               0                ⋯\n",
              "6 7                 1                  0               0                ⋯\n",
              "  zero.sum  amb.sex   amb.men   gen.ess  pdb  autonomy emb\n",
              "1 0.8571429 1.8333333 2.0000000 5.333333 2.50 3.6      4.0\n",
              "2 2.0000000 3.0000000 3.5000000 6.000000 6.00 3.8      4.2\n",
              "3 0.0000000 3.3333333 3.3333333 5.000000 5.50 4.2      5.0\n",
              "4 0.0000000 0.8333333 0.8333333 1.000000 2.50 2.6      5.0\n",
              "5 0.0000000 2.5000000 4.5000000 5.000000 4.75 4.2      3.8\n",
              "6 0.0000000 0.0000000 0.8333333 1.000000 1.00 4.2      5.0\n",
              "  Gender_ideology_Men_should_prioritize Gender_ideology_Women_should_prioritize\n",
              "1  6                                     5                                     \n",
              "2  5                                     5                                     \n",
              "3  5                                    10                                     \n",
              "4  5                                     5                                     \n",
              "5 10                                     9                                     \n",
              "6 10                                    10                                     \n",
              "  Gender_ideology_You_wil_prioritize\n",
              "1  5                                \n",
              "2  5                                \n",
              "3 10                                \n",
              "4  5                                \n",
              "5 10                                \n",
              "6 10                                "
            ]
          },
          "metadata": {}
        },
        {
          "output_type": "display_data",
          "data": {
            "text/html": [
              "<style>\n",
              ".list-inline {list-style: none; margin:0; padding: 0}\n",
              ".list-inline>li {display: inline-block}\n",
              ".list-inline>li:not(:last-child)::after {content: \"\\00b7\"; padding: 0 .5ex}\n",
              "</style>\n",
              "<ol class=list-inline><li>24303</li><li>27</li></ol>\n"
            ],
            "text/markdown": "1. 24303\n2. 27\n\n\n",
            "text/latex": "\\begin{enumerate*}\n\\item 24303\n\\item 27\n\\end{enumerate*}\n",
            "text/plain": [
              "[1] 24303    27"
            ]
          },
          "metadata": {}
        }
      ],
      "source": [
        "tgh1<-tgh %>%\n",
        "  select(Id,Country,Age,Gender,Identification_with_gender_group,gen.schema,ends_with(\"_identity\"),\n",
        "         trad.fem.schema,trad.masc.schema,obs.learning,sexist,sexist.perc,stype.stem,stype.hum,pmb,\n",
        "         cai,zero.sum,amb.sex,amb.men,gen.ess,pdb,autonomy,emb,starts_with(\"Gender_ideology_\"))\n",
        "head(tgh1)\n",
        "dim(tgh1)"
      ]
    },
    {
      "cell_type": "markdown",
      "source": [
        "The original dataset is comprised of 33,313 observations with 287 variables. After eliminating observations with missing values and those that do not self-identify as male or female, we reduced the dimensionality of the dataset of 24,303 observations. We also selected those variables of interest to our study, which decreased the number of variables from 287 to 66. After creating the factor composites, the structure of the final dataset has 24,303 observations and 27 variables. Most of these variables are numeric or ordinal. The only two nominal variables are Gender (binary) and Country (which observed the labels of all 62 countries from which the data was obtained)."
      ],
      "metadata": {
        "id": "MdR8nfSyM90b"
      }
    },
    {
      "cell_type": "markdown",
      "metadata": {
        "id": "ygNW8HePSPRg"
      },
      "source": [
        "## **Statistical Analysis**\n",
        "\n",
        "Steps:\n",
        "\n",
        "1. Distribution analysis for sexist beliefs and gender identity variables\n",
        "\n",
        "1. Correlational analysis\n",
        "\n",
        "2. Principal component analysis (PCA)\n",
        "\n",
        "5. Linear regression model for theory contrast analysis\n",
        "\n",
        "6. Mediation analysis\n",
        "\n",
        "8. Moderation analysis\n"
      ]
    },
    {
      "cell_type": "markdown",
      "metadata": {
        "id": "hz9FHWYxnzcW"
      },
      "source": [
        "### **1. Distribution analysis for sexist beliefs and gender identity variables**\n",
        "\n",
        "Purpose: Observe the distribution of the variables of interest to assess whether the dataset has enough variability to understand the relationship between gender, gender schema, social cognition as predictors of sexist beliefs and gender roles.\n",
        "\n",
        "*   Obtain summary distribution of measures\n",
        "*    Check for normality and skewness"
      ]
    },
    {
      "cell_type": "code",
      "execution_count": 8,
      "metadata": {
        "colab": {
          "base_uri": "https://localhost:8080/",
          "height": 895
        },
        "id": "h_4sOL22nvrk",
        "outputId": "f2ded260-2b01-40c0-8be0-9dbf015696dd"
      },
      "outputs": [
        {
          "output_type": "stream",
          "name": "stderr",
          "text": [
            "Installing package into ‘/usr/local/lib/R/site-library’\n",
            "(as ‘lib’ is unspecified)\n",
            "\n",
            "Installing package into ‘/usr/local/lib/R/site-library’\n",
            "(as ‘lib’ is unspecified)\n",
            "\n"
          ]
        },
        {
          "output_type": "display_data",
          "data": {
            "text/html": [
              "<table class=\"dataframe\">\n",
              "<caption>A matrix: 23 × 8 of type dbl</caption>\n",
              "<thead>\n",
              "\t<tr><th></th><th scope=col>Min.</th><th scope=col>1st Qu.</th><th scope=col>Median</th><th scope=col>Mean</th><th scope=col>3rd Qu.</th><th scope=col>Max.</th><th scope=col>Lillie.p</th><th scope=col>Skewness</th></tr>\n",
              "</thead>\n",
              "<tbody>\n",
              "\t<tr><th scope=row>Identification_with_gender_group</th><td> 1.000</td><td> 3.000</td><td> 5.000</td><td> 4.655</td><td> 6.000</td><td>  7.000</td><td>0</td><td>-0.507</td></tr>\n",
              "\t<tr><th scope=row>gen.schema</th><td>-6.000</td><td>-2.000</td><td> 1.000</td><td> 0.819</td><td> 4.000</td><td>  6.000</td><td>0</td><td>-0.334</td></tr>\n",
              "\t<tr><th scope=row>Feminine_identity</th><td> 1.000</td><td> 3.000</td><td> 5.000</td><td> 4.352</td><td> 6.000</td><td>  7.000</td><td>0</td><td>-0.324</td></tr>\n",
              "\t<tr><th scope=row>Masculine_identity</th><td> 1.000</td><td> 2.000</td><td> 3.000</td><td> 3.533</td><td> 5.000</td><td>  7.000</td><td>0</td><td> 0.277</td></tr>\n",
              "\t<tr><th scope=row>trad.fem.schema</th><td> 0.000</td><td> 0.000</td><td> 4.000</td><td> 2.999</td><td> 6.000</td><td>  7.000</td><td>0</td><td> 0.103</td></tr>\n",
              "\t<tr><th scope=row>trad.masc.schema</th><td> 0.000</td><td> 0.000</td><td> 0.000</td><td> 1.680</td><td> 5.000</td><td>  7.000</td><td>0</td><td> 1.052</td></tr>\n",
              "\t<tr><th scope=row>obs.learning</th><td>-4.000</td><td> 5.000</td><td> 6.000</td><td> 6.004</td><td> 7.500</td><td> 12.500</td><td>0</td><td>-0.496</td></tr>\n",
              "\t<tr><th scope=row>sexist</th><td> 5.833</td><td>18.783</td><td>22.286</td><td>22.079</td><td>25.446</td><td> 40.586</td><td>0</td><td>-0.093</td></tr>\n",
              "\t<tr><th scope=row>sexist.perc</th><td>14.957</td><td>48.162</td><td>57.143</td><td>56.614</td><td>65.247</td><td>104.066</td><td>0</td><td>-0.093</td></tr>\n",
              "\t<tr><th scope=row>stype.stem</th><td> 1.000</td><td> 2.000</td><td> 3.000</td><td> 3.120</td><td> 4.000</td><td>  7.000</td><td>0</td><td> 0.461</td></tr>\n",
              "\t<tr><th scope=row>stype.hum</th><td> 1.000</td><td> 2.500</td><td> 3.000</td><td> 3.193</td><td> 4.000</td><td>  7.000</td><td>0</td><td> 0.436</td></tr>\n",
              "\t<tr><th scope=row>pmb</th><td> 1.000</td><td> 3.000</td><td> 4.000</td><td> 4.108</td><td> 5.000</td><td>  7.000</td><td>0</td><td>-0.047</td></tr>\n",
              "\t<tr><th scope=row>cai</th><td> 1.000</td><td> 3.100</td><td> 4.200</td><td> 4.252</td><td> 5.500</td><td>  7.000</td><td>0</td><td>-0.050</td></tr>\n",
              "\t<tr><th scope=row>zero.sum</th><td> 0.000</td><td> 0.143</td><td> 0.857</td><td> 1.045</td><td> 1.714</td><td>  5.000</td><td>0</td><td> 1.044</td></tr>\n",
              "\t<tr><th scope=row>amb.sex</th><td> 0.000</td><td> 1.333</td><td> 2.167</td><td> 2.151</td><td> 2.833</td><td>  5.000</td><td>0</td><td> 0.164</td></tr>\n",
              "\t<tr><th scope=row>amb.men</th><td> 0.000</td><td> 1.333</td><td> 2.167</td><td> 2.133</td><td> 2.833</td><td>  5.000</td><td>0</td><td> 0.244</td></tr>\n",
              "\t<tr><th scope=row>gen.ess</th><td> 1.000</td><td> 3.000</td><td> 4.333</td><td> 4.209</td><td> 5.333</td><td>  7.000</td><td>0</td><td>-0.209</td></tr>\n",
              "\t<tr><th scope=row>pdb</th><td> 1.000</td><td> 2.500</td><td> 3.250</td><td> 3.428</td><td> 4.250</td><td>  7.000</td><td>0</td><td> 0.336</td></tr>\n",
              "\t<tr><th scope=row>autonomy</th><td> 1.000</td><td> 3.200</td><td> 3.800</td><td> 3.876</td><td> 4.400</td><td>  6.000</td><td>0</td><td>-0.061</td></tr>\n",
              "\t<tr><th scope=row>emb</th><td> 1.000</td><td> 3.800</td><td> 4.400</td><td> 4.351</td><td> 5.000</td><td>  6.000</td><td>0</td><td>-0.394</td></tr>\n",
              "\t<tr><th scope=row>Gender_ideology_Men_should_prioritize</th><td> 0.000</td><td> 5.000</td><td> 5.000</td><td> 5.163</td><td> 5.000</td><td> 10.000</td><td>0</td><td> 0.277</td></tr>\n",
              "\t<tr><th scope=row>Gender_ideology_Women_should_prioritize</th><td> 0.000</td><td> 4.000</td><td> 5.000</td><td> 4.865</td><td> 5.000</td><td> 10.000</td><td>0</td><td> 0.179</td></tr>\n",
              "\t<tr><th scope=row>Gender_ideology_You_wil_prioritize</th><td> 0.000</td><td> 4.000</td><td> 5.000</td><td> 5.534</td><td> 7.000</td><td> 10.000</td><td>0</td><td> 0.045</td></tr>\n",
              "</tbody>\n",
              "</table>\n"
            ],
            "text/markdown": "\nA matrix: 23 × 8 of type dbl\n\n| <!--/--> | Min. | 1st Qu. | Median | Mean | 3rd Qu. | Max. | Lillie.p | Skewness |\n|---|---|---|---|---|---|---|---|---|\n| Identification_with_gender_group |  1.000 |  3.000 |  5.000 |  4.655 |  6.000 |   7.000 | 0 | -0.507 |\n| gen.schema | -6.000 | -2.000 |  1.000 |  0.819 |  4.000 |   6.000 | 0 | -0.334 |\n| Feminine_identity |  1.000 |  3.000 |  5.000 |  4.352 |  6.000 |   7.000 | 0 | -0.324 |\n| Masculine_identity |  1.000 |  2.000 |  3.000 |  3.533 |  5.000 |   7.000 | 0 |  0.277 |\n| trad.fem.schema |  0.000 |  0.000 |  4.000 |  2.999 |  6.000 |   7.000 | 0 |  0.103 |\n| trad.masc.schema |  0.000 |  0.000 |  0.000 |  1.680 |  5.000 |   7.000 | 0 |  1.052 |\n| obs.learning | -4.000 |  5.000 |  6.000 |  6.004 |  7.500 |  12.500 | 0 | -0.496 |\n| sexist |  5.833 | 18.783 | 22.286 | 22.079 | 25.446 |  40.586 | 0 | -0.093 |\n| sexist.perc | 14.957 | 48.162 | 57.143 | 56.614 | 65.247 | 104.066 | 0 | -0.093 |\n| stype.stem |  1.000 |  2.000 |  3.000 |  3.120 |  4.000 |   7.000 | 0 |  0.461 |\n| stype.hum |  1.000 |  2.500 |  3.000 |  3.193 |  4.000 |   7.000 | 0 |  0.436 |\n| pmb |  1.000 |  3.000 |  4.000 |  4.108 |  5.000 |   7.000 | 0 | -0.047 |\n| cai |  1.000 |  3.100 |  4.200 |  4.252 |  5.500 |   7.000 | 0 | -0.050 |\n| zero.sum |  0.000 |  0.143 |  0.857 |  1.045 |  1.714 |   5.000 | 0 |  1.044 |\n| amb.sex |  0.000 |  1.333 |  2.167 |  2.151 |  2.833 |   5.000 | 0 |  0.164 |\n| amb.men |  0.000 |  1.333 |  2.167 |  2.133 |  2.833 |   5.000 | 0 |  0.244 |\n| gen.ess |  1.000 |  3.000 |  4.333 |  4.209 |  5.333 |   7.000 | 0 | -0.209 |\n| pdb |  1.000 |  2.500 |  3.250 |  3.428 |  4.250 |   7.000 | 0 |  0.336 |\n| autonomy |  1.000 |  3.200 |  3.800 |  3.876 |  4.400 |   6.000 | 0 | -0.061 |\n| emb |  1.000 |  3.800 |  4.400 |  4.351 |  5.000 |   6.000 | 0 | -0.394 |\n| Gender_ideology_Men_should_prioritize |  0.000 |  5.000 |  5.000 |  5.163 |  5.000 |  10.000 | 0 |  0.277 |\n| Gender_ideology_Women_should_prioritize |  0.000 |  4.000 |  5.000 |  4.865 |  5.000 |  10.000 | 0 |  0.179 |\n| Gender_ideology_You_wil_prioritize |  0.000 |  4.000 |  5.000 |  5.534 |  7.000 |  10.000 | 0 |  0.045 |\n\n",
            "text/latex": "A matrix: 23 × 8 of type dbl\n\\begin{tabular}{r|llllllll}\n  & Min. & 1st Qu. & Median & Mean & 3rd Qu. & Max. & Lillie.p & Skewness\\\\\n\\hline\n\tIdentification\\_with\\_gender\\_group &  1.000 &  3.000 &  5.000 &  4.655 &  6.000 &   7.000 & 0 & -0.507\\\\\n\tgen.schema & -6.000 & -2.000 &  1.000 &  0.819 &  4.000 &   6.000 & 0 & -0.334\\\\\n\tFeminine\\_identity &  1.000 &  3.000 &  5.000 &  4.352 &  6.000 &   7.000 & 0 & -0.324\\\\\n\tMasculine\\_identity &  1.000 &  2.000 &  3.000 &  3.533 &  5.000 &   7.000 & 0 &  0.277\\\\\n\ttrad.fem.schema &  0.000 &  0.000 &  4.000 &  2.999 &  6.000 &   7.000 & 0 &  0.103\\\\\n\ttrad.masc.schema &  0.000 &  0.000 &  0.000 &  1.680 &  5.000 &   7.000 & 0 &  1.052\\\\\n\tobs.learning & -4.000 &  5.000 &  6.000 &  6.004 &  7.500 &  12.500 & 0 & -0.496\\\\\n\tsexist &  5.833 & 18.783 & 22.286 & 22.079 & 25.446 &  40.586 & 0 & -0.093\\\\\n\tsexist.perc & 14.957 & 48.162 & 57.143 & 56.614 & 65.247 & 104.066 & 0 & -0.093\\\\\n\tstype.stem &  1.000 &  2.000 &  3.000 &  3.120 &  4.000 &   7.000 & 0 &  0.461\\\\\n\tstype.hum &  1.000 &  2.500 &  3.000 &  3.193 &  4.000 &   7.000 & 0 &  0.436\\\\\n\tpmb &  1.000 &  3.000 &  4.000 &  4.108 &  5.000 &   7.000 & 0 & -0.047\\\\\n\tcai &  1.000 &  3.100 &  4.200 &  4.252 &  5.500 &   7.000 & 0 & -0.050\\\\\n\tzero.sum &  0.000 &  0.143 &  0.857 &  1.045 &  1.714 &   5.000 & 0 &  1.044\\\\\n\tamb.sex &  0.000 &  1.333 &  2.167 &  2.151 &  2.833 &   5.000 & 0 &  0.164\\\\\n\tamb.men &  0.000 &  1.333 &  2.167 &  2.133 &  2.833 &   5.000 & 0 &  0.244\\\\\n\tgen.ess &  1.000 &  3.000 &  4.333 &  4.209 &  5.333 &   7.000 & 0 & -0.209\\\\\n\tpdb &  1.000 &  2.500 &  3.250 &  3.428 &  4.250 &   7.000 & 0 &  0.336\\\\\n\tautonomy &  1.000 &  3.200 &  3.800 &  3.876 &  4.400 &   6.000 & 0 & -0.061\\\\\n\temb &  1.000 &  3.800 &  4.400 &  4.351 &  5.000 &   6.000 & 0 & -0.394\\\\\n\tGender\\_ideology\\_Men\\_should\\_prioritize &  0.000 &  5.000 &  5.000 &  5.163 &  5.000 &  10.000 & 0 &  0.277\\\\\n\tGender\\_ideology\\_Women\\_should\\_prioritize &  0.000 &  4.000 &  5.000 &  4.865 &  5.000 &  10.000 & 0 &  0.179\\\\\n\tGender\\_ideology\\_You\\_wil\\_prioritize &  0.000 &  4.000 &  5.000 &  5.534 &  7.000 &  10.000 & 0 &  0.045\\\\\n\\end{tabular}\n",
            "text/plain": [
              "                                        Min.   1st Qu. Median Mean   3rd Qu.\n",
              "Identification_with_gender_group         1.000  3.000   5.000  4.655  6.000 \n",
              "gen.schema                              -6.000 -2.000   1.000  0.819  4.000 \n",
              "Feminine_identity                        1.000  3.000   5.000  4.352  6.000 \n",
              "Masculine_identity                       1.000  2.000   3.000  3.533  5.000 \n",
              "trad.fem.schema                          0.000  0.000   4.000  2.999  6.000 \n",
              "trad.masc.schema                         0.000  0.000   0.000  1.680  5.000 \n",
              "obs.learning                            -4.000  5.000   6.000  6.004  7.500 \n",
              "sexist                                   5.833 18.783  22.286 22.079 25.446 \n",
              "sexist.perc                             14.957 48.162  57.143 56.614 65.247 \n",
              "stype.stem                               1.000  2.000   3.000  3.120  4.000 \n",
              "stype.hum                                1.000  2.500   3.000  3.193  4.000 \n",
              "pmb                                      1.000  3.000   4.000  4.108  5.000 \n",
              "cai                                      1.000  3.100   4.200  4.252  5.500 \n",
              "zero.sum                                 0.000  0.143   0.857  1.045  1.714 \n",
              "amb.sex                                  0.000  1.333   2.167  2.151  2.833 \n",
              "amb.men                                  0.000  1.333   2.167  2.133  2.833 \n",
              "gen.ess                                  1.000  3.000   4.333  4.209  5.333 \n",
              "pdb                                      1.000  2.500   3.250  3.428  4.250 \n",
              "autonomy                                 1.000  3.200   3.800  3.876  4.400 \n",
              "emb                                      1.000  3.800   4.400  4.351  5.000 \n",
              "Gender_ideology_Men_should_prioritize    0.000  5.000   5.000  5.163  5.000 \n",
              "Gender_ideology_Women_should_prioritize  0.000  4.000   5.000  4.865  5.000 \n",
              "Gender_ideology_You_wil_prioritize       0.000  4.000   5.000  5.534  7.000 \n",
              "                                        Max.    Lillie.p Skewness\n",
              "Identification_with_gender_group          7.000 0        -0.507  \n",
              "gen.schema                                6.000 0        -0.334  \n",
              "Feminine_identity                         7.000 0        -0.324  \n",
              "Masculine_identity                        7.000 0         0.277  \n",
              "trad.fem.schema                           7.000 0         0.103  \n",
              "trad.masc.schema                          7.000 0         1.052  \n",
              "obs.learning                             12.500 0        -0.496  \n",
              "sexist                                   40.586 0        -0.093  \n",
              "sexist.perc                             104.066 0        -0.093  \n",
              "stype.stem                                7.000 0         0.461  \n",
              "stype.hum                                 7.000 0         0.436  \n",
              "pmb                                       7.000 0        -0.047  \n",
              "cai                                       7.000 0        -0.050  \n",
              "zero.sum                                  5.000 0         1.044  \n",
              "amb.sex                                   5.000 0         0.164  \n",
              "amb.men                                   5.000 0         0.244  \n",
              "gen.ess                                   7.000 0        -0.209  \n",
              "pdb                                       7.000 0         0.336  \n",
              "autonomy                                  6.000 0        -0.061  \n",
              "emb                                       6.000 0        -0.394  \n",
              "Gender_ideology_Men_should_prioritize    10.000 0         0.277  \n",
              "Gender_ideology_Women_should_prioritize  10.000 0         0.179  \n",
              "Gender_ideology_You_wil_prioritize       10.000 0         0.045  "
            ]
          },
          "metadata": {}
        }
      ],
      "source": [
        "#Load nortest and moments libraries\n",
        "install.packages(\"nortest\")\n",
        "install.packages(\"moments\")\n",
        "library(nortest)\n",
        "library(moments)\n",
        "#Make a table of summary distribution\n",
        "dist.table.tgh<-round(t(do.call(cbind,lapply(tgh1[,5:27],summary))), digits=3)\n",
        "#Normality\n",
        "lillie.pvalues <- round(sapply(tgh1[, 5:27], function(x) lillie.test(x)$p.value),digits=3)\n",
        "dist.table.tgh <- cbind(dist.table.tgh, Lillie.p = lillie.pvalues)\n",
        "#Skewness\n",
        "skewness.values <- round(sapply(tgh1[, 5:27], skewness),digits=3)\n",
        "dist.table.tgh <- cbind(dist.table.tgh, Skewness = skewness.values)\n",
        "dist.table.tgh"
      ]
    },
    {
      "cell_type": "markdown",
      "source": [
        "None of the variables is normally distributed, all presenting some level of skewness. The variables with higher levels of skewness are trad.masc.schema (1.05), zero.sum (1.04), and Identification_with_gender_group (-0.51). From the latter,we conclude that all dependent and independent variables present a wide range of variability, with observations distributed across the full measured scale."
      ],
      "metadata": {
        "id": "9ZWx9C4788Pf"
      }
    },
    {
      "cell_type": "markdown",
      "metadata": {
        "id": "sBW2r-I4WPHJ"
      },
      "source": [
        "### **2. Correlational analysis**\n",
        "\n",
        "Purpose: Explore if the factors corresponding to different representations of sexist beliefs, perceptions, and construals specified in the dataset are correlated, or if they measure distinct sexist beliefs.\n",
        "\n",
        "\n",
        "*   Calculate correlations between sexist beliefs, perceptions and roles variables"
      ]
    },
    {
      "cell_type": "code",
      "execution_count": 29,
      "metadata": {
        "colab": {
          "base_uri": "https://localhost:8080/",
          "height": 957
        },
        "id": "tHT0Gwz1WoqC",
        "outputId": "a475dda8-fe17-4892-b1b8-800dc84dcda3"
      },
      "outputs": [
        {
          "output_type": "stream",
          "name": "stderr",
          "text": [
            "Installing package into ‘/usr/local/lib/R/site-library’\n",
            "(as ‘lib’ is unspecified)\n",
            "\n"
          ]
        },
        {
          "output_type": "display_data",
          "data": {
            "text/html": [
              "<table class=\"dataframe\">\n",
              "<caption>A matrix: 11 × 11 of type dbl</caption>\n",
              "<thead>\n",
              "\t<tr><th></th><th scope=col>stype.stem</th><th scope=col>stype.hum</th><th scope=col>pmb</th><th scope=col>cai</th><th scope=col>zero.sum</th><th scope=col>amb.sex</th><th scope=col>amb.men</th><th scope=col>gen.ess</th><th scope=col>pdb</th><th scope=col>autonomy</th><th scope=col>emb</th></tr>\n",
              "</thead>\n",
              "<tbody>\n",
              "\t<tr><th scope=row>stype.stem</th><td> 1.000000000</td><td> 0.276815508</td><td>-0.03354020</td><td> 0.071353271</td><td> 0.01498021</td><td>0.006021269</td><td>-0.03525999</td><td>0.03195029</td><td>0.05817948</td><td>-0.02395932</td><td>-0.09393988</td></tr>\n",
              "\t<tr><th scope=row>stype.hum</th><td> 0.276815508</td><td> 1.000000000</td><td>-0.03323522</td><td>-0.004915992</td><td> 0.07078956</td><td>0.026253986</td><td> 0.02434521</td><td>0.01545463</td><td>0.07842094</td><td> 0.05407280</td><td> 0.01924807</td></tr>\n",
              "\t<tr><th scope=row>pmb</th><td>-0.033540205</td><td>-0.033235220</td><td> 1.00000000</td><td> 0.031532839</td><td> 0.19494406</td><td>0.396947562</td><td> 0.36777462</td><td>0.29145721</td><td>0.23863176</td><td> 0.13196382</td><td> 0.06877481</td></tr>\n",
              "\t<tr><th scope=row>cai</th><td> 0.071353271</td><td>-0.004915992</td><td> 0.03153284</td><td> 1.000000000</td><td> 0.22472463</td><td>0.144773136</td><td> 0.04947899</td><td>0.28003945</td><td>0.14693783</td><td>-0.12528553</td><td>-0.29493334</td></tr>\n",
              "\t<tr><th scope=row>zero.sum</th><td> 0.014980208</td><td> 0.070789563</td><td> 0.19494406</td><td> 0.224724633</td><td> 1.00000000</td><td>0.378325883</td><td> 0.33144506</td><td>0.29122012</td><td>0.30149357</td><td> 0.05142476</td><td>-0.09130713</td></tr>\n",
              "\t<tr><th scope=row>amb.sex</th><td> 0.006021269</td><td> 0.026253986</td><td> 0.39694756</td><td> 0.144773136</td><td> 0.37832588</td><td>1.000000000</td><td> 0.80673937</td><td>0.50259270</td><td>0.41577268</td><td> 0.19431877</td><td> 0.11715487</td></tr>\n",
              "\t<tr><th scope=row>amb.men</th><td>-0.035259989</td><td> 0.024345205</td><td> 0.36777462</td><td> 0.049478986</td><td> 0.33144506</td><td>0.806739370</td><td> 1.00000000</td><td>0.43424983</td><td>0.39158881</td><td> 0.18988137</td><td> 0.14964053</td></tr>\n",
              "\t<tr><th scope=row>gen.ess</th><td> 0.031950288</td><td> 0.015454629</td><td> 0.29145721</td><td> 0.280039450</td><td> 0.29122012</td><td>0.502592703</td><td> 0.43424983</td><td>1.00000000</td><td>0.38537607</td><td> 0.13391652</td><td> 0.04616411</td></tr>\n",
              "\t<tr><th scope=row>pdb</th><td> 0.058179482</td><td> 0.078420935</td><td> 0.23863176</td><td> 0.146937833</td><td> 0.30149357</td><td>0.415772681</td><td> 0.39158881</td><td>0.38537607</td><td>1.00000000</td><td> 0.18659930</td><td> 0.09676618</td></tr>\n",
              "\t<tr><th scope=row>autonomy</th><td>-0.023959317</td><td> 0.054072805</td><td> 0.13196382</td><td>-0.125285529</td><td> 0.05142476</td><td>0.194318769</td><td> 0.18988137</td><td>0.13391652</td><td>0.18659930</td><td> 1.00000000</td><td> 0.23374265</td></tr>\n",
              "\t<tr><th scope=row>emb</th><td>-0.093939884</td><td> 0.019248067</td><td> 0.06877481</td><td>-0.294933339</td><td>-0.09130713</td><td>0.117154868</td><td> 0.14964053</td><td>0.04616411</td><td>0.09676618</td><td> 0.23374265</td><td> 1.00000000</td></tr>\n",
              "</tbody>\n",
              "</table>\n"
            ],
            "text/markdown": "\nA matrix: 11 × 11 of type dbl\n\n| <!--/--> | stype.stem | stype.hum | pmb | cai | zero.sum | amb.sex | amb.men | gen.ess | pdb | autonomy | emb |\n|---|---|---|---|---|---|---|---|---|---|---|---|\n| stype.stem |  1.000000000 |  0.276815508 | -0.03354020 |  0.071353271 |  0.01498021 | 0.006021269 | -0.03525999 | 0.03195029 | 0.05817948 | -0.02395932 | -0.09393988 |\n| stype.hum |  0.276815508 |  1.000000000 | -0.03323522 | -0.004915992 |  0.07078956 | 0.026253986 |  0.02434521 | 0.01545463 | 0.07842094 |  0.05407280 |  0.01924807 |\n| pmb | -0.033540205 | -0.033235220 |  1.00000000 |  0.031532839 |  0.19494406 | 0.396947562 |  0.36777462 | 0.29145721 | 0.23863176 |  0.13196382 |  0.06877481 |\n| cai |  0.071353271 | -0.004915992 |  0.03153284 |  1.000000000 |  0.22472463 | 0.144773136 |  0.04947899 | 0.28003945 | 0.14693783 | -0.12528553 | -0.29493334 |\n| zero.sum |  0.014980208 |  0.070789563 |  0.19494406 |  0.224724633 |  1.00000000 | 0.378325883 |  0.33144506 | 0.29122012 | 0.30149357 |  0.05142476 | -0.09130713 |\n| amb.sex |  0.006021269 |  0.026253986 |  0.39694756 |  0.144773136 |  0.37832588 | 1.000000000 |  0.80673937 | 0.50259270 | 0.41577268 |  0.19431877 |  0.11715487 |\n| amb.men | -0.035259989 |  0.024345205 |  0.36777462 |  0.049478986 |  0.33144506 | 0.806739370 |  1.00000000 | 0.43424983 | 0.39158881 |  0.18988137 |  0.14964053 |\n| gen.ess |  0.031950288 |  0.015454629 |  0.29145721 |  0.280039450 |  0.29122012 | 0.502592703 |  0.43424983 | 1.00000000 | 0.38537607 |  0.13391652 |  0.04616411 |\n| pdb |  0.058179482 |  0.078420935 |  0.23863176 |  0.146937833 |  0.30149357 | 0.415772681 |  0.39158881 | 0.38537607 | 1.00000000 |  0.18659930 |  0.09676618 |\n| autonomy | -0.023959317 |  0.054072805 |  0.13196382 | -0.125285529 |  0.05142476 | 0.194318769 |  0.18988137 | 0.13391652 | 0.18659930 |  1.00000000 |  0.23374265 |\n| emb | -0.093939884 |  0.019248067 |  0.06877481 | -0.294933339 | -0.09130713 | 0.117154868 |  0.14964053 | 0.04616411 | 0.09676618 |  0.23374265 |  1.00000000 |\n\n",
            "text/latex": "A matrix: 11 × 11 of type dbl\n\\begin{tabular}{r|lllllllllll}\n  & stype.stem & stype.hum & pmb & cai & zero.sum & amb.sex & amb.men & gen.ess & pdb & autonomy & emb\\\\\n\\hline\n\tstype.stem &  1.000000000 &  0.276815508 & -0.03354020 &  0.071353271 &  0.01498021 & 0.006021269 & -0.03525999 & 0.03195029 & 0.05817948 & -0.02395932 & -0.09393988\\\\\n\tstype.hum &  0.276815508 &  1.000000000 & -0.03323522 & -0.004915992 &  0.07078956 & 0.026253986 &  0.02434521 & 0.01545463 & 0.07842094 &  0.05407280 &  0.01924807\\\\\n\tpmb & -0.033540205 & -0.033235220 &  1.00000000 &  0.031532839 &  0.19494406 & 0.396947562 &  0.36777462 & 0.29145721 & 0.23863176 &  0.13196382 &  0.06877481\\\\\n\tcai &  0.071353271 & -0.004915992 &  0.03153284 &  1.000000000 &  0.22472463 & 0.144773136 &  0.04947899 & 0.28003945 & 0.14693783 & -0.12528553 & -0.29493334\\\\\n\tzero.sum &  0.014980208 &  0.070789563 &  0.19494406 &  0.224724633 &  1.00000000 & 0.378325883 &  0.33144506 & 0.29122012 & 0.30149357 &  0.05142476 & -0.09130713\\\\\n\tamb.sex &  0.006021269 &  0.026253986 &  0.39694756 &  0.144773136 &  0.37832588 & 1.000000000 &  0.80673937 & 0.50259270 & 0.41577268 &  0.19431877 &  0.11715487\\\\\n\tamb.men & -0.035259989 &  0.024345205 &  0.36777462 &  0.049478986 &  0.33144506 & 0.806739370 &  1.00000000 & 0.43424983 & 0.39158881 &  0.18988137 &  0.14964053\\\\\n\tgen.ess &  0.031950288 &  0.015454629 &  0.29145721 &  0.280039450 &  0.29122012 & 0.502592703 &  0.43424983 & 1.00000000 & 0.38537607 &  0.13391652 &  0.04616411\\\\\n\tpdb &  0.058179482 &  0.078420935 &  0.23863176 &  0.146937833 &  0.30149357 & 0.415772681 &  0.39158881 & 0.38537607 & 1.00000000 &  0.18659930 &  0.09676618\\\\\n\tautonomy & -0.023959317 &  0.054072805 &  0.13196382 & -0.125285529 &  0.05142476 & 0.194318769 &  0.18988137 & 0.13391652 & 0.18659930 &  1.00000000 &  0.23374265\\\\\n\temb & -0.093939884 &  0.019248067 &  0.06877481 & -0.294933339 & -0.09130713 & 0.117154868 &  0.14964053 & 0.04616411 & 0.09676618 &  0.23374265 &  1.00000000\\\\\n\\end{tabular}\n",
            "text/plain": [
              "           stype.stem   stype.hum    pmb         cai          zero.sum   \n",
              "stype.stem  1.000000000  0.276815508 -0.03354020  0.071353271  0.01498021\n",
              "stype.hum   0.276815508  1.000000000 -0.03323522 -0.004915992  0.07078956\n",
              "pmb        -0.033540205 -0.033235220  1.00000000  0.031532839  0.19494406\n",
              "cai         0.071353271 -0.004915992  0.03153284  1.000000000  0.22472463\n",
              "zero.sum    0.014980208  0.070789563  0.19494406  0.224724633  1.00000000\n",
              "amb.sex     0.006021269  0.026253986  0.39694756  0.144773136  0.37832588\n",
              "amb.men    -0.035259989  0.024345205  0.36777462  0.049478986  0.33144506\n",
              "gen.ess     0.031950288  0.015454629  0.29145721  0.280039450  0.29122012\n",
              "pdb         0.058179482  0.078420935  0.23863176  0.146937833  0.30149357\n",
              "autonomy   -0.023959317  0.054072805  0.13196382 -0.125285529  0.05142476\n",
              "emb        -0.093939884  0.019248067  0.06877481 -0.294933339 -0.09130713\n",
              "           amb.sex     amb.men     gen.ess    pdb        autonomy   \n",
              "stype.stem 0.006021269 -0.03525999 0.03195029 0.05817948 -0.02395932\n",
              "stype.hum  0.026253986  0.02434521 0.01545463 0.07842094  0.05407280\n",
              "pmb        0.396947562  0.36777462 0.29145721 0.23863176  0.13196382\n",
              "cai        0.144773136  0.04947899 0.28003945 0.14693783 -0.12528553\n",
              "zero.sum   0.378325883  0.33144506 0.29122012 0.30149357  0.05142476\n",
              "amb.sex    1.000000000  0.80673937 0.50259270 0.41577268  0.19431877\n",
              "amb.men    0.806739370  1.00000000 0.43424983 0.39158881  0.18988137\n",
              "gen.ess    0.502592703  0.43424983 1.00000000 0.38537607  0.13391652\n",
              "pdb        0.415772681  0.39158881 0.38537607 1.00000000  0.18659930\n",
              "autonomy   0.194318769  0.18988137 0.13391652 0.18659930  1.00000000\n",
              "emb        0.117154868  0.14964053 0.04616411 0.09676618  0.23374265\n",
              "           emb        \n",
              "stype.stem -0.09393988\n",
              "stype.hum   0.01924807\n",
              "pmb         0.06877481\n",
              "cai        -0.29493334\n",
              "zero.sum   -0.09130713\n",
              "amb.sex     0.11715487\n",
              "amb.men     0.14964053\n",
              "gen.ess     0.04616411\n",
              "pdb         0.09676618\n",
              "autonomy    0.23374265\n",
              "emb         1.00000000"
            ]
          },
          "metadata": {}
        },
        {
          "output_type": "stream",
          "name": "stderr",
          "text": [
            "Warning message in type.convert.default(X[[i]], ...):\n",
            "“'as.is' should be specified by the caller; using TRUE”\n",
            "Warning message in type.convert.default(X[[i]], ...):\n",
            "“'as.is' should be specified by the caller; using TRUE”\n"
          ]
        },
        {
          "output_type": "display_data",
          "data": {
            "text/plain": [
              "plot without title"
            ],
            "image/png": "[encoded data removed]"
          },
          "metadata": {
            "image/png": {
              "width": 420,
              "height": 420
            }
          }
        }
      ],
      "source": [
        "#Load reshape library\n",
        "install.packages(\"reshape\")\n",
        "library(reshape)\n",
        "#Correlations analysis\n",
        "gb.cor<-cor(tgh1[,c(14:24)])\n",
        "gb.cor\n",
        "gb.cor<-melt(gb.cor)\n",
        "#Plot correlations\n",
        "ggplot(gb.cor,aes(x=X1, y=X2,fill=value))+\n",
        "  geom_tile()+\n",
        "  scale_fill_gradient2(low=\"red\",high=\"blue\",midpoint=0,limit=c(-1,1))+\n",
        "  labs(x = NULL, y = NULL) +\n",
        "  theme_minimal()+\n",
        "  theme(\n",
        "    axis.text.x = element_text(angle = 45, vjust = 1, hjust = 1, size = 10),\n",
        "    axis.text.y = element_text(vjust=1,hjust=1,size = 10),\n",
        "    plot.margin = margin(20, 20, 20, 20)\n",
        "  )"
      ]
    },
    {
      "cell_type": "markdown",
      "source": [
        "From the correlational matrix, we can identify that the sexist factors present low levels of correlation among themselves. The following variables, stype.hum, stype.stem, cai, autonomy, and emb present weak correlational r values (smaller than 0.30). Ambivalent sexism appears to be moderately correlated with Precarious Manhood Beliefs (0.40), Zero-Sum Gender Beliefs (0.38), Gender Essentialism (0.50), and Power Distance Beliefs (0.42). Ambivalence toward seems to hold a similar correlational dynamic, being moderately correlated with Precarious Manhood Beliefs (0.37), Zero-Sum Gender Beliefs (0.33), Gender Essentialism (0.43), and Power Distance Beliefs (0.39). Additionally, Ambivalent sexism and Ambivalence toward Men are the only variables to present a strong correlational (0.81).\n",
        "\n",
        "This means that the multicollinearity assumption of linear regression stands. In other words, the eleven factors explored in the dataset explain a different aspect of sexism."
      ],
      "metadata": {
        "id": "zGoohuDaOMpk"
      }
    },
    {
      "cell_type": "markdown",
      "metadata": {
        "id": "nEGyVDJfqiuU"
      },
      "source": [
        "*   Calculate correlations between feminine and masculine traditional gender schemas\n",
        "\n",
        "Purpose: Examine if the masculine gender schema and feminine gender schema are correlated"
      ]
    },
    {
      "cell_type": "code",
      "execution_count": 10,
      "metadata": {
        "colab": {
          "base_uri": "https://localhost:8080/",
          "height": 129
        },
        "id": "-WGH-GaUqPep",
        "outputId": "60fbbfdf-c443-4c30-aaec-4d6883524465"
      },
      "outputs": [
        {
          "output_type": "display_data",
          "data": {
            "text/html": [
              "<table class=\"dataframe\">\n",
              "<caption>A matrix: 2 × 2 of type dbl</caption>\n",
              "<thead>\n",
              "\t<tr><th></th><th scope=col>trad.masc.schema</th><th scope=col>trad.fem.schema</th></tr>\n",
              "</thead>\n",
              "<tbody>\n",
              "\t<tr><th scope=row>trad.masc.schema</th><td> 1.0000000</td><td>-0.6260889</td></tr>\n",
              "\t<tr><th scope=row>trad.fem.schema</th><td>-0.6260889</td><td> 1.0000000</td></tr>\n",
              "</tbody>\n",
              "</table>\n"
            ],
            "text/markdown": "\nA matrix: 2 × 2 of type dbl\n\n| <!--/--> | trad.masc.schema | trad.fem.schema |\n|---|---|---|\n| trad.masc.schema |  1.0000000 | -0.6260889 |\n| trad.fem.schema | -0.6260889 |  1.0000000 |\n\n",
            "text/latex": "A matrix: 2 × 2 of type dbl\n\\begin{tabular}{r|ll}\n  & trad.masc.schema & trad.fem.schema\\\\\n\\hline\n\ttrad.masc.schema &  1.0000000 & -0.6260889\\\\\n\ttrad.fem.schema & -0.6260889 &  1.0000000\\\\\n\\end{tabular}\n",
            "text/plain": [
              "                 trad.masc.schema trad.fem.schema\n",
              "trad.masc.schema  1.0000000       -0.6260889     \n",
              "trad.fem.schema  -0.6260889        1.0000000     "
            ]
          },
          "metadata": {}
        }
      ],
      "source": [
        "#Calculate correlation\n",
        "gen.schema.cor<-cor(tgh1[,c(\"trad.masc.schema\",\"trad.fem.schema\")])\n",
        "gen.schema.cor"
      ]
    },
    {
      "cell_type": "markdown",
      "source": [
        "The correlational matrix shows that masculine and feminine gender schemas have a strong negative correlation (-0.63). This means that as you identify more with a masculine gender schema, you will identify less with a feminine gender schema. According to the gender schema theory, we would expect this relationship between gender schemas, since they are considered opposites. Derived from the latter finding, we have determined to use the composite of gen.schema for the subsequent analysis. This variable offers the full range of the gender schema identification with positive values (>0) reflecting a more masculine identity and negative values (<0) a more feminine identity."
      ],
      "metadata": {
        "id": "UXP8A4adW-Xp"
      }
    },
    {
      "cell_type": "markdown",
      "metadata": {
        "id": "5Xs4jZIemRNv"
      },
      "source": [
        "### **3. Principal component analysis**\n",
        "\n",
        "Purpose: Explore if the individual items of the eleven factors of sexist beliefs, gender stereotypes, and roles hold a latent variable that may account for a sexist attitude proxy. Even though we have previously determined that the eleven factors are not strongly correlated, we want to explore the potential presence of data-driven unobserved variables through a principal component analysis."
      ]
    },
    {
      "cell_type": "code",
      "execution_count": 34,
      "metadata": {
        "colab": {
          "base_uri": "https://localhost:8080/",
          "height": 1000
        },
        "id": "z9Zk6nZJmlcr",
        "outputId": "30d2e1f9-aa92-43b5-ac48-3a11cf7f4928"
      },
      "outputs": [
        {
          "output_type": "stream",
          "name": "stderr",
          "text": [
            "Installing package into ‘/usr/local/lib/R/site-library’\n",
            "(as ‘lib’ is unspecified)\n",
            "\n",
            "Installing package into ‘/usr/local/lib/R/site-library’\n",
            "(as ‘lib’ is unspecified)\n",
            "\n"
          ]
        },
        {
          "output_type": "display_data",
          "data": {
            "text/html": [
              "<table class=\"dataframe\">\n",
              "<caption>A tibble: 57 × 58</caption>\n",
              "<thead>\n",
              "\t<tr><th scope=col>Variable</th><th scope=col>PC1</th><th scope=col>PC2</th><th scope=col>PC3</th><th scope=col>PC4</th><th scope=col>PC5</th><th scope=col>PC6</th><th scope=col>PC7</th><th scope=col>PC8</th><th scope=col>PC9</th><th scope=col>⋯</th><th scope=col>PC48</th><th scope=col>PC49</th><th scope=col>PC50</th><th scope=col>PC51</th><th scope=col>PC52</th><th scope=col>PC53</th><th scope=col>PC54</th><th scope=col>PC55</th><th scope=col>PC56</th><th scope=col>PC57</th></tr>\n",
              "\t<tr><th scope=col>&lt;chr&gt;</th><th scope=col>&lt;dbl&gt;</th><th scope=col>&lt;dbl&gt;</th><th scope=col>&lt;dbl&gt;</th><th scope=col>&lt;dbl&gt;</th><th scope=col>&lt;dbl&gt;</th><th scope=col>&lt;dbl&gt;</th><th scope=col>&lt;dbl&gt;</th><th scope=col>&lt;dbl&gt;</th><th scope=col>&lt;dbl&gt;</th><th scope=col>⋯</th><th scope=col>&lt;dbl&gt;</th><th scope=col>&lt;dbl&gt;</th><th scope=col>&lt;dbl&gt;</th><th scope=col>&lt;dbl&gt;</th><th scope=col>&lt;dbl&gt;</th><th scope=col>&lt;dbl&gt;</th><th scope=col>&lt;dbl&gt;</th><th scope=col>&lt;dbl&gt;</th><th scope=col>&lt;dbl&gt;</th><th scope=col>&lt;dbl&gt;</th></tr>\n",
              "</thead>\n",
              "<tbody>\n",
              "\t<tr><td>Gender_ideology_Men_should_prioritize                     </td><td>-0.027329306</td><td> 0.04504442</td><td>-0.071868663</td><td>-0.501199877</td><td> 0.092612493</td><td>-0.0619898192</td><td> 9.533923e-02</td><td>-0.08751672</td><td> 0.208858963</td><td>⋯</td><td> 0.0590117733</td><td>-0.166079936</td><td>-2.642872e-02</td><td>-0.5433729511</td><td> 0.240192196</td><td> 0.2507204330</td><td>-0.0921823527</td><td> 0.0074923011</td><td>-2.656589e-02</td><td> 1.551165e-02</td></tr>\n",
              "\t<tr><td>Gender_ideology_Women_should_prioritize                   </td><td>-0.099250371</td><td> 0.02771561</td><td>-0.049565943</td><td>-0.470113995</td><td> 0.114447274</td><td>-0.0147034743</td><td> 6.798801e-02</td><td>-0.03998155</td><td> 0.205415527</td><td>⋯</td><td> 0.0032002255</td><td> 0.150688967</td><td> 5.329826e-02</td><td> 0.5755731136</td><td>-0.232590133</td><td>-0.2623280621</td><td> 0.1072026549</td><td>-0.0074167503</td><td> 2.205156e-02</td><td>-9.321658e-04</td></tr>\n",
              "\t<tr><td>Gender_ideology_You_wil_prioritize                        </td><td>-0.058659772</td><td> 0.04674223</td><td>-0.074279010</td><td>-0.486176026</td><td> 0.109889279</td><td>-0.0524557391</td><td> 4.312868e-02</td><td>-0.08106858</td><td> 0.133319672</td><td>⋯</td><td>-0.0701443756</td><td> 0.015451940</td><td>-1.337828e-02</td><td>-0.0004961698</td><td>-0.022082126</td><td>-0.0142384305</td><td> 0.0004738956</td><td>-0.0036031122</td><td> 3.031845e-04</td><td>-1.120812e-02</td></tr>\n",
              "\t<tr><td>GenderStereotypes_gifted_STEM1_gifted_in_math             </td><td> 0.018669362</td><td>-0.04224632</td><td>-0.067564355</td><td>-0.144075921</td><td>-0.410962040</td><td> 0.3006091116</td><td>-3.207539e-02</td><td> 0.14502278</td><td> 0.032022238</td><td>⋯</td><td> 0.0040786619</td><td>-0.324744614</td><td>-6.243208e-01</td><td> 0.0798709418</td><td>-0.015879374</td><td>-0.1122807805</td><td>-0.0816951348</td><td>-0.0230291576</td><td> 5.893279e-03</td><td> 1.373051e-02</td></tr>\n",
              "\t<tr><td>GenderStereotypes_gifted_STEM2_gifted_in_science          </td><td> 0.028060134</td><td>-0.03004133</td><td>-0.042393442</td><td>-0.132277864</td><td>-0.367124615</td><td> 0.2981923717</td><td>-2.417767e-02</td><td> 0.13706044</td><td> 0.026148343</td><td>⋯</td><td> 0.0022959805</td><td> 0.305479304</td><td> 5.641480e-01</td><td>-0.0952293781</td><td> 0.017740760</td><td> 0.1113816405</td><td> 0.0633965096</td><td> 0.0123589996</td><td>-6.489195e-03</td><td>-8.445287e-03</td></tr>\n",
              "\t<tr><td>GenderStereotypes_gifted_Humanities1_gifted_in_humanities </td><td> 0.022907000</td><td> 0.01399713</td><td>-0.088101719</td><td>-0.089382781</td><td>-0.411547654</td><td> 0.1281989211</td><td>-6.244894e-02</td><td> 0.17823653</td><td>-0.005595069</td><td>⋯</td><td>-0.0203464831</td><td> 0.046128128</td><td> 1.132429e-01</td><td> 0.0020240552</td><td>-0.006837235</td><td> 0.0221105239</td><td> 0.0389461149</td><td>-0.0018662562</td><td> 1.431546e-03</td><td> 6.032564e-03</td></tr>\n",
              "\t<tr><td>GenderStereotypes_gifted_Humanities2_linguistically_gifted</td><td> 0.009143577</td><td> 0.02119781</td><td>-0.075849416</td><td>-0.078995559</td><td>-0.329773906</td><td> 0.1063463679</td><td>-7.242497e-02</td><td> 0.17139543</td><td> 0.005306560</td><td>⋯</td><td> 0.0338204594</td><td>-0.010490225</td><td>-1.194121e-03</td><td>-0.0174852590</td><td> 0.003026084</td><td>-0.0059971863</td><td>-0.0088324022</td><td>-0.0074552120</td><td> 2.488420e-04</td><td>-3.696616e-03</td></tr>\n",
              "\t<tr><td>Precarious_manhood_1                                      </td><td> 0.090347497</td><td> 0.11130707</td><td> 0.045824622</td><td>-0.026558394</td><td> 0.166997553</td><td> 0.1692761014</td><td>-3.574019e-01</td><td> 0.18727200</td><td> 0.097145473</td><td>⋯</td><td> 0.0244328772</td><td>-0.007107300</td><td> 3.428298e-04</td><td>-0.0327504050</td><td> 0.007657392</td><td>-0.0171854330</td><td>-0.0070791892</td><td> 0.0165811411</td><td>-3.732088e-03</td><td>-2.955710e-03</td></tr>\n",
              "\t<tr><td>Precarious_manhood_2                                      </td><td> 0.103199328</td><td> 0.12911705</td><td> 0.136803659</td><td>-0.014313769</td><td> 0.162943545</td><td> 0.2189153329</td><td>-2.434126e-01</td><td> 0.12860163</td><td> 0.073311845</td><td>⋯</td><td> 0.0165512041</td><td>-0.012617334</td><td> 1.046205e-02</td><td>-0.0343723140</td><td>-0.024554465</td><td>-0.0030608511</td><td>-0.0033375366</td><td>-0.0103837976</td><td>-1.232759e-02</td><td> 4.755552e-03</td></tr>\n",
              "\t<tr><td>Precarious_manhood_3                                      </td><td> 0.015484061</td><td> 0.13149039</td><td> 0.095664200</td><td>-0.051187204</td><td> 0.210457061</td><td> 0.1322148177</td><td>-2.990851e-01</td><td> 0.18194561</td><td> 0.049010887</td><td>⋯</td><td>-0.0245977703</td><td>-0.007965764</td><td> 5.140709e-03</td><td> 0.0355295007</td><td> 0.006232774</td><td> 0.0139491694</td><td> 0.0020505251</td><td>-0.0063236017</td><td> 2.483954e-03</td><td> 3.015729e-04</td></tr>\n",
              "\t<tr><td>Precarious_manhood_4                                      </td><td> 0.101748252</td><td> 0.12125613</td><td> 0.078457808</td><td>-0.016360176</td><td> 0.147503356</td><td> 0.2143314231</td><td>-3.358064e-01</td><td> 0.16643191</td><td> 0.089307363</td><td>⋯</td><td>-0.0273086403</td><td> 0.004526054</td><td>-1.874414e-02</td><td> 0.0218893786</td><td>-0.003392208</td><td>-0.0007278902</td><td> 0.0260971182</td><td> 0.0071208210</td><td> 8.768734e-03</td><td>-5.778295e-04</td></tr>\n",
              "\t<tr><td>Collective_action_intentions_normative1                   </td><td> 0.196739167</td><td>-0.17623545</td><td> 0.117535794</td><td>-0.034164377</td><td> 0.006504829</td><td>-0.0767014082</td><td> 1.938105e-02</td><td> 0.07105256</td><td> 0.063484962</td><td>⋯</td><td>-0.0379841060</td><td> 0.017963214</td><td> 8.208981e-02</td><td> 0.1579640268</td><td> 0.116124033</td><td> 0.0520035613</td><td>-0.6962289457</td><td>-0.0971940262</td><td>-7.830026e-02</td><td> 8.987427e-02</td></tr>\n",
              "\t<tr><td>Collective_action_intentions_normative2                   </td><td> 0.189895047</td><td>-0.11222421</td><td> 0.013127176</td><td>-0.009247265</td><td>-0.056088158</td><td>-0.0460306240</td><td> 3.052077e-02</td><td>-0.04201430</td><td> 0.036876787</td><td>⋯</td><td> 0.0580577852</td><td>-0.022954864</td><td>-5.414646e-02</td><td>-0.0630726445</td><td>-0.161072552</td><td>-0.0109592140</td><td> 0.1986319844</td><td>-0.0053921452</td><td> 3.475534e-02</td><td>-2.393305e-03</td></tr>\n",
              "\t<tr><td>Collective_action_intentions_radical1                     </td><td> 0.150588366</td><td>-0.16060548</td><td> 0.153869558</td><td>-0.019022836</td><td> 0.021202910</td><td>-0.1204364807</td><td> 5.469468e-02</td><td> 0.11764016</td><td> 0.114656440</td><td>⋯</td><td>-0.0316191680</td><td>-0.025475367</td><td>-7.467816e-02</td><td>-0.1208307187</td><td> 0.035151981</td><td>-0.0201935085</td><td> 0.5858533390</td><td> 0.0066128998</td><td>-1.189451e-03</td><td>-3.527366e-02</td></tr>\n",
              "\t<tr><td>Collective_action_intentions_radical2                     </td><td> 0.137477089</td><td>-0.15653781</td><td> 0.117438563</td><td>-0.005373930</td><td> 0.037028067</td><td>-0.0951489212</td><td> 6.931339e-02</td><td> 0.11023482</td><td> 0.105345589</td><td>⋯</td><td> 0.0306117474</td><td>-0.005655822</td><td> 2.533517e-02</td><td> 0.0616080125</td><td>-0.009224479</td><td>-0.0546834836</td><td>-0.1385893971</td><td> 0.0268814859</td><td> 6.412619e-03</td><td> 4.104474e-03</td></tr>\n",
              "\t<tr><td>Collective_action_intentions_normative_long_1             </td><td> 0.185189694</td><td>-0.24079982</td><td> 0.087742782</td><td>-0.052108718</td><td> 0.025806565</td><td>-0.0490787443</td><td>-7.731414e-02</td><td> 0.04860068</td><td>-0.016815044</td><td>⋯</td><td>-0.0007344348</td><td> 0.051940701</td><td>-3.874144e-02</td><td>-0.1888964499</td><td>-0.487742728</td><td>-0.0169239780</td><td>-0.0975581137</td><td> 0.6849610538</td><td>-7.128739e-02</td><td> 1.573741e-01</td></tr>\n",
              "\t<tr><td>Collective_action_intentions_normative_long_2             </td><td> 0.188189182</td><td>-0.24840295</td><td> 0.073090705</td><td>-0.053204003</td><td> 0.037407288</td><td>-0.0551984674</td><td>-8.558440e-02</td><td> 0.04741015</td><td>-0.042518776</td><td>⋯</td><td> 0.0019318784</td><td> 0.037711109</td><td> 1.145120e-03</td><td>-0.1281154629</td><td>-0.237017236</td><td>-0.0093156131</td><td> 0.0318890579</td><td>-0.5594847239</td><td> 4.363418e-01</td><td> 4.563975e-01</td></tr>\n",
              "\t<tr><td>Collective_action_intentions_normative_long_3             </td><td> 0.202063532</td><td>-0.23652022</td><td> 0.078408250</td><td>-0.061144035</td><td> 0.016634786</td><td>-0.0438647198</td><td>-7.542954e-02</td><td> 0.04292852</td><td>-0.034443692</td><td>⋯</td><td> 0.0079418536</td><td>-0.024240822</td><td> 7.946097e-03</td><td> 0.1373260452</td><td> 0.312822526</td><td> 0.0435903647</td><td>-0.0084587188</td><td> 0.1845493817</td><td> 6.011786e-01</td><td>-5.468598e-01</td></tr>\n",
              "\t<tr><td>Collective_action_intentions_normative_long_4             </td><td> 0.172325604</td><td>-0.22245094</td><td> 0.030839054</td><td>-0.006585361</td><td> 0.001830158</td><td>-0.0494954003</td><td>-8.235713e-02</td><td>-0.01495602</td><td> 0.017907375</td><td>⋯</td><td>-0.1291650250</td><td>-0.046431061</td><td> 3.696000e-02</td><td>-0.0257460605</td><td>-0.029356063</td><td> 0.0211990298</td><td>-0.0335327945</td><td>-0.0059366541</td><td>-5.296291e-02</td><td>-1.885323e-02</td></tr>\n",
              "\t<tr><td>Collective_action_intentions_normative_long_5             </td><td> 0.193330573</td><td>-0.22950360</td><td> 0.053232423</td><td>-0.053586397</td><td> 0.017113515</td><td>-0.0311170350</td><td>-7.796625e-02</td><td> 0.03086469</td><td>-0.044699321</td><td>⋯</td><td> 0.0668225011</td><td>-0.036897476</td><td> 1.245232e-02</td><td> 0.2663214762</td><td> 0.589299558</td><td> 0.0043573139</td><td> 0.2075770300</td><td> 0.1401701336</td><td>-3.218823e-01</td><td> 4.422154e-01</td></tr>\n",
              "\t<tr><td>Collective_action_intentions_normative_long_6             </td><td> 0.190737053</td><td>-0.24636369</td><td> 0.074470134</td><td>-0.060198034</td><td> 0.029452329</td><td>-0.0442167817</td><td>-7.870795e-02</td><td> 0.04876875</td><td>-0.044933415</td><td>⋯</td><td> 0.0241711738</td><td> 0.016372663</td><td>-1.337236e-02</td><td>-0.0576950415</td><td>-0.168396386</td><td>-0.0229610096</td><td> 0.0238717668</td><td>-0.3859247485</td><td>-5.701107e-01</td><td>-5.088772e-01</td></tr>\n",
              "\t<tr><td>ZeroSum_GenderPerspective_1                               </td><td> 0.162347191</td><td> 0.06388480</td><td>-0.312399011</td><td> 0.040823068</td><td> 0.042755600</td><td>-0.0945290580</td><td>-1.161617e-02</td><td> 0.07080823</td><td> 0.011395899</td><td>⋯</td><td> 0.2812868374</td><td>-0.137437094</td><td> 7.308630e-02</td><td> 0.0228588488</td><td>-0.039390236</td><td> 0.0132788404</td><td> 0.0110189790</td><td> 0.0086831235</td><td> 1.011402e-02</td><td>-1.295933e-02</td></tr>\n",
              "\t<tr><td>ZeroSum_GenderPerspective_2                               </td><td> 0.156988602</td><td> 0.07224480</td><td>-0.328766063</td><td> 0.056938454</td><td> 0.085087154</td><td>-0.0890268476</td><td>-3.811962e-02</td><td> 0.12016812</td><td> 0.017414720</td><td>⋯</td><td> 0.1376531410</td><td> 0.641199378</td><td>-3.768503e-01</td><td>-0.0569708171</td><td> 0.072663284</td><td> 0.1108169404</td><td>-0.0331472940</td><td>-0.0090658918</td><td> 2.981321e-03</td><td>-1.806848e-02</td></tr>\n",
              "\t<tr><td>ZeroSum_GenderPerspective_3                               </td><td> 0.162376836</td><td> 0.09604096</td><td>-0.302771934</td><td> 0.033039053</td><td> 0.021940281</td><td>-0.0649839441</td><td> 1.790802e-02</td><td> 0.05959479</td><td>-0.003412212</td><td>⋯</td><td>-0.4696765815</td><td> 0.164069604</td><td>-9.072512e-02</td><td>-0.0156997356</td><td> 0.048838435</td><td>-0.0030384234</td><td> 0.0183673810</td><td>-0.0003349880</td><td>-1.718205e-02</td><td> 2.003313e-02</td></tr>\n",
              "\t<tr><td>ZeroSum_GenderPerspective_4                               </td><td> 0.144100501</td><td> 0.06104272</td><td>-0.334224029</td><td> 0.062685712</td><td> 0.068833099</td><td>-0.0813450528</td><td>-3.852827e-02</td><td> 0.10687132</td><td> 0.023544528</td><td>⋯</td><td>-0.4672267909</td><td>-0.406311422</td><td> 2.358387e-01</td><td> 0.0473654399</td><td>-0.059547669</td><td>-0.0318629072</td><td> 0.0331372527</td><td> 0.0092678651</td><td>-4.452853e-05</td><td>-3.435830e-03</td></tr>\n",
              "\t<tr><td>ZeroSum_GenderPerspective_5                               </td><td> 0.167384962</td><td> 0.09872545</td><td>-0.314411056</td><td> 0.042962079</td><td> 0.052466805</td><td>-0.0634278196</td><td>-9.169211e-03</td><td> 0.07459930</td><td> 0.019201190</td><td>⋯</td><td> 0.5770334908</td><td>-0.279258723</td><td> 1.660939e-01</td><td> 0.0403815856</td><td>-0.081876445</td><td>-0.0734642333</td><td>-0.0182300286</td><td>-0.0101780764</td><td> 1.419133e-02</td><td>-7.988251e-04</td></tr>\n",
              "\t<tr><td>ZeroSum_GenderPerspective_6                               </td><td> 0.147297534</td><td> 0.07556652</td><td>-0.224768101</td><td> 0.041784321</td><td> 0.085106182</td><td>-0.0645754576</td><td>-1.115838e-02</td><td> 0.09212253</td><td> 0.032521261</td><td>⋯</td><td>-0.0111723158</td><td>-0.024921886</td><td>-1.104092e-02</td><td>-0.0050489708</td><td> 0.023145080</td><td>-0.0096864992</td><td>-0.0055754549</td><td> 0.0201959626</td><td>-9.374131e-03</td><td> 4.327180e-04</td></tr>\n",
              "\t<tr><td>ZeroSum_GenderPerspective_7                               </td><td> 0.170194955</td><td> 0.07999718</td><td>-0.183735540</td><td>-0.007515594</td><td>-0.011338046</td><td>-0.0507166046</td><td>-3.071176e-02</td><td>-0.02866935</td><td> 0.049756480</td><td>⋯</td><td>-0.0901066411</td><td> 0.037676657</td><td>-5.693941e-03</td><td> 0.0005651739</td><td> 0.036197567</td><td> 0.0269248330</td><td> 0.0072430866</td><td>-0.0058167965</td><td>-9.242129e-03</td><td> 7.701421e-03</td></tr>\n",
              "\t<tr><td>AmbivalentSexism_1                                        </td><td> 0.167945866</td><td> 0.12325063</td><td> 0.148047229</td><td> 0.057328919</td><td>-0.071952780</td><td> 0.0339413418</td><td> 6.640823e-02</td><td>-0.07980699</td><td>-0.035660745</td><td>⋯</td><td> 0.0229358251</td><td>-0.001365575</td><td> 5.036234e-03</td><td>-0.1050815228</td><td> 0.094598800</td><td>-0.2745746532</td><td> 0.0132307378</td><td>-0.0006089147</td><td>-2.748541e-03</td><td>-1.823696e-02</td></tr>\n",
              "\t<tr><td>AmbivalentSexism_2                                        </td><td> 0.192689191</td><td> 0.10820335</td><td>-0.043645452</td><td>-0.021469458</td><td>-0.017676776</td><td>-0.0008017393</td><td>-5.637041e-07</td><td>-0.10633947</td><td> 0.015172564</td><td>⋯</td><td>-0.1023512131</td><td>-0.029527950</td><td> 3.591936e-04</td><td>-0.0256775368</td><td> 0.011547615</td><td> 0.0190581970</td><td> 0.0197094905</td><td>-0.0114212538</td><td> 7.738859e-03</td><td>-7.145405e-04</td></tr>\n",
              "\t<tr><td>AmbivalentSexism_3                                        </td><td> 0.157554250</td><td> 0.13528077</td><td> 0.113963894</td><td> 0.077167677</td><td>-0.064972199</td><td> 0.0635557277</td><td> 7.061282e-02</td><td>-0.07799890</td><td>-0.070423473</td><td>⋯</td><td>-0.0093483611</td><td> 0.019433374</td><td> 3.048161e-02</td><td>-0.0473431764</td><td> 0.013593315</td><td> 0.0550915928</td><td>-0.0385254273</td><td> 0.0013682265</td><td>-7.906953e-03</td><td>-7.810624e-03</td></tr>\n",
              "\t<tr><td>AmbivalentSexism_4                                        </td><td> 0.209524978</td><td> 0.09003342</td><td>-0.001453085</td><td>-0.003453883</td><td>-0.047895129</td><td>-0.0068439294</td><td> 2.282744e-02</td><td>-0.15437023</td><td> 0.059486631</td><td>⋯</td><td> 0.0609566205</td><td> 0.042243472</td><td> 8.420440e-03</td><td> 0.0638110170</td><td> 0.010909781</td><td>-0.0487071447</td><td>-0.0498741902</td><td> 0.0124995107</td><td>-8.559202e-03</td><td>-2.427818e-02</td></tr>\n",
              "\t<tr><td>AmbivalentSexism_5                                        </td><td> 0.186537166</td><td> 0.08992123</td><td> 0.009374876</td><td>-0.025710818</td><td>-0.007877088</td><td>-0.0079636030</td><td>-5.871974e-04</td><td>-0.12956071</td><td> 0.060785607</td><td>⋯</td><td> 0.0081379235</td><td>-0.027896108</td><td>-8.855391e-05</td><td>-0.0071128385</td><td>-0.041968900</td><td> 0.0344003339</td><td> 0.0263464653</td><td>-0.0148446391</td><td>-2.871591e-04</td><td> 7.187180e-03</td></tr>\n",
              "\t<tr><td>AmbivalentSexism_6                                        </td><td> 0.071642867</td><td> 0.16048687</td><td> 0.132579299</td><td>-0.003025615</td><td> 0.098384113</td><td> 0.1146297855</td><td> 1.249690e-01</td><td>-0.01177725</td><td>-0.012712395</td><td>⋯</td><td> 0.0299415730</td><td> 0.006395583</td><td>-8.661889e-03</td><td>-0.0215819195</td><td>-0.008173479</td><td> 0.0310520451</td><td> 0.0030124462</td><td> 0.0015218213</td><td>-6.465816e-03</td><td> 5.749365e-03</td></tr>\n",
              "\t<tr><td>Ambivalence_toward_men_1                                  </td><td> 0.179652591</td><td> 0.09739425</td><td> 0.064768206</td><td> 0.004082755</td><td>-0.042086784</td><td>-0.0104486561</td><td> 4.164110e-02</td><td>-0.11948573</td><td> 0.029911918</td><td>⋯</td><td> 0.0164547685</td><td> 0.027673220</td><td>-6.823616e-03</td><td>-0.0080377692</td><td>-0.016277074</td><td>-0.0389883768</td><td>-0.0131542692</td><td> 0.0161509847</td><td> 3.156844e-03</td><td> 6.567647e-03</td></tr>\n",
              "\t<tr><td>Ambivalence_toward_men_2                                  </td><td> 0.185851268</td><td> 0.15218310</td><td> 0.088888439</td><td> 0.065131623</td><td>-0.097007834</td><td> 0.0334195286</td><td> 1.274789e-01</td><td>-0.10266078</td><td>-0.077093433</td><td>⋯</td><td>-0.0342351963</td><td>-0.083390805</td><td>-7.097241e-02</td><td> 0.3129913565</td><td>-0.182388587</td><td> 0.6526701640</td><td> 0.0829836218</td><td>-0.0111108705</td><td>-1.537882e-02</td><td> 1.465639e-02</td></tr>\n",
              "\t<tr><td>Ambivalence_toward_men_3                                  </td><td> 0.187848966</td><td> 0.11691140</td><td> 0.006758004</td><td> 0.083853734</td><td>-0.092296584</td><td> 0.0091410927</td><td> 1.145896e-01</td><td>-0.10432340</td><td>-0.078609056</td><td>⋯</td><td>-0.0063381605</td><td> 0.066215602</td><td> 4.246605e-02</td><td>-0.1096998244</td><td> 0.061371761</td><td>-0.5277820696</td><td>-0.0298987324</td><td> 0.0049593550</td><td> 7.865024e-03</td><td> 7.693884e-03</td></tr>\n",
              "\t<tr><td>Ambivalence_toward_men_4                                  </td><td> 0.058969161</td><td> 0.19441986</td><td> 0.069100504</td><td>-0.012420364</td><td> 0.146067011</td><td> 0.0950282451</td><td> 1.201852e-01</td><td> 0.03793096</td><td>-0.139134895</td><td>⋯</td><td>-0.0242548912</td><td>-0.020523620</td><td> 7.465212e-03</td><td> 0.0783441280</td><td>-0.004879883</td><td>-0.0050045707</td><td> 0.0042295877</td><td>-0.0078597394</td><td> 1.546905e-02</td><td>-6.531254e-03</td></tr>\n",
              "\t<tr><td>Ambivalence_toward_men_5                                  </td><td> 0.047178259</td><td> 0.16126609</td><td> 0.140361322</td><td> 0.025876590</td><td> 0.141134507</td><td> 0.1778375343</td><td> 9.353545e-02</td><td> 0.05191306</td><td>-0.138169140</td><td>⋯</td><td>-0.0010179639</td><td>-0.019741003</td><td>-1.956650e-02</td><td>-0.0477053009</td><td> 0.036738198</td><td>-0.0060125519</td><td> 0.0038601167</td><td>-0.0050443636</td><td>-4.316965e-03</td><td> 7.785283e-03</td></tr>\n",
              "\t<tr><td>Ambivalence_toward_men_6                                  </td><td>-0.011442790</td><td> 0.20049781</td><td> 0.068793982</td><td>-0.037233371</td><td> 0.143567034</td><td> 0.1516407863</td><td> 8.323941e-02</td><td> 0.07896021</td><td>-0.114209353</td><td>⋯</td><td> 0.0142041718</td><td>-0.013971799</td><td>-5.045659e-03</td><td>-0.0608929540</td><td>-0.005533559</td><td>-0.0182640512</td><td>-0.0090172661</td><td>-0.0178564281</td><td> 6.716006e-04</td><td> 1.104932e-02</td></tr>\n",
              "\t<tr><td>GenderEssentialism_1                                      </td><td> 0.166906433</td><td> 0.06303112</td><td> 0.118853422</td><td>-0.019586704</td><td>-0.041562312</td><td> 0.0065112726</td><td>-1.216878e-03</td><td>-0.18482677</td><td> 0.195183987</td><td>⋯</td><td> 0.1513872603</td><td> 0.035749984</td><td> 3.512198e-02</td><td> 0.0600118927</td><td>-0.008936101</td><td> 0.0876890981</td><td> 0.0541376581</td><td>-0.0029417736</td><td> 1.655847e-03</td><td> 3.293297e-03</td></tr>\n",
              "\t<tr><td>GenderEssentialism_2                                      </td><td> 0.172383430</td><td> 0.10710000</td><td> 0.106589373</td><td>-0.012961805</td><td>-0.011348646</td><td> 0.0563079743</td><td> 2.529501e-02</td><td>-0.12229822</td><td> 0.096537491</td><td>⋯</td><td> 0.0315565555</td><td> 0.008237939</td><td> 4.226828e-03</td><td> 0.0267278025</td><td>-0.021790506</td><td> 0.0031107748</td><td> 0.0198316809</td><td>-0.0026659582</td><td> 9.001250e-03</td><td>-2.001078e-03</td></tr>\n",
              "\t<tr><td>GenderEssentialism_3                                      </td><td> 0.152012399</td><td> 0.10453885</td><td> 0.160529205</td><td>-0.038197742</td><td>-0.036301982</td><td> 0.0193404157</td><td> 2.741034e-02</td><td>-0.15579301</td><td> 0.175551585</td><td>⋯</td><td>-0.1719944367</td><td>-0.018216711</td><td>-3.714049e-02</td><td>-0.0521788661</td><td> 0.010833247</td><td>-0.0965527572</td><td>-0.0460853379</td><td> 0.0010044603</td><td>-3.268135e-04</td><td>-6.241324e-03</td></tr>\n",
              "\t<tr><td>PowerDistanceBeliefs_1                                    </td><td> 0.114917498</td><td> 0.14575794</td><td> 0.037536439</td><td>-0.068093330</td><td>-0.116070822</td><td> 0.0046823169</td><td> 1.063287e-01</td><td>-0.04997327</td><td> 0.013022805</td><td>⋯</td><td> 0.0174586726</td><td> 0.001630562</td><td>-1.235418e-02</td><td> 0.0010579439</td><td> 0.011930186</td><td>-0.0520546032</td><td>-0.0213057957</td><td> 0.0014285035</td><td> 2.239486e-02</td><td> 4.028718e-03</td></tr>\n",
              "\t<tr><td>PowerDistanceBeliefs_2                                    </td><td> 0.137410342</td><td> 0.08568344</td><td> 0.083128754</td><td>-0.081182621</td><td>-0.048171816</td><td>-0.0449080574</td><td> 1.786513e-02</td><td>-0.02116316</td><td> 0.037551941</td><td>⋯</td><td>-0.0317208535</td><td>-0.019625636</td><td> 7.001668e-03</td><td> 0.0189262621</td><td> 0.007580400</td><td> 0.0135218660</td><td>-0.0044980849</td><td>-0.0022109601</td><td>-7.668572e-03</td><td> 7.187948e-03</td></tr>\n",
              "\t<tr><td>PowerDistanceBeliefs_3                                    </td><td> 0.052641342</td><td> 0.08101110</td><td> 0.063770399</td><td>-0.033458980</td><td>-0.067485460</td><td>-0.0239729214</td><td> 3.858465e-02</td><td> 0.06318009</td><td> 0.085496659</td><td>⋯</td><td> 0.0115994363</td><td> 0.011377485</td><td> 8.716872e-03</td><td> 0.0108664261</td><td>-0.006791967</td><td> 0.0226234541</td><td>-0.0100007416</td><td> 0.0076258371</td><td>-1.203561e-03</td><td> 1.809000e-03</td></tr>\n",
              "\t<tr><td>PowerDistanceBeliefs_4                                    </td><td> 0.133384449</td><td> 0.06892659</td><td>-0.056726894</td><td>-0.090938893</td><td>-0.093267602</td><td>-0.0066535174</td><td> 7.408130e-02</td><td>-0.03846201</td><td>-0.064196631</td><td>⋯</td><td> 0.0138330498</td><td> 0.035662026</td><td> 6.298470e-03</td><td> 0.0147861228</td><td>-0.020408247</td><td>-0.0097977556</td><td> 0.0160467565</td><td> 0.0015822177</td><td> 3.214491e-04</td><td>-8.953158e-04</td></tr>\n",
              "\t<tr><td>Autonomy_1                                                </td><td>-0.037669634</td><td> 0.13153929</td><td> 0.069907855</td><td>-0.028716902</td><td>-0.122172650</td><td>-0.2442663326</td><td>-2.717470e-01</td><td>-0.10010621</td><td> 0.039776263</td><td>⋯</td><td>-0.0159743163</td><td>-0.019732272</td><td>-1.188425e-02</td><td> 0.0109493121</td><td> 0.016144622</td><td>-0.0046543654</td><td>-0.0036691393</td><td>-0.0248261684</td><td>-6.204469e-03</td><td> 8.293465e-03</td></tr>\n",
              "\t<tr><td>Autonomy_2                                                </td><td> 0.083257427</td><td> 0.08801615</td><td> 0.034716952</td><td>-0.259660929</td><td>-0.007346647</td><td>-0.1232277679</td><td> 7.582274e-03</td><td> 0.10185544</td><td>-0.439624853</td><td>⋯</td><td>-0.0506951710</td><td> 0.056150414</td><td>-9.064194e-03</td><td> 0.0127127243</td><td>-0.047638360</td><td>-0.0385528377</td><td>-0.0162402768</td><td> 0.0044254667</td><td> 2.532879e-03</td><td> 8.211967e-04</td></tr>\n",
              "\t<tr><td>Autonomy_3                                                </td><td>-0.017573371</td><td> 0.05233962</td><td> 0.065110699</td><td>-0.134137022</td><td>-0.018819227</td><td>-0.1959210333</td><td>-1.669152e-01</td><td> 0.04706217</td><td>-0.427686285</td><td>⋯</td><td> 0.0203948600</td><td>-0.050437538</td><td> 1.893042e-02</td><td> 0.0214311171</td><td> 0.002483715</td><td> 0.0018986381</td><td> 0.0114892950</td><td> 0.0214617674</td><td>-6.721029e-03</td><td>-1.678343e-03</td></tr>\n",
              "\t<tr><td>Autonomy_4                                                </td><td> 0.021172729</td><td> 0.14083677</td><td> 0.106025945</td><td>-0.175669549</td><td>-0.041440700</td><td>-0.2481262834</td><td>-2.578894e-02</td><td> 0.16269501</td><td>-0.316644121</td><td>⋯</td><td> 0.0630442472</td><td>-0.037342242</td><td>-1.232258e-02</td><td> 0.0005173745</td><td> 0.022137434</td><td> 0.0215627491</td><td>-0.0029940288</td><td> 0.0105689438</td><td>-1.111451e-02</td><td> 4.201415e-03</td></tr>\n",
              "\t<tr><td>Autonomy_5                                                </td><td> 0.003209693</td><td> 0.11203171</td><td> 0.009103380</td><td>-0.098024305</td><td>-0.164132289</td><td>-0.1518087935</td><td>-3.772007e-01</td><td>-0.30236549</td><td>-0.189861688</td><td>⋯</td><td>-0.0007699956</td><td> 0.029508597</td><td> 1.727795e-03</td><td>-0.0343406471</td><td>-0.006128283</td><td>-0.0037298293</td><td> 0.0108626612</td><td> 0.0021147450</td><td> 5.619579e-03</td><td>-8.449091e-05</td></tr>\n",
              "\t<tr><td>Embeddedness_1                                            </td><td> 0.014680729</td><td> 0.11638110</td><td> 0.145882075</td><td>-0.039535539</td><td>-0.010526603</td><td>-0.1482720286</td><td> 2.525018e-01</td><td> 0.42375332</td><td> 0.043683808</td><td>⋯</td><td>-0.0040668524</td><td> 0.031014253</td><td> 1.906598e-02</td><td>-0.0363927617</td><td> 0.011464244</td><td> 0.0021192043</td><td> 0.0137592826</td><td> 0.0009381424</td><td> 4.113147e-03</td><td>-4.865243e-03</td></tr>\n",
              "\t<tr><td>Embeddedness_2                                            </td><td>-0.087925724</td><td> 0.17677089</td><td> 0.101952382</td><td> 0.088113443</td><td>-0.140390246</td><td>-0.2954221674</td><td>-1.390166e-01</td><td> 0.06685555</td><td> 0.227865015</td><td>⋯</td><td>-0.0091065673</td><td> 0.064548730</td><td> 4.540606e-02</td><td> 0.0139355036</td><td> 0.020104381</td><td>-0.0190855863</td><td>-0.0172274376</td><td>-0.0051277237</td><td>-1.393337e-02</td><td>-7.257907e-03</td></tr>\n",
              "\t<tr><td>Embeddedness_3                                            </td><td>-0.065097946</td><td> 0.14594872</td><td> 0.150291006</td><td> 0.127499552</td><td>-0.123972653</td><td>-0.2774497468</td><td>-1.064195e-01</td><td> 0.11801415</td><td> 0.192144673</td><td>⋯</td><td>-0.0050492641</td><td>-0.032572517</td><td>-4.487179e-02</td><td>-0.0041665939</td><td>-0.020512240</td><td>-0.0021745751</td><td> 0.0140935792</td><td>-0.0101240843</td><td> 5.412344e-03</td><td> 3.276955e-03</td></tr>\n",
              "\t<tr><td>Embeddedness_4                                            </td><td> 0.041046747</td><td> 0.08013455</td><td> 0.125061332</td><td> 0.007376587</td><td>-0.031165298</td><td>-0.1671386663</td><td> 2.611275e-01</td><td> 0.38191502</td><td> 0.091025787</td><td>⋯</td><td>-0.0165859505</td><td>-0.022118031</td><td>-3.262240e-04</td><td> 0.0060321058</td><td>-0.017642512</td><td>-0.0050106238</td><td>-0.0095333350</td><td>-0.0012209256</td><td>-2.135044e-04</td><td> 7.122982e-03</td></tr>\n",
              "\t<tr><td>Embeddedness_5                                            </td><td>-0.097044238</td><td> 0.13290271</td><td> 0.066687544</td><td> 0.072369276</td><td>-0.123924682</td><td>-0.2484236921</td><td>-1.367370e-01</td><td> 0.04433151</td><td> 0.211123322</td><td>⋯</td><td> 0.0162664850</td><td>-0.024861329</td><td>-1.580611e-02</td><td> 0.0255368214</td><td>-0.017955330</td><td> 0.0150689432</td><td>-0.0315812400</td><td> 0.0006141268</td><td> 6.562284e-03</td><td> 5.305906e-03</td></tr>\n",
              "</tbody>\n",
              "</table>\n"
            ],
            "text/markdown": "\nA tibble: 57 × 58\n\n| Variable &lt;chr&gt; | PC1 &lt;dbl&gt; | PC2 &lt;dbl&gt; | PC3 &lt;dbl&gt; | PC4 &lt;dbl&gt; | PC5 &lt;dbl&gt; | PC6 &lt;dbl&gt; | PC7 &lt;dbl&gt; | PC8 &lt;dbl&gt; | PC9 &lt;dbl&gt; | ⋯ ⋯ | PC48 &lt;dbl&gt; | PC49 &lt;dbl&gt; | PC50 &lt;dbl&gt; | PC51 &lt;dbl&gt; | PC52 &lt;dbl&gt; | PC53 &lt;dbl&gt; | PC54 &lt;dbl&gt; | PC55 &lt;dbl&gt; | PC56 &lt;dbl&gt; | PC57 &lt;dbl&gt; |\n|---|---|---|---|---|---|---|---|---|---|---|---|---|---|---|---|---|---|---|---|---|\n| Gender_ideology_Men_should_prioritize                      | -0.027329306 |  0.04504442 | -0.071868663 | -0.501199877 |  0.092612493 | -0.0619898192 |  9.533923e-02 | -0.08751672 |  0.208858963 | ⋯ |  0.0590117733 | -0.166079936 | -2.642872e-02 | -0.5433729511 |  0.240192196 |  0.2507204330 | -0.0921823527 |  0.0074923011 | -2.656589e-02 |  1.551165e-02 |\n| Gender_ideology_Women_should_prioritize                    | -0.099250371 |  0.02771561 | -0.049565943 | -0.470113995 |  0.114447274 | -0.0147034743 |  6.798801e-02 | -0.03998155 |  0.205415527 | ⋯ |  0.0032002255 |  0.150688967 |  5.329826e-02 |  0.5755731136 | -0.232590133 | -0.2623280621 |  0.1072026549 | -0.0074167503 |  2.205156e-02 | -9.321658e-04 |\n| Gender_ideology_You_wil_prioritize                         | -0.058659772 |  0.04674223 | -0.074279010 | -0.486176026 |  0.109889279 | -0.0524557391 |  4.312868e-02 | -0.08106858 |  0.133319672 | ⋯ | -0.0701443756 |  0.015451940 | -1.337828e-02 | -0.0004961698 | -0.022082126 | -0.0142384305 |  0.0004738956 | -0.0036031122 |  3.031845e-04 | -1.120812e-02 |\n| GenderStereotypes_gifted_STEM1_gifted_in_math              |  0.018669362 | -0.04224632 | -0.067564355 | -0.144075921 | -0.410962040 |  0.3006091116 | -3.207539e-02 |  0.14502278 |  0.032022238 | ⋯ |  0.0040786619 | -0.324744614 | -6.243208e-01 |  0.0798709418 | -0.015879374 | -0.1122807805 | -0.0816951348 | -0.0230291576 |  5.893279e-03 |  1.373051e-02 |\n| GenderStereotypes_gifted_STEM2_gifted_in_science           |  0.028060134 | -0.03004133 | -0.042393442 | -0.132277864 | -0.367124615 |  0.2981923717 | -2.417767e-02 |  0.13706044 |  0.026148343 | ⋯ |  0.0022959805 |  0.305479304 |  5.641480e-01 | -0.0952293781 |  0.017740760 |  0.1113816405 |  0.0633965096 |  0.0123589996 | -6.489195e-03 | -8.445287e-03 |\n| GenderStereotypes_gifted_Humanities1_gifted_in_humanities  |  0.022907000 |  0.01399713 | -0.088101719 | -0.089382781 | -0.411547654 |  0.1281989211 | -6.244894e-02 |  0.17823653 | -0.005595069 | ⋯ | -0.0203464831 |  0.046128128 |  1.132429e-01 |  0.0020240552 | -0.006837235 |  0.0221105239 |  0.0389461149 | -0.0018662562 |  1.431546e-03 |  6.032564e-03 |\n| GenderStereotypes_gifted_Humanities2_linguistically_gifted |  0.009143577 |  0.02119781 | -0.075849416 | -0.078995559 | -0.329773906 |  0.1063463679 | -7.242497e-02 |  0.17139543 |  0.005306560 | ⋯ |  0.0338204594 | -0.010490225 | -1.194121e-03 | -0.0174852590 |  0.003026084 | -0.0059971863 | -0.0088324022 | -0.0074552120 |  2.488420e-04 | -3.696616e-03 |\n| Precarious_manhood_1                                       |  0.090347497 |  0.11130707 |  0.045824622 | -0.026558394 |  0.166997553 |  0.1692761014 | -3.574019e-01 |  0.18727200 |  0.097145473 | ⋯ |  0.0244328772 | -0.007107300 |  3.428298e-04 | -0.0327504050 |  0.007657392 | -0.0171854330 | -0.0070791892 |  0.0165811411 | -3.732088e-03 | -2.955710e-03 |\n| Precarious_manhood_2                                       |  0.103199328 |  0.12911705 |  0.136803659 | -0.014313769 |  0.162943545 |  0.2189153329 | -2.434126e-01 |  0.12860163 |  0.073311845 | ⋯ |  0.0165512041 | -0.012617334 |  1.046205e-02 | -0.0343723140 | -0.024554465 | -0.0030608511 | -0.0033375366 | -0.0103837976 | -1.232759e-02 |  4.755552e-03 |\n| Precarious_manhood_3                                       |  0.015484061 |  0.13149039 |  0.095664200 | -0.051187204 |  0.210457061 |  0.1322148177 | -2.990851e-01 |  0.18194561 |  0.049010887 | ⋯ | -0.0245977703 | -0.007965764 |  5.140709e-03 |  0.0355295007 |  0.006232774 |  0.0139491694 |  0.0020505251 | -0.0063236017 |  2.483954e-03 |  3.015729e-04 |\n| Precarious_manhood_4                                       |  0.101748252 |  0.12125613 |  0.078457808 | -0.016360176 |  0.147503356 |  0.2143314231 | -3.358064e-01 |  0.16643191 |  0.089307363 | ⋯ | -0.0273086403 |  0.004526054 | -1.874414e-02 |  0.0218893786 | -0.003392208 | -0.0007278902 |  0.0260971182 |  0.0071208210 |  8.768734e-03 | -5.778295e-04 |\n| Collective_action_intentions_normative1                    |  0.196739167 | -0.17623545 |  0.117535794 | -0.034164377 |  0.006504829 | -0.0767014082 |  1.938105e-02 |  0.07105256 |  0.063484962 | ⋯ | -0.0379841060 |  0.017963214 |  8.208981e-02 |  0.1579640268 |  0.116124033 |  0.0520035613 | -0.6962289457 | -0.0971940262 | -7.830026e-02 |  8.987427e-02 |\n| Collective_action_intentions_normative2                    |  0.189895047 | -0.11222421 |  0.013127176 | -0.009247265 | -0.056088158 | -0.0460306240 |  3.052077e-02 | -0.04201430 |  0.036876787 | ⋯ |  0.0580577852 | -0.022954864 | -5.414646e-02 | -0.0630726445 | -0.161072552 | -0.0109592140 |  0.1986319844 | -0.0053921452 |  3.475534e-02 | -2.393305e-03 |\n| Collective_action_intentions_radical1                      |  0.150588366 | -0.16060548 |  0.153869558 | -0.019022836 |  0.021202910 | -0.1204364807 |  5.469468e-02 |  0.11764016 |  0.114656440 | ⋯ | -0.0316191680 | -0.025475367 | -7.467816e-02 | -0.1208307187 |  0.035151981 | -0.0201935085 |  0.5858533390 |  0.0066128998 | -1.189451e-03 | -3.527366e-02 |\n| Collective_action_intentions_radical2                      |  0.137477089 | -0.15653781 |  0.117438563 | -0.005373930 |  0.037028067 | -0.0951489212 |  6.931339e-02 |  0.11023482 |  0.105345589 | ⋯ |  0.0306117474 | -0.005655822 |  2.533517e-02 |  0.0616080125 | -0.009224479 | -0.0546834836 | -0.1385893971 |  0.0268814859 |  6.412619e-03 |  4.104474e-03 |\n| Collective_action_intentions_normative_long_1              |  0.185189694 | -0.24079982 |  0.087742782 | -0.052108718 |  0.025806565 | -0.0490787443 | -7.731414e-02 |  0.04860068 | -0.016815044 | ⋯ | -0.0007344348 |  0.051940701 | -3.874144e-02 | -0.1888964499 | -0.487742728 | -0.0169239780 | -0.0975581137 |  0.6849610538 | -7.128739e-02 |  1.573741e-01 |\n| Collective_action_intentions_normative_long_2              |  0.188189182 | -0.24840295 |  0.073090705 | -0.053204003 |  0.037407288 | -0.0551984674 | -8.558440e-02 |  0.04741015 | -0.042518776 | ⋯ |  0.0019318784 |  0.037711109 |  1.145120e-03 | -0.1281154629 | -0.237017236 | -0.0093156131 |  0.0318890579 | -0.5594847239 |  4.363418e-01 |  4.563975e-01 |\n| Collective_action_intentions_normative_long_3              |  0.202063532 | -0.23652022 |  0.078408250 | -0.061144035 |  0.016634786 | -0.0438647198 | -7.542954e-02 |  0.04292852 | -0.034443692 | ⋯ |  0.0079418536 | -0.024240822 |  7.946097e-03 |  0.1373260452 |  0.312822526 |  0.0435903647 | -0.0084587188 |  0.1845493817 |  6.011786e-01 | -5.468598e-01 |\n| Collective_action_intentions_normative_long_4              |  0.172325604 | -0.22245094 |  0.030839054 | -0.006585361 |  0.001830158 | -0.0494954003 | -8.235713e-02 | -0.01495602 |  0.017907375 | ⋯ | -0.1291650250 | -0.046431061 |  3.696000e-02 | -0.0257460605 | -0.029356063 |  0.0211990298 | -0.0335327945 | -0.0059366541 | -5.296291e-02 | -1.885323e-02 |\n| Collective_action_intentions_normative_long_5              |  0.193330573 | -0.22950360 |  0.053232423 | -0.053586397 |  0.017113515 | -0.0311170350 | -7.796625e-02 |  0.03086469 | -0.044699321 | ⋯ |  0.0668225011 | -0.036897476 |  1.245232e-02 |  0.2663214762 |  0.589299558 |  0.0043573139 |  0.2075770300 |  0.1401701336 | -3.218823e-01 |  4.422154e-01 |\n| Collective_action_intentions_normative_long_6              |  0.190737053 | -0.24636369 |  0.074470134 | -0.060198034 |  0.029452329 | -0.0442167817 | -7.870795e-02 |  0.04876875 | -0.044933415 | ⋯ |  0.0241711738 |  0.016372663 | -1.337236e-02 | -0.0576950415 | -0.168396386 | -0.0229610096 |  0.0238717668 | -0.3859247485 | -5.701107e-01 | -5.088772e-01 |\n| ZeroSum_GenderPerspective_1                                |  0.162347191 |  0.06388480 | -0.312399011 |  0.040823068 |  0.042755600 | -0.0945290580 | -1.161617e-02 |  0.07080823 |  0.011395899 | ⋯ |  0.2812868374 | -0.137437094 |  7.308630e-02 |  0.0228588488 | -0.039390236 |  0.0132788404 |  0.0110189790 |  0.0086831235 |  1.011402e-02 | -1.295933e-02 |\n| ZeroSum_GenderPerspective_2                                |  0.156988602 |  0.07224480 | -0.328766063 |  0.056938454 |  0.085087154 | -0.0890268476 | -3.811962e-02 |  0.12016812 |  0.017414720 | ⋯ |  0.1376531410 |  0.641199378 | -3.768503e-01 | -0.0569708171 |  0.072663284 |  0.1108169404 | -0.0331472940 | -0.0090658918 |  2.981321e-03 | -1.806848e-02 |\n| ZeroSum_GenderPerspective_3                                |  0.162376836 |  0.09604096 | -0.302771934 |  0.033039053 |  0.021940281 | -0.0649839441 |  1.790802e-02 |  0.05959479 | -0.003412212 | ⋯ | -0.4696765815 |  0.164069604 | -9.072512e-02 | -0.0156997356 |  0.048838435 | -0.0030384234 |  0.0183673810 | -0.0003349880 | -1.718205e-02 |  2.003313e-02 |\n| ZeroSum_GenderPerspective_4                                |  0.144100501 |  0.06104272 | -0.334224029 |  0.062685712 |  0.068833099 | -0.0813450528 | -3.852827e-02 |  0.10687132 |  0.023544528 | ⋯ | -0.4672267909 | -0.406311422 |  2.358387e-01 |  0.0473654399 | -0.059547669 | -0.0318629072 |  0.0331372527 |  0.0092678651 | -4.452853e-05 | -3.435830e-03 |\n| ZeroSum_GenderPerspective_5                                |  0.167384962 |  0.09872545 | -0.314411056 |  0.042962079 |  0.052466805 | -0.0634278196 | -9.169211e-03 |  0.07459930 |  0.019201190 | ⋯ |  0.5770334908 | -0.279258723 |  1.660939e-01 |  0.0403815856 | -0.081876445 | -0.0734642333 | -0.0182300286 | -0.0101780764 |  1.419133e-02 | -7.988251e-04 |\n| ZeroSum_GenderPerspective_6                                |  0.147297534 |  0.07556652 | -0.224768101 |  0.041784321 |  0.085106182 | -0.0645754576 | -1.115838e-02 |  0.09212253 |  0.032521261 | ⋯ | -0.0111723158 | -0.024921886 | -1.104092e-02 | -0.0050489708 |  0.023145080 | -0.0096864992 | -0.0055754549 |  0.0201959626 | -9.374131e-03 |  4.327180e-04 |\n| ZeroSum_GenderPerspective_7                                |  0.170194955 |  0.07999718 | -0.183735540 | -0.007515594 | -0.011338046 | -0.0507166046 | -3.071176e-02 | -0.02866935 |  0.049756480 | ⋯ | -0.0901066411 |  0.037676657 | -5.693941e-03 |  0.0005651739 |  0.036197567 |  0.0269248330 |  0.0072430866 | -0.0058167965 | -9.242129e-03 |  7.701421e-03 |\n| AmbivalentSexism_1                                         |  0.167945866 |  0.12325063 |  0.148047229 |  0.057328919 | -0.071952780 |  0.0339413418 |  6.640823e-02 | -0.07980699 | -0.035660745 | ⋯ |  0.0229358251 | -0.001365575 |  5.036234e-03 | -0.1050815228 |  0.094598800 | -0.2745746532 |  0.0132307378 | -0.0006089147 | -2.748541e-03 | -1.823696e-02 |\n| AmbivalentSexism_2                                         |  0.192689191 |  0.10820335 | -0.043645452 | -0.021469458 | -0.017676776 | -0.0008017393 | -5.637041e-07 | -0.10633947 |  0.015172564 | ⋯ | -0.1023512131 | -0.029527950 |  3.591936e-04 | -0.0256775368 |  0.011547615 |  0.0190581970 |  0.0197094905 | -0.0114212538 |  7.738859e-03 | -7.145405e-04 |\n| AmbivalentSexism_3                                         |  0.157554250 |  0.13528077 |  0.113963894 |  0.077167677 | -0.064972199 |  0.0635557277 |  7.061282e-02 | -0.07799890 | -0.070423473 | ⋯ | -0.0093483611 |  0.019433374 |  3.048161e-02 | -0.0473431764 |  0.013593315 |  0.0550915928 | -0.0385254273 |  0.0013682265 | -7.906953e-03 | -7.810624e-03 |\n| AmbivalentSexism_4                                         |  0.209524978 |  0.09003342 | -0.001453085 | -0.003453883 | -0.047895129 | -0.0068439294 |  2.282744e-02 | -0.15437023 |  0.059486631 | ⋯ |  0.0609566205 |  0.042243472 |  8.420440e-03 |  0.0638110170 |  0.010909781 | -0.0487071447 | -0.0498741902 |  0.0124995107 | -8.559202e-03 | -2.427818e-02 |\n| AmbivalentSexism_5                                         |  0.186537166 |  0.08992123 |  0.009374876 | -0.025710818 | -0.007877088 | -0.0079636030 | -5.871974e-04 | -0.12956071 |  0.060785607 | ⋯ |  0.0081379235 | -0.027896108 | -8.855391e-05 | -0.0071128385 | -0.041968900 |  0.0344003339 |  0.0263464653 | -0.0148446391 | -2.871591e-04 |  7.187180e-03 |\n| AmbivalentSexism_6                                         |  0.071642867 |  0.16048687 |  0.132579299 | -0.003025615 |  0.098384113 |  0.1146297855 |  1.249690e-01 | -0.01177725 | -0.012712395 | ⋯ |  0.0299415730 |  0.006395583 | -8.661889e-03 | -0.0215819195 | -0.008173479 |  0.0310520451 |  0.0030124462 |  0.0015218213 | -6.465816e-03 |  5.749365e-03 |\n| Ambivalence_toward_men_1                                   |  0.179652591 |  0.09739425 |  0.064768206 |  0.004082755 | -0.042086784 | -0.0104486561 |  4.164110e-02 | -0.11948573 |  0.029911918 | ⋯ |  0.0164547685 |  0.027673220 | -6.823616e-03 | -0.0080377692 | -0.016277074 | -0.0389883768 | -0.0131542692 |  0.0161509847 |  3.156844e-03 |  6.567647e-03 |\n| Ambivalence_toward_men_2                                   |  0.185851268 |  0.15218310 |  0.088888439 |  0.065131623 | -0.097007834 |  0.0334195286 |  1.274789e-01 | -0.10266078 | -0.077093433 | ⋯ | -0.0342351963 | -0.083390805 | -7.097241e-02 |  0.3129913565 | -0.182388587 |  0.6526701640 |  0.0829836218 | -0.0111108705 | -1.537882e-02 |  1.465639e-02 |\n| Ambivalence_toward_men_3                                   |  0.187848966 |  0.11691140 |  0.006758004 |  0.083853734 | -0.092296584 |  0.0091410927 |  1.145896e-01 | -0.10432340 | -0.078609056 | ⋯ | -0.0063381605 |  0.066215602 |  4.246605e-02 | -0.1096998244 |  0.061371761 | -0.5277820696 | -0.0298987324 |  0.0049593550 |  7.865024e-03 |  7.693884e-03 |\n| Ambivalence_toward_men_4                                   |  0.058969161 |  0.19441986 |  0.069100504 | -0.012420364 |  0.146067011 |  0.0950282451 |  1.201852e-01 |  0.03793096 | -0.139134895 | ⋯ | -0.0242548912 | -0.020523620 |  7.465212e-03 |  0.0783441280 | -0.004879883 | -0.0050045707 |  0.0042295877 | -0.0078597394 |  1.546905e-02 | -6.531254e-03 |\n| Ambivalence_toward_men_5                                   |  0.047178259 |  0.16126609 |  0.140361322 |  0.025876590 |  0.141134507 |  0.1778375343 |  9.353545e-02 |  0.05191306 | -0.138169140 | ⋯ | -0.0010179639 | -0.019741003 | -1.956650e-02 | -0.0477053009 |  0.036738198 | -0.0060125519 |  0.0038601167 | -0.0050443636 | -4.316965e-03 |  7.785283e-03 |\n| Ambivalence_toward_men_6                                   | -0.011442790 |  0.20049781 |  0.068793982 | -0.037233371 |  0.143567034 |  0.1516407863 |  8.323941e-02 |  0.07896021 | -0.114209353 | ⋯ |  0.0142041718 | -0.013971799 | -5.045659e-03 | -0.0608929540 | -0.005533559 | -0.0182640512 | -0.0090172661 | -0.0178564281 |  6.716006e-04 |  1.104932e-02 |\n| GenderEssentialism_1                                       |  0.166906433 |  0.06303112 |  0.118853422 | -0.019586704 | -0.041562312 |  0.0065112726 | -1.216878e-03 | -0.18482677 |  0.195183987 | ⋯ |  0.1513872603 |  0.035749984 |  3.512198e-02 |  0.0600118927 | -0.008936101 |  0.0876890981 |  0.0541376581 | -0.0029417736 |  1.655847e-03 |  3.293297e-03 |\n| GenderEssentialism_2                                       |  0.172383430 |  0.10710000 |  0.106589373 | -0.012961805 | -0.011348646 |  0.0563079743 |  2.529501e-02 | -0.12229822 |  0.096537491 | ⋯ |  0.0315565555 |  0.008237939 |  4.226828e-03 |  0.0267278025 | -0.021790506 |  0.0031107748 |  0.0198316809 | -0.0026659582 |  9.001250e-03 | -2.001078e-03 |\n| GenderEssentialism_3                                       |  0.152012399 |  0.10453885 |  0.160529205 | -0.038197742 | -0.036301982 |  0.0193404157 |  2.741034e-02 | -0.15579301 |  0.175551585 | ⋯ | -0.1719944367 | -0.018216711 | -3.714049e-02 | -0.0521788661 |  0.010833247 | -0.0965527572 | -0.0460853379 |  0.0010044603 | -3.268135e-04 | -6.241324e-03 |\n| PowerDistanceBeliefs_1                                     |  0.114917498 |  0.14575794 |  0.037536439 | -0.068093330 | -0.116070822 |  0.0046823169 |  1.063287e-01 | -0.04997327 |  0.013022805 | ⋯ |  0.0174586726 |  0.001630562 | -1.235418e-02 |  0.0010579439 |  0.011930186 | -0.0520546032 | -0.0213057957 |  0.0014285035 |  2.239486e-02 |  4.028718e-03 |\n| PowerDistanceBeliefs_2                                     |  0.137410342 |  0.08568344 |  0.083128754 | -0.081182621 | -0.048171816 | -0.0449080574 |  1.786513e-02 | -0.02116316 |  0.037551941 | ⋯ | -0.0317208535 | -0.019625636 |  7.001668e-03 |  0.0189262621 |  0.007580400 |  0.0135218660 | -0.0044980849 | -0.0022109601 | -7.668572e-03 |  7.187948e-03 |\n| PowerDistanceBeliefs_3                                     |  0.052641342 |  0.08101110 |  0.063770399 | -0.033458980 | -0.067485460 | -0.0239729214 |  3.858465e-02 |  0.06318009 |  0.085496659 | ⋯ |  0.0115994363 |  0.011377485 |  8.716872e-03 |  0.0108664261 | -0.006791967 |  0.0226234541 | -0.0100007416 |  0.0076258371 | -1.203561e-03 |  1.809000e-03 |\n| PowerDistanceBeliefs_4                                     |  0.133384449 |  0.06892659 | -0.056726894 | -0.090938893 | -0.093267602 | -0.0066535174 |  7.408130e-02 | -0.03846201 | -0.064196631 | ⋯ |  0.0138330498 |  0.035662026 |  6.298470e-03 |  0.0147861228 | -0.020408247 | -0.0097977556 |  0.0160467565 |  0.0015822177 |  3.214491e-04 | -8.953158e-04 |\n| Autonomy_1                                                 | -0.037669634 |  0.13153929 |  0.069907855 | -0.028716902 | -0.122172650 | -0.2442663326 | -2.717470e-01 | -0.10010621 |  0.039776263 | ⋯ | -0.0159743163 | -0.019732272 | -1.188425e-02 |  0.0109493121 |  0.016144622 | -0.0046543654 | -0.0036691393 | -0.0248261684 | -6.204469e-03 |  8.293465e-03 |\n| Autonomy_2                                                 |  0.083257427 |  0.08801615 |  0.034716952 | -0.259660929 | -0.007346647 | -0.1232277679 |  7.582274e-03 |  0.10185544 | -0.439624853 | ⋯ | -0.0506951710 |  0.056150414 | -9.064194e-03 |  0.0127127243 | -0.047638360 | -0.0385528377 | -0.0162402768 |  0.0044254667 |  2.532879e-03 |  8.211967e-04 |\n| Autonomy_3                                                 | -0.017573371 |  0.05233962 |  0.065110699 | -0.134137022 | -0.018819227 | -0.1959210333 | -1.669152e-01 |  0.04706217 | -0.427686285 | ⋯ |  0.0203948600 | -0.050437538 |  1.893042e-02 |  0.0214311171 |  0.002483715 |  0.0018986381 |  0.0114892950 |  0.0214617674 | -6.721029e-03 | -1.678343e-03 |\n| Autonomy_4                                                 |  0.021172729 |  0.14083677 |  0.106025945 | -0.175669549 | -0.041440700 | -0.2481262834 | -2.578894e-02 |  0.16269501 | -0.316644121 | ⋯ |  0.0630442472 | -0.037342242 | -1.232258e-02 |  0.0005173745 |  0.022137434 |  0.0215627491 | -0.0029940288 |  0.0105689438 | -1.111451e-02 |  4.201415e-03 |\n| Autonomy_5                                                 |  0.003209693 |  0.11203171 |  0.009103380 | -0.098024305 | -0.164132289 | -0.1518087935 | -3.772007e-01 | -0.30236549 | -0.189861688 | ⋯ | -0.0007699956 |  0.029508597 |  1.727795e-03 | -0.0343406471 | -0.006128283 | -0.0037298293 |  0.0108626612 |  0.0021147450 |  5.619579e-03 | -8.449091e-05 |\n| Embeddedness_1                                             |  0.014680729 |  0.11638110 |  0.145882075 | -0.039535539 | -0.010526603 | -0.1482720286 |  2.525018e-01 |  0.42375332 |  0.043683808 | ⋯ | -0.0040668524 |  0.031014253 |  1.906598e-02 | -0.0363927617 |  0.011464244 |  0.0021192043 |  0.0137592826 |  0.0009381424 |  4.113147e-03 | -4.865243e-03 |\n| Embeddedness_2                                             | -0.087925724 |  0.17677089 |  0.101952382 |  0.088113443 | -0.140390246 | -0.2954221674 | -1.390166e-01 |  0.06685555 |  0.227865015 | ⋯ | -0.0091065673 |  0.064548730 |  4.540606e-02 |  0.0139355036 |  0.020104381 | -0.0190855863 | -0.0172274376 | -0.0051277237 | -1.393337e-02 | -7.257907e-03 |\n| Embeddedness_3                                             | -0.065097946 |  0.14594872 |  0.150291006 |  0.127499552 | -0.123972653 | -0.2774497468 | -1.064195e-01 |  0.11801415 |  0.192144673 | ⋯ | -0.0050492641 | -0.032572517 | -4.487179e-02 | -0.0041665939 | -0.020512240 | -0.0021745751 |  0.0140935792 | -0.0101240843 |  5.412344e-03 |  3.276955e-03 |\n| Embeddedness_4                                             |  0.041046747 |  0.08013455 |  0.125061332 |  0.007376587 | -0.031165298 | -0.1671386663 |  2.611275e-01 |  0.38191502 |  0.091025787 | ⋯ | -0.0165859505 | -0.022118031 | -3.262240e-04 |  0.0060321058 | -0.017642512 | -0.0050106238 | -0.0095333350 | -0.0012209256 | -2.135044e-04 |  7.122982e-03 |\n| Embeddedness_5                                             | -0.097044238 |  0.13290271 |  0.066687544 |  0.072369276 | -0.123924682 | -0.2484236921 | -1.367370e-01 |  0.04433151 |  0.211123322 | ⋯ |  0.0162664850 | -0.024861329 | -1.580611e-02 |  0.0255368214 | -0.017955330 |  0.0150689432 | -0.0315812400 |  0.0006141268 |  6.562284e-03 |  5.305906e-03 |\n\n",
            "text/latex": "A tibble: 57 × 58\n\\begin{tabular}{lllllllllllllllllllll}\n Variable & PC1 & PC2 & PC3 & PC4 & PC5 & PC6 & PC7 & PC8 & PC9 & ⋯ & PC48 & PC49 & PC50 & PC51 & PC52 & PC53 & PC54 & PC55 & PC56 & PC57\\\\\n <chr> & <dbl> & <dbl> & <dbl> & <dbl> & <dbl> & <dbl> & <dbl> & <dbl> & <dbl> & ⋯ & <dbl> & <dbl> & <dbl> & <dbl> & <dbl> & <dbl> & <dbl> & <dbl> & <dbl> & <dbl>\\\\\n\\hline\n\t Gender\\_ideology\\_Men\\_should\\_prioritize                      & -0.027329306 &  0.04504442 & -0.071868663 & -0.501199877 &  0.092612493 & -0.0619898192 &  9.533923e-02 & -0.08751672 &  0.208858963 & ⋯ &  0.0590117733 & -0.166079936 & -2.642872e-02 & -0.5433729511 &  0.240192196 &  0.2507204330 & -0.0921823527 &  0.0074923011 & -2.656589e-02 &  1.551165e-02\\\\\n\t Gender\\_ideology\\_Women\\_should\\_prioritize                    & -0.099250371 &  0.02771561 & -0.049565943 & -0.470113995 &  0.114447274 & -0.0147034743 &  6.798801e-02 & -0.03998155 &  0.205415527 & ⋯ &  0.0032002255 &  0.150688967 &  5.329826e-02 &  0.5755731136 & -0.232590133 & -0.2623280621 &  0.1072026549 & -0.0074167503 &  2.205156e-02 & -9.321658e-04\\\\\n\t Gender\\_ideology\\_You\\_wil\\_prioritize                         & -0.058659772 &  0.04674223 & -0.074279010 & -0.486176026 &  0.109889279 & -0.0524557391 &  4.312868e-02 & -0.08106858 &  0.133319672 & ⋯ & -0.0701443756 &  0.015451940 & -1.337828e-02 & -0.0004961698 & -0.022082126 & -0.0142384305 &  0.0004738956 & -0.0036031122 &  3.031845e-04 & -1.120812e-02\\\\\n\t GenderStereotypes\\_gifted\\_STEM1\\_gifted\\_in\\_math              &  0.018669362 & -0.04224632 & -0.067564355 & -0.144075921 & -0.410962040 &  0.3006091116 & -3.207539e-02 &  0.14502278 &  0.032022238 & ⋯ &  0.0040786619 & -0.324744614 & -6.243208e-01 &  0.0798709418 & -0.015879374 & -0.1122807805 & -0.0816951348 & -0.0230291576 &  5.893279e-03 &  1.373051e-02\\\\\n\t GenderStereotypes\\_gifted\\_STEM2\\_gifted\\_in\\_science           &  0.028060134 & -0.03004133 & -0.042393442 & -0.132277864 & -0.367124615 &  0.2981923717 & -2.417767e-02 &  0.13706044 &  0.026148343 & ⋯ &  0.0022959805 &  0.305479304 &  5.641480e-01 & -0.0952293781 &  0.017740760 &  0.1113816405 &  0.0633965096 &  0.0123589996 & -6.489195e-03 & -8.445287e-03\\\\\n\t GenderStereotypes\\_gifted\\_Humanities1\\_gifted\\_in\\_humanities  &  0.022907000 &  0.01399713 & -0.088101719 & -0.089382781 & -0.411547654 &  0.1281989211 & -6.244894e-02 &  0.17823653 & -0.005595069 & ⋯ & -0.0203464831 &  0.046128128 &  1.132429e-01 &  0.0020240552 & -0.006837235 &  0.0221105239 &  0.0389461149 & -0.0018662562 &  1.431546e-03 &  6.032564e-03\\\\\n\t GenderStereotypes\\_gifted\\_Humanities2\\_linguistically\\_gifted &  0.009143577 &  0.02119781 & -0.075849416 & -0.078995559 & -0.329773906 &  0.1063463679 & -7.242497e-02 &  0.17139543 &  0.005306560 & ⋯ &  0.0338204594 & -0.010490225 & -1.194121e-03 & -0.0174852590 &  0.003026084 & -0.0059971863 & -0.0088324022 & -0.0074552120 &  2.488420e-04 & -3.696616e-03\\\\\n\t Precarious\\_manhood\\_1                                       &  0.090347497 &  0.11130707 &  0.045824622 & -0.026558394 &  0.166997553 &  0.1692761014 & -3.574019e-01 &  0.18727200 &  0.097145473 & ⋯ &  0.0244328772 & -0.007107300 &  3.428298e-04 & -0.0327504050 &  0.007657392 & -0.0171854330 & -0.0070791892 &  0.0165811411 & -3.732088e-03 & -2.955710e-03\\\\\n\t Precarious\\_manhood\\_2                                       &  0.103199328 &  0.12911705 &  0.136803659 & -0.014313769 &  0.162943545 &  0.2189153329 & -2.434126e-01 &  0.12860163 &  0.073311845 & ⋯ &  0.0165512041 & -0.012617334 &  1.046205e-02 & -0.0343723140 & -0.024554465 & -0.0030608511 & -0.0033375366 & -0.0103837976 & -1.232759e-02 &  4.755552e-03\\\\\n\t Precarious\\_manhood\\_3                                       &  0.015484061 &  0.13149039 &  0.095664200 & -0.051187204 &  0.210457061 &  0.1322148177 & -2.990851e-01 &  0.18194561 &  0.049010887 & ⋯ & -0.0245977703 & -0.007965764 &  5.140709e-03 &  0.0355295007 &  0.006232774 &  0.0139491694 &  0.0020505251 & -0.0063236017 &  2.483954e-03 &  3.015729e-04\\\\\n\t Precarious\\_manhood\\_4                                       &  0.101748252 &  0.12125613 &  0.078457808 & -0.016360176 &  0.147503356 &  0.2143314231 & -3.358064e-01 &  0.16643191 &  0.089307363 & ⋯ & -0.0273086403 &  0.004526054 & -1.874414e-02 &  0.0218893786 & -0.003392208 & -0.0007278902 &  0.0260971182 &  0.0071208210 &  8.768734e-03 & -5.778295e-04\\\\\n\t Collective\\_action\\_intentions\\_normative1                    &  0.196739167 & -0.17623545 &  0.117535794 & -0.034164377 &  0.006504829 & -0.0767014082 &  1.938105e-02 &  0.07105256 &  0.063484962 & ⋯ & -0.0379841060 &  0.017963214 &  8.208981e-02 &  0.1579640268 &  0.116124033 &  0.0520035613 & -0.6962289457 & -0.0971940262 & -7.830026e-02 &  8.987427e-02\\\\\n\t Collective\\_action\\_intentions\\_normative2                    &  0.189895047 & -0.11222421 &  0.013127176 & -0.009247265 & -0.056088158 & -0.0460306240 &  3.052077e-02 & -0.04201430 &  0.036876787 & ⋯ &  0.0580577852 & -0.022954864 & -5.414646e-02 & -0.0630726445 & -0.161072552 & -0.0109592140 &  0.1986319844 & -0.0053921452 &  3.475534e-02 & -2.393305e-03\\\\\n\t Collective\\_action\\_intentions\\_radical1                      &  0.150588366 & -0.16060548 &  0.153869558 & -0.019022836 &  0.021202910 & -0.1204364807 &  5.469468e-02 &  0.11764016 &  0.114656440 & ⋯ & -0.0316191680 & -0.025475367 & -7.467816e-02 & -0.1208307187 &  0.035151981 & -0.0201935085 &  0.5858533390 &  0.0066128998 & -1.189451e-03 & -3.527366e-02\\\\\n\t Collective\\_action\\_intentions\\_radical2                      &  0.137477089 & -0.15653781 &  0.117438563 & -0.005373930 &  0.037028067 & -0.0951489212 &  6.931339e-02 &  0.11023482 &  0.105345589 & ⋯ &  0.0306117474 & -0.005655822 &  2.533517e-02 &  0.0616080125 & -0.009224479 & -0.0546834836 & -0.1385893971 &  0.0268814859 &  6.412619e-03 &  4.104474e-03\\\\\n\t Collective\\_action\\_intentions\\_normative\\_long\\_1              &  0.185189694 & -0.24079982 &  0.087742782 & -0.052108718 &  0.025806565 & -0.0490787443 & -7.731414e-02 &  0.04860068 & -0.016815044 & ⋯ & -0.0007344348 &  0.051940701 & -3.874144e-02 & -0.1888964499 & -0.487742728 & -0.0169239780 & -0.0975581137 &  0.6849610538 & -7.128739e-02 &  1.573741e-01\\\\\n\t Collective\\_action\\_intentions\\_normative\\_long\\_2              &  0.188189182 & -0.24840295 &  0.073090705 & -0.053204003 &  0.037407288 & -0.0551984674 & -8.558440e-02 &  0.04741015 & -0.042518776 & ⋯ &  0.0019318784 &  0.037711109 &  1.145120e-03 & -0.1281154629 & -0.237017236 & -0.0093156131 &  0.0318890579 & -0.5594847239 &  4.363418e-01 &  4.563975e-01\\\\\n\t Collective\\_action\\_intentions\\_normative\\_long\\_3              &  0.202063532 & -0.23652022 &  0.078408250 & -0.061144035 &  0.016634786 & -0.0438647198 & -7.542954e-02 &  0.04292852 & -0.034443692 & ⋯ &  0.0079418536 & -0.024240822 &  7.946097e-03 &  0.1373260452 &  0.312822526 &  0.0435903647 & -0.0084587188 &  0.1845493817 &  6.011786e-01 & -5.468598e-01\\\\\n\t Collective\\_action\\_intentions\\_normative\\_long\\_4              &  0.172325604 & -0.22245094 &  0.030839054 & -0.006585361 &  0.001830158 & -0.0494954003 & -8.235713e-02 & -0.01495602 &  0.017907375 & ⋯ & -0.1291650250 & -0.046431061 &  3.696000e-02 & -0.0257460605 & -0.029356063 &  0.0211990298 & -0.0335327945 & -0.0059366541 & -5.296291e-02 & -1.885323e-02\\\\\n\t Collective\\_action\\_intentions\\_normative\\_long\\_5              &  0.193330573 & -0.22950360 &  0.053232423 & -0.053586397 &  0.017113515 & -0.0311170350 & -7.796625e-02 &  0.03086469 & -0.044699321 & ⋯ &  0.0668225011 & -0.036897476 &  1.245232e-02 &  0.2663214762 &  0.589299558 &  0.0043573139 &  0.2075770300 &  0.1401701336 & -3.218823e-01 &  4.422154e-01\\\\\n\t Collective\\_action\\_intentions\\_normative\\_long\\_6              &  0.190737053 & -0.24636369 &  0.074470134 & -0.060198034 &  0.029452329 & -0.0442167817 & -7.870795e-02 &  0.04876875 & -0.044933415 & ⋯ &  0.0241711738 &  0.016372663 & -1.337236e-02 & -0.0576950415 & -0.168396386 & -0.0229610096 &  0.0238717668 & -0.3859247485 & -5.701107e-01 & -5.088772e-01\\\\\n\t ZeroSum\\_GenderPerspective\\_1                                &  0.162347191 &  0.06388480 & -0.312399011 &  0.040823068 &  0.042755600 & -0.0945290580 & -1.161617e-02 &  0.07080823 &  0.011395899 & ⋯ &  0.2812868374 & -0.137437094 &  7.308630e-02 &  0.0228588488 & -0.039390236 &  0.0132788404 &  0.0110189790 &  0.0086831235 &  1.011402e-02 & -1.295933e-02\\\\\n\t ZeroSum\\_GenderPerspective\\_2                                &  0.156988602 &  0.07224480 & -0.328766063 &  0.056938454 &  0.085087154 & -0.0890268476 & -3.811962e-02 &  0.12016812 &  0.017414720 & ⋯ &  0.1376531410 &  0.641199378 & -3.768503e-01 & -0.0569708171 &  0.072663284 &  0.1108169404 & -0.0331472940 & -0.0090658918 &  2.981321e-03 & -1.806848e-02\\\\\n\t ZeroSum\\_GenderPerspective\\_3                                &  0.162376836 &  0.09604096 & -0.302771934 &  0.033039053 &  0.021940281 & -0.0649839441 &  1.790802e-02 &  0.05959479 & -0.003412212 & ⋯ & -0.4696765815 &  0.164069604 & -9.072512e-02 & -0.0156997356 &  0.048838435 & -0.0030384234 &  0.0183673810 & -0.0003349880 & -1.718205e-02 &  2.003313e-02\\\\\n\t ZeroSum\\_GenderPerspective\\_4                                &  0.144100501 &  0.06104272 & -0.334224029 &  0.062685712 &  0.068833099 & -0.0813450528 & -3.852827e-02 &  0.10687132 &  0.023544528 & ⋯ & -0.4672267909 & -0.406311422 &  2.358387e-01 &  0.0473654399 & -0.059547669 & -0.0318629072 &  0.0331372527 &  0.0092678651 & -4.452853e-05 & -3.435830e-03\\\\\n\t ZeroSum\\_GenderPerspective\\_5                                &  0.167384962 &  0.09872545 & -0.314411056 &  0.042962079 &  0.052466805 & -0.0634278196 & -9.169211e-03 &  0.07459930 &  0.019201190 & ⋯ &  0.5770334908 & -0.279258723 &  1.660939e-01 &  0.0403815856 & -0.081876445 & -0.0734642333 & -0.0182300286 & -0.0101780764 &  1.419133e-02 & -7.988251e-04\\\\\n\t ZeroSum\\_GenderPerspective\\_6                                &  0.147297534 &  0.07556652 & -0.224768101 &  0.041784321 &  0.085106182 & -0.0645754576 & -1.115838e-02 &  0.09212253 &  0.032521261 & ⋯ & -0.0111723158 & -0.024921886 & -1.104092e-02 & -0.0050489708 &  0.023145080 & -0.0096864992 & -0.0055754549 &  0.0201959626 & -9.374131e-03 &  4.327180e-04\\\\\n\t ZeroSum\\_GenderPerspective\\_7                                &  0.170194955 &  0.07999718 & -0.183735540 & -0.007515594 & -0.011338046 & -0.0507166046 & -3.071176e-02 & -0.02866935 &  0.049756480 & ⋯ & -0.0901066411 &  0.037676657 & -5.693941e-03 &  0.0005651739 &  0.036197567 &  0.0269248330 &  0.0072430866 & -0.0058167965 & -9.242129e-03 &  7.701421e-03\\\\\n\t AmbivalentSexism\\_1                                         &  0.167945866 &  0.12325063 &  0.148047229 &  0.057328919 & -0.071952780 &  0.0339413418 &  6.640823e-02 & -0.07980699 & -0.035660745 & ⋯ &  0.0229358251 & -0.001365575 &  5.036234e-03 & -0.1050815228 &  0.094598800 & -0.2745746532 &  0.0132307378 & -0.0006089147 & -2.748541e-03 & -1.823696e-02\\\\\n\t AmbivalentSexism\\_2                                         &  0.192689191 &  0.10820335 & -0.043645452 & -0.021469458 & -0.017676776 & -0.0008017393 & -5.637041e-07 & -0.10633947 &  0.015172564 & ⋯ & -0.1023512131 & -0.029527950 &  3.591936e-04 & -0.0256775368 &  0.011547615 &  0.0190581970 &  0.0197094905 & -0.0114212538 &  7.738859e-03 & -7.145405e-04\\\\\n\t AmbivalentSexism\\_3                                         &  0.157554250 &  0.13528077 &  0.113963894 &  0.077167677 & -0.064972199 &  0.0635557277 &  7.061282e-02 & -0.07799890 & -0.070423473 & ⋯ & -0.0093483611 &  0.019433374 &  3.048161e-02 & -0.0473431764 &  0.013593315 &  0.0550915928 & -0.0385254273 &  0.0013682265 & -7.906953e-03 & -7.810624e-03\\\\\n\t AmbivalentSexism\\_4                                         &  0.209524978 &  0.09003342 & -0.001453085 & -0.003453883 & -0.047895129 & -0.0068439294 &  2.282744e-02 & -0.15437023 &  0.059486631 & ⋯ &  0.0609566205 &  0.042243472 &  8.420440e-03 &  0.0638110170 &  0.010909781 & -0.0487071447 & -0.0498741902 &  0.0124995107 & -8.559202e-03 & -2.427818e-02\\\\\n\t AmbivalentSexism\\_5                                         &  0.186537166 &  0.08992123 &  0.009374876 & -0.025710818 & -0.007877088 & -0.0079636030 & -5.871974e-04 & -0.12956071 &  0.060785607 & ⋯ &  0.0081379235 & -0.027896108 & -8.855391e-05 & -0.0071128385 & -0.041968900 &  0.0344003339 &  0.0263464653 & -0.0148446391 & -2.871591e-04 &  7.187180e-03\\\\\n\t AmbivalentSexism\\_6                                         &  0.071642867 &  0.16048687 &  0.132579299 & -0.003025615 &  0.098384113 &  0.1146297855 &  1.249690e-01 & -0.01177725 & -0.012712395 & ⋯ &  0.0299415730 &  0.006395583 & -8.661889e-03 & -0.0215819195 & -0.008173479 &  0.0310520451 &  0.0030124462 &  0.0015218213 & -6.465816e-03 &  5.749365e-03\\\\\n\t Ambivalence\\_toward\\_men\\_1                                   &  0.179652591 &  0.09739425 &  0.064768206 &  0.004082755 & -0.042086784 & -0.0104486561 &  4.164110e-02 & -0.11948573 &  0.029911918 & ⋯ &  0.0164547685 &  0.027673220 & -6.823616e-03 & -0.0080377692 & -0.016277074 & -0.0389883768 & -0.0131542692 &  0.0161509847 &  3.156844e-03 &  6.567647e-03\\\\\n\t Ambivalence\\_toward\\_men\\_2                                   &  0.185851268 &  0.15218310 &  0.088888439 &  0.065131623 & -0.097007834 &  0.0334195286 &  1.274789e-01 & -0.10266078 & -0.077093433 & ⋯ & -0.0342351963 & -0.083390805 & -7.097241e-02 &  0.3129913565 & -0.182388587 &  0.6526701640 &  0.0829836218 & -0.0111108705 & -1.537882e-02 &  1.465639e-02\\\\\n\t Ambivalence\\_toward\\_men\\_3                                   &  0.187848966 &  0.11691140 &  0.006758004 &  0.083853734 & -0.092296584 &  0.0091410927 &  1.145896e-01 & -0.10432340 & -0.078609056 & ⋯ & -0.0063381605 &  0.066215602 &  4.246605e-02 & -0.1096998244 &  0.061371761 & -0.5277820696 & -0.0298987324 &  0.0049593550 &  7.865024e-03 &  7.693884e-03\\\\\n\t Ambivalence\\_toward\\_men\\_4                                   &  0.058969161 &  0.19441986 &  0.069100504 & -0.012420364 &  0.146067011 &  0.0950282451 &  1.201852e-01 &  0.03793096 & -0.139134895 & ⋯ & -0.0242548912 & -0.020523620 &  7.465212e-03 &  0.0783441280 & -0.004879883 & -0.0050045707 &  0.0042295877 & -0.0078597394 &  1.546905e-02 & -6.531254e-03\\\\\n\t Ambivalence\\_toward\\_men\\_5                                   &  0.047178259 &  0.16126609 &  0.140361322 &  0.025876590 &  0.141134507 &  0.1778375343 &  9.353545e-02 &  0.05191306 & -0.138169140 & ⋯ & -0.0010179639 & -0.019741003 & -1.956650e-02 & -0.0477053009 &  0.036738198 & -0.0060125519 &  0.0038601167 & -0.0050443636 & -4.316965e-03 &  7.785283e-03\\\\\n\t Ambivalence\\_toward\\_men\\_6                                   & -0.011442790 &  0.20049781 &  0.068793982 & -0.037233371 &  0.143567034 &  0.1516407863 &  8.323941e-02 &  0.07896021 & -0.114209353 & ⋯ &  0.0142041718 & -0.013971799 & -5.045659e-03 & -0.0608929540 & -0.005533559 & -0.0182640512 & -0.0090172661 & -0.0178564281 &  6.716006e-04 &  1.104932e-02\\\\\n\t GenderEssentialism\\_1                                       &  0.166906433 &  0.06303112 &  0.118853422 & -0.019586704 & -0.041562312 &  0.0065112726 & -1.216878e-03 & -0.18482677 &  0.195183987 & ⋯ &  0.1513872603 &  0.035749984 &  3.512198e-02 &  0.0600118927 & -0.008936101 &  0.0876890981 &  0.0541376581 & -0.0029417736 &  1.655847e-03 &  3.293297e-03\\\\\n\t GenderEssentialism\\_2                                       &  0.172383430 &  0.10710000 &  0.106589373 & -0.012961805 & -0.011348646 &  0.0563079743 &  2.529501e-02 & -0.12229822 &  0.096537491 & ⋯ &  0.0315565555 &  0.008237939 &  4.226828e-03 &  0.0267278025 & -0.021790506 &  0.0031107748 &  0.0198316809 & -0.0026659582 &  9.001250e-03 & -2.001078e-03\\\\\n\t GenderEssentialism\\_3                                       &  0.152012399 &  0.10453885 &  0.160529205 & -0.038197742 & -0.036301982 &  0.0193404157 &  2.741034e-02 & -0.15579301 &  0.175551585 & ⋯ & -0.1719944367 & -0.018216711 & -3.714049e-02 & -0.0521788661 &  0.010833247 & -0.0965527572 & -0.0460853379 &  0.0010044603 & -3.268135e-04 & -6.241324e-03\\\\\n\t PowerDistanceBeliefs\\_1                                     &  0.114917498 &  0.14575794 &  0.037536439 & -0.068093330 & -0.116070822 &  0.0046823169 &  1.063287e-01 & -0.04997327 &  0.013022805 & ⋯ &  0.0174586726 &  0.001630562 & -1.235418e-02 &  0.0010579439 &  0.011930186 & -0.0520546032 & -0.0213057957 &  0.0014285035 &  2.239486e-02 &  4.028718e-03\\\\\n\t PowerDistanceBeliefs\\_2                                     &  0.137410342 &  0.08568344 &  0.083128754 & -0.081182621 & -0.048171816 & -0.0449080574 &  1.786513e-02 & -0.02116316 &  0.037551941 & ⋯ & -0.0317208535 & -0.019625636 &  7.001668e-03 &  0.0189262621 &  0.007580400 &  0.0135218660 & -0.0044980849 & -0.0022109601 & -7.668572e-03 &  7.187948e-03\\\\\n\t PowerDistanceBeliefs\\_3                                     &  0.052641342 &  0.08101110 &  0.063770399 & -0.033458980 & -0.067485460 & -0.0239729214 &  3.858465e-02 &  0.06318009 &  0.085496659 & ⋯ &  0.0115994363 &  0.011377485 &  8.716872e-03 &  0.0108664261 & -0.006791967 &  0.0226234541 & -0.0100007416 &  0.0076258371 & -1.203561e-03 &  1.809000e-03\\\\\n\t PowerDistanceBeliefs\\_4                                     &  0.133384449 &  0.06892659 & -0.056726894 & -0.090938893 & -0.093267602 & -0.0066535174 &  7.408130e-02 & -0.03846201 & -0.064196631 & ⋯ &  0.0138330498 &  0.035662026 &  6.298470e-03 &  0.0147861228 & -0.020408247 & -0.0097977556 &  0.0160467565 &  0.0015822177 &  3.214491e-04 & -8.953158e-04\\\\\n\t Autonomy\\_1                                                 & -0.037669634 &  0.13153929 &  0.069907855 & -0.028716902 & -0.122172650 & -0.2442663326 & -2.717470e-01 & -0.10010621 &  0.039776263 & ⋯ & -0.0159743163 & -0.019732272 & -1.188425e-02 &  0.0109493121 &  0.016144622 & -0.0046543654 & -0.0036691393 & -0.0248261684 & -6.204469e-03 &  8.293465e-03\\\\\n\t Autonomy\\_2                                                 &  0.083257427 &  0.08801615 &  0.034716952 & -0.259660929 & -0.007346647 & -0.1232277679 &  7.582274e-03 &  0.10185544 & -0.439624853 & ⋯ & -0.0506951710 &  0.056150414 & -9.064194e-03 &  0.0127127243 & -0.047638360 & -0.0385528377 & -0.0162402768 &  0.0044254667 &  2.532879e-03 &  8.211967e-04\\\\\n\t Autonomy\\_3                                                 & -0.017573371 &  0.05233962 &  0.065110699 & -0.134137022 & -0.018819227 & -0.1959210333 & -1.669152e-01 &  0.04706217 & -0.427686285 & ⋯ &  0.0203948600 & -0.050437538 &  1.893042e-02 &  0.0214311171 &  0.002483715 &  0.0018986381 &  0.0114892950 &  0.0214617674 & -6.721029e-03 & -1.678343e-03\\\\\n\t Autonomy\\_4                                                 &  0.021172729 &  0.14083677 &  0.106025945 & -0.175669549 & -0.041440700 & -0.2481262834 & -2.578894e-02 &  0.16269501 & -0.316644121 & ⋯ &  0.0630442472 & -0.037342242 & -1.232258e-02 &  0.0005173745 &  0.022137434 &  0.0215627491 & -0.0029940288 &  0.0105689438 & -1.111451e-02 &  4.201415e-03\\\\\n\t Autonomy\\_5                                                 &  0.003209693 &  0.11203171 &  0.009103380 & -0.098024305 & -0.164132289 & -0.1518087935 & -3.772007e-01 & -0.30236549 & -0.189861688 & ⋯ & -0.0007699956 &  0.029508597 &  1.727795e-03 & -0.0343406471 & -0.006128283 & -0.0037298293 &  0.0108626612 &  0.0021147450 &  5.619579e-03 & -8.449091e-05\\\\\n\t Embeddedness\\_1                                             &  0.014680729 &  0.11638110 &  0.145882075 & -0.039535539 & -0.010526603 & -0.1482720286 &  2.525018e-01 &  0.42375332 &  0.043683808 & ⋯ & -0.0040668524 &  0.031014253 &  1.906598e-02 & -0.0363927617 &  0.011464244 &  0.0021192043 &  0.0137592826 &  0.0009381424 &  4.113147e-03 & -4.865243e-03\\\\\n\t Embeddedness\\_2                                             & -0.087925724 &  0.17677089 &  0.101952382 &  0.088113443 & -0.140390246 & -0.2954221674 & -1.390166e-01 &  0.06685555 &  0.227865015 & ⋯ & -0.0091065673 &  0.064548730 &  4.540606e-02 &  0.0139355036 &  0.020104381 & -0.0190855863 & -0.0172274376 & -0.0051277237 & -1.393337e-02 & -7.257907e-03\\\\\n\t Embeddedness\\_3                                             & -0.065097946 &  0.14594872 &  0.150291006 &  0.127499552 & -0.123972653 & -0.2774497468 & -1.064195e-01 &  0.11801415 &  0.192144673 & ⋯ & -0.0050492641 & -0.032572517 & -4.487179e-02 & -0.0041665939 & -0.020512240 & -0.0021745751 &  0.0140935792 & -0.0101240843 &  5.412344e-03 &  3.276955e-03\\\\\n\t Embeddedness\\_4                                             &  0.041046747 &  0.08013455 &  0.125061332 &  0.007376587 & -0.031165298 & -0.1671386663 &  2.611275e-01 &  0.38191502 &  0.091025787 & ⋯ & -0.0165859505 & -0.022118031 & -3.262240e-04 &  0.0060321058 & -0.017642512 & -0.0050106238 & -0.0095333350 & -0.0012209256 & -2.135044e-04 &  7.122982e-03\\\\\n\t Embeddedness\\_5                                             & -0.097044238 &  0.13290271 &  0.066687544 &  0.072369276 & -0.123924682 & -0.2484236921 & -1.367370e-01 &  0.04433151 &  0.211123322 & ⋯ &  0.0162664850 & -0.024861329 & -1.580611e-02 &  0.0255368214 & -0.017955330 &  0.0150689432 & -0.0315812400 &  0.0006141268 &  6.562284e-03 &  5.305906e-03\\\\\n\\end{tabular}\n",
            "text/plain": [
              "   Variable                                                   PC1         \n",
              "1  Gender_ideology_Men_should_prioritize                      -0.027329306\n",
              "2  Gender_ideology_Women_should_prioritize                    -0.099250371\n",
              "3  Gender_ideology_You_wil_prioritize                         -0.058659772\n",
              "4  GenderStereotypes_gifted_STEM1_gifted_in_math               0.018669362\n",
              "5  GenderStereotypes_gifted_STEM2_gifted_in_science            0.028060134\n",
              "6  GenderStereotypes_gifted_Humanities1_gifted_in_humanities   0.022907000\n",
              "7  GenderStereotypes_gifted_Humanities2_linguistically_gifted  0.009143577\n",
              "8  Precarious_manhood_1                                        0.090347497\n",
              "9  Precarious_manhood_2                                        0.103199328\n",
              "10 Precarious_manhood_3                                        0.015484061\n",
              "11 Precarious_manhood_4                                        0.101748252\n",
              "12 Collective_action_intentions_normative1                     0.196739167\n",
              "13 Collective_action_intentions_normative2                     0.189895047\n",
              "14 Collective_action_intentions_radical1                       0.150588366\n",
              "15 Collective_action_intentions_radical2                       0.137477089\n",
              "16 Collective_action_intentions_normative_long_1               0.185189694\n",
              "17 Collective_action_intentions_normative_long_2               0.188189182\n",
              "18 Collective_action_intentions_normative_long_3               0.202063532\n",
              "19 Collective_action_intentions_normative_long_4               0.172325604\n",
              "20 Collective_action_intentions_normative_long_5               0.193330573\n",
              "21 Collective_action_intentions_normative_long_6               0.190737053\n",
              "22 ZeroSum_GenderPerspective_1                                 0.162347191\n",
              "23 ZeroSum_GenderPerspective_2                                 0.156988602\n",
              "24 ZeroSum_GenderPerspective_3                                 0.162376836\n",
              "25 ZeroSum_GenderPerspective_4                                 0.144100501\n",
              "26 ZeroSum_GenderPerspective_5                                 0.167384962\n",
              "27 ZeroSum_GenderPerspective_6                                 0.147297534\n",
              "28 ZeroSum_GenderPerspective_7                                 0.170194955\n",
              "29 AmbivalentSexism_1                                          0.167945866\n",
              "30 AmbivalentSexism_2                                          0.192689191\n",
              "31 AmbivalentSexism_3                                          0.157554250\n",
              "32 AmbivalentSexism_4                                          0.209524978\n",
              "33 AmbivalentSexism_5                                          0.186537166\n",
              "34 AmbivalentSexism_6                                          0.071642867\n",
              "35 Ambivalence_toward_men_1                                    0.179652591\n",
              "36 Ambivalence_toward_men_2                                    0.185851268\n",
              "37 Ambivalence_toward_men_3                                    0.187848966\n",
              "38 Ambivalence_toward_men_4                                    0.058969161\n",
              "39 Ambivalence_toward_men_5                                    0.047178259\n",
              "40 Ambivalence_toward_men_6                                   -0.011442790\n",
              "41 GenderEssentialism_1                                        0.166906433\n",
              "42 GenderEssentialism_2                                        0.172383430\n",
              "43 GenderEssentialism_3                                        0.152012399\n",
              "44 PowerDistanceBeliefs_1                                      0.114917498\n",
              "45 PowerDistanceBeliefs_2                                      0.137410342\n",
              "46 PowerDistanceBeliefs_3                                      0.052641342\n",
              "47 PowerDistanceBeliefs_4                                      0.133384449\n",
              "48 Autonomy_1                                                 -0.037669634\n",
              "49 Autonomy_2                                                  0.083257427\n",
              "50 Autonomy_3                                                 -0.017573371\n",
              "51 Autonomy_4                                                  0.021172729\n",
              "52 Autonomy_5                                                  0.003209693\n",
              "53 Embeddedness_1                                              0.014680729\n",
              "54 Embeddedness_2                                             -0.087925724\n",
              "55 Embeddedness_3                                             -0.065097946\n",
              "56 Embeddedness_4                                              0.041046747\n",
              "57 Embeddedness_5                                             -0.097044238\n",
              "   PC2         PC3          PC4          PC5          PC6          \n",
              "1   0.04504442 -0.071868663 -0.501199877  0.092612493 -0.0619898192\n",
              "2   0.02771561 -0.049565943 -0.470113995  0.114447274 -0.0147034743\n",
              "3   0.04674223 -0.074279010 -0.486176026  0.109889279 -0.0524557391\n",
              "4  -0.04224632 -0.067564355 -0.144075921 -0.410962040  0.3006091116\n",
              "5  -0.03004133 -0.042393442 -0.132277864 -0.367124615  0.2981923717\n",
              "6   0.01399713 -0.088101719 -0.089382781 -0.411547654  0.1281989211\n",
              "7   0.02119781 -0.075849416 -0.078995559 -0.329773906  0.1063463679\n",
              "8   0.11130707  0.045824622 -0.026558394  0.166997553  0.1692761014\n",
              "9   0.12911705  0.136803659 -0.014313769  0.162943545  0.2189153329\n",
              "10  0.13149039  0.095664200 -0.051187204  0.210457061  0.1322148177\n",
              "11  0.12125613  0.078457808 -0.016360176  0.147503356  0.2143314231\n",
              "12 -0.17623545  0.117535794 -0.034164377  0.006504829 -0.0767014082\n",
              "13 -0.11222421  0.013127176 -0.009247265 -0.056088158 -0.0460306240\n",
              "14 -0.16060548  0.153869558 -0.019022836  0.021202910 -0.1204364807\n",
              "15 -0.15653781  0.117438563 -0.005373930  0.037028067 -0.0951489212\n",
              "16 -0.24079982  0.087742782 -0.052108718  0.025806565 -0.0490787443\n",
              "17 -0.24840295  0.073090705 -0.053204003  0.037407288 -0.0551984674\n",
              "18 -0.23652022  0.078408250 -0.061144035  0.016634786 -0.0438647198\n",
              "19 -0.22245094  0.030839054 -0.006585361  0.001830158 -0.0494954003\n",
              "20 -0.22950360  0.053232423 -0.053586397  0.017113515 -0.0311170350\n",
              "21 -0.24636369  0.074470134 -0.060198034  0.029452329 -0.0442167817\n",
              "22  0.06388480 -0.312399011  0.040823068  0.042755600 -0.0945290580\n",
              "23  0.07224480 -0.328766063  0.056938454  0.085087154 -0.0890268476\n",
              "24  0.09604096 -0.302771934  0.033039053  0.021940281 -0.0649839441\n",
              "25  0.06104272 -0.334224029  0.062685712  0.068833099 -0.0813450528\n",
              "26  0.09872545 -0.314411056  0.042962079  0.052466805 -0.0634278196\n",
              "27  0.07556652 -0.224768101  0.041784321  0.085106182 -0.0645754576\n",
              "28  0.07999718 -0.183735540 -0.007515594 -0.011338046 -0.0507166046\n",
              "29  0.12325063  0.148047229  0.057328919 -0.071952780  0.0339413418\n",
              "30  0.10820335 -0.043645452 -0.021469458 -0.017676776 -0.0008017393\n",
              "31  0.13528077  0.113963894  0.077167677 -0.064972199  0.0635557277\n",
              "32  0.09003342 -0.001453085 -0.003453883 -0.047895129 -0.0068439294\n",
              "33  0.08992123  0.009374876 -0.025710818 -0.007877088 -0.0079636030\n",
              "34  0.16048687  0.132579299 -0.003025615  0.098384113  0.1146297855\n",
              "35  0.09739425  0.064768206  0.004082755 -0.042086784 -0.0104486561\n",
              "36  0.15218310  0.088888439  0.065131623 -0.097007834  0.0334195286\n",
              "37  0.11691140  0.006758004  0.083853734 -0.092296584  0.0091410927\n",
              "38  0.19441986  0.069100504 -0.012420364  0.146067011  0.0950282451\n",
              "39  0.16126609  0.140361322  0.025876590  0.141134507  0.1778375343\n",
              "40  0.20049781  0.068793982 -0.037233371  0.143567034  0.1516407863\n",
              "41  0.06303112  0.118853422 -0.019586704 -0.041562312  0.0065112726\n",
              "42  0.10710000  0.106589373 -0.012961805 -0.011348646  0.0563079743\n",
              "43  0.10453885  0.160529205 -0.038197742 -0.036301982  0.0193404157\n",
              "44  0.14575794  0.037536439 -0.068093330 -0.116070822  0.0046823169\n",
              "45  0.08568344  0.083128754 -0.081182621 -0.048171816 -0.0449080574\n",
              "46  0.08101110  0.063770399 -0.033458980 -0.067485460 -0.0239729214\n",
              "47  0.06892659 -0.056726894 -0.090938893 -0.093267602 -0.0066535174\n",
              "48  0.13153929  0.069907855 -0.028716902 -0.122172650 -0.2442663326\n",
              "49  0.08801615  0.034716952 -0.259660929 -0.007346647 -0.1232277679\n",
              "50  0.05233962  0.065110699 -0.134137022 -0.018819227 -0.1959210333\n",
              "51  0.14083677  0.106025945 -0.175669549 -0.041440700 -0.2481262834\n",
              "52  0.11203171  0.009103380 -0.098024305 -0.164132289 -0.1518087935\n",
              "53  0.11638110  0.145882075 -0.039535539 -0.010526603 -0.1482720286\n",
              "54  0.17677089  0.101952382  0.088113443 -0.140390246 -0.2954221674\n",
              "55  0.14594872  0.150291006  0.127499552 -0.123972653 -0.2774497468\n",
              "56  0.08013455  0.125061332  0.007376587 -0.031165298 -0.1671386663\n",
              "57  0.13290271  0.066687544  0.072369276 -0.123924682 -0.2484236921\n",
              "   PC7           PC8         PC9          ⋯ PC48          PC49        \n",
              "1   9.533923e-02 -0.08751672  0.208858963 ⋯  0.0590117733 -0.166079936\n",
              "2   6.798801e-02 -0.03998155  0.205415527 ⋯  0.0032002255  0.150688967\n",
              "3   4.312868e-02 -0.08106858  0.133319672 ⋯ -0.0701443756  0.015451940\n",
              "4  -3.207539e-02  0.14502278  0.032022238 ⋯  0.0040786619 -0.324744614\n",
              "5  -2.417767e-02  0.13706044  0.026148343 ⋯  0.0022959805  0.305479304\n",
              "6  -6.244894e-02  0.17823653 -0.005595069 ⋯ -0.0203464831  0.046128128\n",
              "7  -7.242497e-02  0.17139543  0.005306560 ⋯  0.0338204594 -0.010490225\n",
              "8  -3.574019e-01  0.18727200  0.097145473 ⋯  0.0244328772 -0.007107300\n",
              "9  -2.434126e-01  0.12860163  0.073311845 ⋯  0.0165512041 -0.012617334\n",
              "10 -2.990851e-01  0.18194561  0.049010887 ⋯ -0.0245977703 -0.007965764\n",
              "11 -3.358064e-01  0.16643191  0.089307363 ⋯ -0.0273086403  0.004526054\n",
              "12  1.938105e-02  0.07105256  0.063484962 ⋯ -0.0379841060  0.017963214\n",
              "13  3.052077e-02 -0.04201430  0.036876787 ⋯  0.0580577852 -0.022954864\n",
              "14  5.469468e-02  0.11764016  0.114656440 ⋯ -0.0316191680 -0.025475367\n",
              "15  6.931339e-02  0.11023482  0.105345589 ⋯  0.0306117474 -0.005655822\n",
              "16 -7.731414e-02  0.04860068 -0.016815044 ⋯ -0.0007344348  0.051940701\n",
              "17 -8.558440e-02  0.04741015 -0.042518776 ⋯  0.0019318784  0.037711109\n",
              "18 -7.542954e-02  0.04292852 -0.034443692 ⋯  0.0079418536 -0.024240822\n",
              "19 -8.235713e-02 -0.01495602  0.017907375 ⋯ -0.1291650250 -0.046431061\n",
              "20 -7.796625e-02  0.03086469 -0.044699321 ⋯  0.0668225011 -0.036897476\n",
              "21 -7.870795e-02  0.04876875 -0.044933415 ⋯  0.0241711738  0.016372663\n",
              "22 -1.161617e-02  0.07080823  0.011395899 ⋯  0.2812868374 -0.137437094\n",
              "23 -3.811962e-02  0.12016812  0.017414720 ⋯  0.1376531410  0.641199378\n",
              "24  1.790802e-02  0.05959479 -0.003412212 ⋯ -0.4696765815  0.164069604\n",
              "25 -3.852827e-02  0.10687132  0.023544528 ⋯ -0.4672267909 -0.406311422\n",
              "26 -9.169211e-03  0.07459930  0.019201190 ⋯  0.5770334908 -0.279258723\n",
              "27 -1.115838e-02  0.09212253  0.032521261 ⋯ -0.0111723158 -0.024921886\n",
              "28 -3.071176e-02 -0.02866935  0.049756480 ⋯ -0.0901066411  0.037676657\n",
              "29  6.640823e-02 -0.07980699 -0.035660745 ⋯  0.0229358251 -0.001365575\n",
              "30 -5.637041e-07 -0.10633947  0.015172564 ⋯ -0.1023512131 -0.029527950\n",
              "31  7.061282e-02 -0.07799890 -0.070423473 ⋯ -0.0093483611  0.019433374\n",
              "32  2.282744e-02 -0.15437023  0.059486631 ⋯  0.0609566205  0.042243472\n",
              "33 -5.871974e-04 -0.12956071  0.060785607 ⋯  0.0081379235 -0.027896108\n",
              "34  1.249690e-01 -0.01177725 -0.012712395 ⋯  0.0299415730  0.006395583\n",
              "35  4.164110e-02 -0.11948573  0.029911918 ⋯  0.0164547685  0.027673220\n",
              "36  1.274789e-01 -0.10266078 -0.077093433 ⋯ -0.0342351963 -0.083390805\n",
              "37  1.145896e-01 -0.10432340 -0.078609056 ⋯ -0.0063381605  0.066215602\n",
              "38  1.201852e-01  0.03793096 -0.139134895 ⋯ -0.0242548912 -0.020523620\n",
              "39  9.353545e-02  0.05191306 -0.138169140 ⋯ -0.0010179639 -0.019741003\n",
              "40  8.323941e-02  0.07896021 -0.114209353 ⋯  0.0142041718 -0.013971799\n",
              "41 -1.216878e-03 -0.18482677  0.195183987 ⋯  0.1513872603  0.035749984\n",
              "42  2.529501e-02 -0.12229822  0.096537491 ⋯  0.0315565555  0.008237939\n",
              "43  2.741034e-02 -0.15579301  0.175551585 ⋯ -0.1719944367 -0.018216711\n",
              "44  1.063287e-01 -0.04997327  0.013022805 ⋯  0.0174586726  0.001630562\n",
              "45  1.786513e-02 -0.02116316  0.037551941 ⋯ -0.0317208535 -0.019625636\n",
              "46  3.858465e-02  0.06318009  0.085496659 ⋯  0.0115994363  0.011377485\n",
              "47  7.408130e-02 -0.03846201 -0.064196631 ⋯  0.0138330498  0.035662026\n",
              "48 -2.717470e-01 -0.10010621  0.039776263 ⋯ -0.0159743163 -0.019732272\n",
              "49  7.582274e-03  0.10185544 -0.439624853 ⋯ -0.0506951710  0.056150414\n",
              "50 -1.669152e-01  0.04706217 -0.427686285 ⋯  0.0203948600 -0.050437538\n",
              "51 -2.578894e-02  0.16269501 -0.316644121 ⋯  0.0630442472 -0.037342242\n",
              "52 -3.772007e-01 -0.30236549 -0.189861688 ⋯ -0.0007699956  0.029508597\n",
              "53  2.525018e-01  0.42375332  0.043683808 ⋯ -0.0040668524  0.031014253\n",
              "54 -1.390166e-01  0.06685555  0.227865015 ⋯ -0.0091065673  0.064548730\n",
              "55 -1.064195e-01  0.11801415  0.192144673 ⋯ -0.0050492641 -0.032572517\n",
              "56  2.611275e-01  0.38191502  0.091025787 ⋯ -0.0165859505 -0.022118031\n",
              "57 -1.367370e-01  0.04433151  0.211123322 ⋯  0.0162664850 -0.024861329\n",
              "   PC50          PC51          PC52         PC53          PC54         \n",
              "1  -2.642872e-02 -0.5433729511  0.240192196  0.2507204330 -0.0921823527\n",
              "2   5.329826e-02  0.5755731136 -0.232590133 -0.2623280621  0.1072026549\n",
              "3  -1.337828e-02 -0.0004961698 -0.022082126 -0.0142384305  0.0004738956\n",
              "4  -6.243208e-01  0.0798709418 -0.015879374 -0.1122807805 -0.0816951348\n",
              "5   5.641480e-01 -0.0952293781  0.017740760  0.1113816405  0.0633965096\n",
              "6   1.132429e-01  0.0020240552 -0.006837235  0.0221105239  0.0389461149\n",
              "7  -1.194121e-03 -0.0174852590  0.003026084 -0.0059971863 -0.0088324022\n",
              "8   3.428298e-04 -0.0327504050  0.007657392 -0.0171854330 -0.0070791892\n",
              "9   1.046205e-02 -0.0343723140 -0.024554465 -0.0030608511 -0.0033375366\n",
              "10  5.140709e-03  0.0355295007  0.006232774  0.0139491694  0.0020505251\n",
              "11 -1.874414e-02  0.0218893786 -0.003392208 -0.0007278902  0.0260971182\n",
              "12  8.208981e-02  0.1579640268  0.116124033  0.0520035613 -0.6962289457\n",
              "13 -5.414646e-02 -0.0630726445 -0.161072552 -0.0109592140  0.1986319844\n",
              "14 -7.467816e-02 -0.1208307187  0.035151981 -0.0201935085  0.5858533390\n",
              "15  2.533517e-02  0.0616080125 -0.009224479 -0.0546834836 -0.1385893971\n",
              "16 -3.874144e-02 -0.1888964499 -0.487742728 -0.0169239780 -0.0975581137\n",
              "17  1.145120e-03 -0.1281154629 -0.237017236 -0.0093156131  0.0318890579\n",
              "18  7.946097e-03  0.1373260452  0.312822526  0.0435903647 -0.0084587188\n",
              "19  3.696000e-02 -0.0257460605 -0.029356063  0.0211990298 -0.0335327945\n",
              "20  1.245232e-02  0.2663214762  0.589299558  0.0043573139  0.2075770300\n",
              "21 -1.337236e-02 -0.0576950415 -0.168396386 -0.0229610096  0.0238717668\n",
              "22  7.308630e-02  0.0228588488 -0.039390236  0.0132788404  0.0110189790\n",
              "23 -3.768503e-01 -0.0569708171  0.072663284  0.1108169404 -0.0331472940\n",
              "24 -9.072512e-02 -0.0156997356  0.048838435 -0.0030384234  0.0183673810\n",
              "25  2.358387e-01  0.0473654399 -0.059547669 -0.0318629072  0.0331372527\n",
              "26  1.660939e-01  0.0403815856 -0.081876445 -0.0734642333 -0.0182300286\n",
              "27 -1.104092e-02 -0.0050489708  0.023145080 -0.0096864992 -0.0055754549\n",
              "28 -5.693941e-03  0.0005651739  0.036197567  0.0269248330  0.0072430866\n",
              "29  5.036234e-03 -0.1050815228  0.094598800 -0.2745746532  0.0132307378\n",
              "30  3.591936e-04 -0.0256775368  0.011547615  0.0190581970  0.0197094905\n",
              "31  3.048161e-02 -0.0473431764  0.013593315  0.0550915928 -0.0385254273\n",
              "32  8.420440e-03  0.0638110170  0.010909781 -0.0487071447 -0.0498741902\n",
              "33 -8.855391e-05 -0.0071128385 -0.041968900  0.0344003339  0.0263464653\n",
              "34 -8.661889e-03 -0.0215819195 -0.008173479  0.0310520451  0.0030124462\n",
              "35 -6.823616e-03 -0.0080377692 -0.016277074 -0.0389883768 -0.0131542692\n",
              "36 -7.097241e-02  0.3129913565 -0.182388587  0.6526701640  0.0829836218\n",
              "37  4.246605e-02 -0.1096998244  0.061371761 -0.5277820696 -0.0298987324\n",
              "38  7.465212e-03  0.0783441280 -0.004879883 -0.0050045707  0.0042295877\n",
              "39 -1.956650e-02 -0.0477053009  0.036738198 -0.0060125519  0.0038601167\n",
              "40 -5.045659e-03 -0.0608929540 -0.005533559 -0.0182640512 -0.0090172661\n",
              "41  3.512198e-02  0.0600118927 -0.008936101  0.0876890981  0.0541376581\n",
              "42  4.226828e-03  0.0267278025 -0.021790506  0.0031107748  0.0198316809\n",
              "43 -3.714049e-02 -0.0521788661  0.010833247 -0.0965527572 -0.0460853379\n",
              "44 -1.235418e-02  0.0010579439  0.011930186 -0.0520546032 -0.0213057957\n",
              "45  7.001668e-03  0.0189262621  0.007580400  0.0135218660 -0.0044980849\n",
              "46  8.716872e-03  0.0108664261 -0.006791967  0.0226234541 -0.0100007416\n",
              "47  6.298470e-03  0.0147861228 -0.020408247 -0.0097977556  0.0160467565\n",
              "48 -1.188425e-02  0.0109493121  0.016144622 -0.0046543654 -0.0036691393\n",
              "49 -9.064194e-03  0.0127127243 -0.047638360 -0.0385528377 -0.0162402768\n",
              "50  1.893042e-02  0.0214311171  0.002483715  0.0018986381  0.0114892950\n",
              "51 -1.232258e-02  0.0005173745  0.022137434  0.0215627491 -0.0029940288\n",
              "52  1.727795e-03 -0.0343406471 -0.006128283 -0.0037298293  0.0108626612\n",
              "53  1.906598e-02 -0.0363927617  0.011464244  0.0021192043  0.0137592826\n",
              "54  4.540606e-02  0.0139355036  0.020104381 -0.0190855863 -0.0172274376\n",
              "55 -4.487179e-02 -0.0041665939 -0.020512240 -0.0021745751  0.0140935792\n",
              "56 -3.262240e-04  0.0060321058 -0.017642512 -0.0050106238 -0.0095333350\n",
              "57 -1.580611e-02  0.0255368214 -0.017955330  0.0150689432 -0.0315812400\n",
              "   PC55          PC56          PC57         \n",
              "1   0.0074923011 -2.656589e-02  1.551165e-02\n",
              "2  -0.0074167503  2.205156e-02 -9.321658e-04\n",
              "3  -0.0036031122  3.031845e-04 -1.120812e-02\n",
              "4  -0.0230291576  5.893279e-03  1.373051e-02\n",
              "5   0.0123589996 -6.489195e-03 -8.445287e-03\n",
              "6  -0.0018662562  1.431546e-03  6.032564e-03\n",
              "7  -0.0074552120  2.488420e-04 -3.696616e-03\n",
              "8   0.0165811411 -3.732088e-03 -2.955710e-03\n",
              "9  -0.0103837976 -1.232759e-02  4.755552e-03\n",
              "10 -0.0063236017  2.483954e-03  3.015729e-04\n",
              "11  0.0071208210  8.768734e-03 -5.778295e-04\n",
              "12 -0.0971940262 -7.830026e-02  8.987427e-02\n",
              "13 -0.0053921452  3.475534e-02 -2.393305e-03\n",
              "14  0.0066128998 -1.189451e-03 -3.527366e-02\n",
              "15  0.0268814859  6.412619e-03  4.104474e-03\n",
              "16  0.6849610538 -7.128739e-02  1.573741e-01\n",
              "17 -0.5594847239  4.363418e-01  4.563975e-01\n",
              "18  0.1845493817  6.011786e-01 -5.468598e-01\n",
              "19 -0.0059366541 -5.296291e-02 -1.885323e-02\n",
              "20  0.1401701336 -3.218823e-01  4.422154e-01\n",
              "21 -0.3859247485 -5.701107e-01 -5.088772e-01\n",
              "22  0.0086831235  1.011402e-02 -1.295933e-02\n",
              "23 -0.0090658918  2.981321e-03 -1.806848e-02\n",
              "24 -0.0003349880 -1.718205e-02  2.003313e-02\n",
              "25  0.0092678651 -4.452853e-05 -3.435830e-03\n",
              "26 -0.0101780764  1.419133e-02 -7.988251e-04\n",
              "27  0.0201959626 -9.374131e-03  4.327180e-04\n",
              "28 -0.0058167965 -9.242129e-03  7.701421e-03\n",
              "29 -0.0006089147 -2.748541e-03 -1.823696e-02\n",
              "30 -0.0114212538  7.738859e-03 -7.145405e-04\n",
              "31  0.0013682265 -7.906953e-03 -7.810624e-03\n",
              "32  0.0124995107 -8.559202e-03 -2.427818e-02\n",
              "33 -0.0148446391 -2.871591e-04  7.187180e-03\n",
              "34  0.0015218213 -6.465816e-03  5.749365e-03\n",
              "35  0.0161509847  3.156844e-03  6.567647e-03\n",
              "36 -0.0111108705 -1.537882e-02  1.465639e-02\n",
              "37  0.0049593550  7.865024e-03  7.693884e-03\n",
              "38 -0.0078597394  1.546905e-02 -6.531254e-03\n",
              "39 -0.0050443636 -4.316965e-03  7.785283e-03\n",
              "40 -0.0178564281  6.716006e-04  1.104932e-02\n",
              "41 -0.0029417736  1.655847e-03  3.293297e-03\n",
              "42 -0.0026659582  9.001250e-03 -2.001078e-03\n",
              "43  0.0010044603 -3.268135e-04 -6.241324e-03\n",
              "44  0.0014285035  2.239486e-02  4.028718e-03\n",
              "45 -0.0022109601 -7.668572e-03  7.187948e-03\n",
              "46  0.0076258371 -1.203561e-03  1.809000e-03\n",
              "47  0.0015822177  3.214491e-04 -8.953158e-04\n",
              "48 -0.0248261684 -6.204469e-03  8.293465e-03\n",
              "49  0.0044254667  2.532879e-03  8.211967e-04\n",
              "50  0.0214617674 -6.721029e-03 -1.678343e-03\n",
              "51  0.0105689438 -1.111451e-02  4.201415e-03\n",
              "52  0.0021147450  5.619579e-03 -8.449091e-05\n",
              "53  0.0009381424  4.113147e-03 -4.865243e-03\n",
              "54 -0.0051277237 -1.393337e-02 -7.257907e-03\n",
              "55 -0.0101240843  5.412344e-03  3.276955e-03\n",
              "56 -0.0012209256 -2.135044e-04  7.122982e-03\n",
              "57  0.0006141268  6.562284e-03  5.305906e-03"
            ]
          },
          "metadata": {}
        },
        {
          "output_type": "display_data",
          "data": {
            "text/html": [
              "<style>\n",
              ".list-inline {list-style: none; margin:0; padding: 0}\n",
              ".list-inline>li {display: inline-block}\n",
              ".list-inline>li:not(:last-child)::after {content: \"\\00b7\"; padding: 0 .5ex}\n",
              "</style>\n",
              "<ol class=list-inline><li>52</li><li>53</li><li>54</li><li>55</li><li>56</li><li>57</li></ol>\n"
            ],
            "text/markdown": "1. 52\n2. 53\n3. 54\n4. 55\n5. 56\n6. 57\n\n\n",
            "text/latex": "\\begin{enumerate*}\n\\item 52\n\\item 53\n\\item 54\n\\item 55\n\\item 56\n\\item 57\n\\end{enumerate*}\n",
            "text/plain": [
              "[1] 52 53 54 55 56 57"
            ]
          },
          "metadata": {}
        },
        {
          "output_type": "display_data",
          "data": {
            "text/plain": [
              "plot without title"
            ],
            "image/png": "[encoded data removed]"
          },
          "metadata": {
            "image/png": {
              "width": 420,
              "height": 420
            }
          }
        }
      ],
      "source": [
        "#Load pls library\n",
        "install.packages(\"pls\")\n",
        "install.packages(\"tibble\")\n",
        "library(pls)\n",
        "library(tibble)\n",
        "tgh.pca<-prcomp(tgh[,10:66],scale.=TRUE)\n",
        "#Plot a matrix table with PCA loadings\n",
        "tab.load<-tgh.pca$rotation\n",
        "df.load <- as_tibble(tab.load, rownames = \"Variable\")\n",
        "df.load\n",
        "#Calculate cumulative variance\n",
        "var.exp<-tgh.pca$sdev/sum(tgh.pca$sdev)\n",
        "cum.var.exp<-cumsum(var.exp)\n",
        "#Plot distribution of principal component's variance\n",
        "ggplot(data.frame(pc=10:66, var.exp=cum.var.exp),\n",
        "       aes(x=pc,y=var.exp))+\n",
        "  labs(x = \"Principal Component\", y = \"Cumulative explained variance\") +\n",
        "  geom_point(color=\"blue\")+\n",
        "  theme_minimal()\n",
        "#Determine how many principal components explain 95% of variance\n",
        "which(cum.var.exp>=0.95)"
      ]
    },
    {
      "cell_type": "markdown",
      "source": [
        "From the principal component cumulative explained variance plot, we can observe that the first 52 principal components can explain 95% of the variance in the data. In this sense, by applying the PCA model, we decreased the dimensionality of our data from 57 variables to 52 principal components. Thus, this confirms the finding observed in the correlation analysis. The variables in the dataset are weakly correlated, and as such, we are unable to see a latent variable structure. In conclusion, we will continue using the eleven theory-based factors previously described for the rest of our analysis."
      ],
      "metadata": {
        "id": "5nu77R0rbaP5"
      }
    },
    {
      "cell_type": "markdown",
      "metadata": {
        "id": "FeeuFWXkp6uG"
      },
      "source": [
        "### **4. Linear regression model for theory contrast analysis**\n",
        "\n",
        "Purpose:\n",
        "\n",
        "\n",
        "\n",
        "*  Fit three models examining the effect of gender schema and observational learning over sexist beliefs\n",
        "\n",
        "\n"
      ]
    },
    {
      "cell_type": "code",
      "execution_count": 12,
      "metadata": {
        "colab": {
          "base_uri": "https://localhost:8080/",
          "height": 1000
        },
        "id": "C6nePjACp-7x",
        "outputId": "c1e5334a-c77b-42b0-c7be-89f32fbc0cb5"
      },
      "outputs": [
        {
          "output_type": "display_data",
          "data": {
            "text/plain": [
              "\n",
              "Call:\n",
              "lm(formula = sexist ~ gen.schema, data = tgh1)\n",
              "\n",
              "Residuals:\n",
              "     Min       1Q   Median       3Q      Max \n",
              "-17.0747  -3.1716   0.1557   3.2234  18.5973 \n",
              "\n",
              "Coefficients:\n",
              "             Estimate Std. Error t value Pr(>|t|)    \n",
              "(Intercept) 22.320135   0.030929  721.65   <2e-16 ***\n",
              "gen.schema  -0.293964   0.008273  -35.53   <2e-16 ***\n",
              "---\n",
              "Signif. codes:  0 ‘***’ 0.001 ‘**’ 0.01 ‘*’ 0.05 ‘.’ 0.1 ‘ ’ 1\n",
              "\n",
              "Residual standard error: 4.705 on 24301 degrees of freedom\n",
              "Multiple R-squared:  0.04939,\tAdjusted R-squared:  0.04935 \n",
              "F-statistic:  1263 on 1 and 24301 DF,  p-value: < 2.2e-16\n"
            ]
          },
          "metadata": {}
        },
        {
          "output_type": "display_data",
          "data": {
            "text/plain": [
              "\n",
              "Call:\n",
              "lm(formula = sexist ~ gen.schema + obs.learning, data = tgh1)\n",
              "\n",
              "Residuals:\n",
              "    Min      1Q  Median      3Q     Max \n",
              "-16.943  -3.196   0.157   3.228  18.727 \n",
              "\n",
              "Coefficients:\n",
              "              Estimate Std. Error t value Pr(>|t|)    \n",
              "(Intercept)  21.536537   0.088321  243.84   <2e-16 ***\n",
              "gen.schema   -0.293550   0.008258  -35.55   <2e-16 ***\n",
              "obs.learning  0.130464   0.013777    9.47   <2e-16 ***\n",
              "---\n",
              "Signif. codes:  0 ‘***’ 0.001 ‘**’ 0.01 ‘*’ 0.05 ‘.’ 0.1 ‘ ’ 1\n",
              "\n",
              "Residual standard error: 4.696 on 24300 degrees of freedom\n",
              "Multiple R-squared:  0.05289,\tAdjusted R-squared:  0.05281 \n",
              "F-statistic: 678.5 on 2 and 24300 DF,  p-value: < 2.2e-16\n"
            ]
          },
          "metadata": {}
        },
        {
          "output_type": "display_data",
          "data": {
            "text/plain": [
              "\n",
              "Call:\n",
              "lm(formula = sexist ~ gen.schema * obs.learning, data = tgh1)\n",
              "\n",
              "Residuals:\n",
              "     Min       1Q   Median       3Q      Max \n",
              "-16.9351  -3.1978   0.1593   3.2245  18.7156 \n",
              "\n",
              "Coefficients:\n",
              "                         Estimate Std. Error t value Pr(>|t|)    \n",
              "(Intercept)             21.524118   0.090347 238.239   <2e-16 ***\n",
              "gen.schema              -0.278447   0.024560 -11.338   <2e-16 ***\n",
              "obs.learning             0.132497   0.014125   9.380   <2e-16 ***\n",
              "gen.schema:obs.learning -0.002493   0.003819  -0.653    0.514    \n",
              "---\n",
              "Signif. codes:  0 ‘***’ 0.001 ‘**’ 0.01 ‘*’ 0.05 ‘.’ 0.1 ‘ ’ 1\n",
              "\n",
              "Residual standard error: 4.696 on 24299 degrees of freedom\n",
              "Multiple R-squared:  0.0529,\tAdjusted R-squared:  0.05279 \n",
              "F-statistic: 452.4 on 3 and 24299 DF,  p-value: < 2.2e-16\n"
            ]
          },
          "metadata": {}
        }
      ],
      "source": [
        "#Model 1: Relationship between gender schema and sexist beliefs\n",
        "gs.lm<-lm(sexist~gen.schema,data=tgh1)\n",
        "summary(gs.lm)\n",
        "#Model 2: Relationship between observational learning and gender schema. and sexist beliefs\n",
        "fit.lm<-lm(sexist~gen.schema+obs.learning,data=tgh1)\n",
        "summary(fit.lm)\n",
        "#Model 3: Relationship between gender schema and sexist belief with moderation of observational learning\n",
        "fit.lm2<-lm(sexist~gen.schema*obs.learning,data=tgh1)\n",
        "summary(fit.lm2)"
      ]
    },
    {
      "cell_type": "markdown",
      "metadata": {
        "id": "IXcc4eVhrJHQ"
      },
      "source": [
        "\n",
        "\n",
        "*  Contrast the results from the models based on the gender schema theory and social cognition theory (observational learning) with selection of the best model\n",
        "\n"
      ]
    },
    {
      "cell_type": "code",
      "execution_count": 13,
      "metadata": {
        "colab": {
          "base_uri": "https://localhost:8080/",
          "height": 448
        },
        "id": "tapnahqArmPy",
        "outputId": "350cca2e-dff6-4289-f09a-ac8efae64868"
      },
      "outputs": [
        {
          "output_type": "display_data",
          "data": {
            "text/html": [
              "<table class=\"dataframe\">\n",
              "<caption>A anova: 2 × 6</caption>\n",
              "<thead>\n",
              "\t<tr><th></th><th scope=col>Res.Df</th><th scope=col>RSS</th><th scope=col>Df</th><th scope=col>Sum of Sq</th><th scope=col>F</th><th scope=col>Pr(&gt;F)</th></tr>\n",
              "\t<tr><th></th><th scope=col>&lt;dbl&gt;</th><th scope=col>&lt;dbl&gt;</th><th scope=col>&lt;dbl&gt;</th><th scope=col>&lt;dbl&gt;</th><th scope=col>&lt;dbl&gt;</th><th scope=col>&lt;dbl&gt;</th></tr>\n",
              "</thead>\n",
              "<tbody>\n",
              "\t<tr><th scope=row>1</th><td>24301</td><td>537858.6</td><td>NA</td><td>      NA</td><td>      NA</td><td>          NA</td></tr>\n",
              "\t<tr><th scope=row>2</th><td>24300</td><td>535881.1</td><td> 1</td><td>1977.514</td><td>89.67212</td><td>3.058293e-21</td></tr>\n",
              "</tbody>\n",
              "</table>\n"
            ],
            "text/markdown": "\nA anova: 2 × 6\n\n| <!--/--> | Res.Df &lt;dbl&gt; | RSS &lt;dbl&gt; | Df &lt;dbl&gt; | Sum of Sq &lt;dbl&gt; | F &lt;dbl&gt; | Pr(&gt;F) &lt;dbl&gt; |\n|---|---|---|---|---|---|---|\n| 1 | 24301 | 537858.6 | NA |       NA |       NA |           NA |\n| 2 | 24300 | 535881.1 |  1 | 1977.514 | 89.67212 | 3.058293e-21 |\n\n",
            "text/latex": "A anova: 2 × 6\n\\begin{tabular}{r|llllll}\n  & Res.Df & RSS & Df & Sum of Sq & F & Pr(>F)\\\\\n  & <dbl> & <dbl> & <dbl> & <dbl> & <dbl> & <dbl>\\\\\n\\hline\n\t1 & 24301 & 537858.6 & NA &       NA &       NA &           NA\\\\\n\t2 & 24300 & 535881.1 &  1 & 1977.514 & 89.67212 & 3.058293e-21\\\\\n\\end{tabular}\n",
            "text/plain": [
              "  Res.Df RSS      Df Sum of Sq F        Pr(>F)      \n",
              "1 24301  537858.6 NA       NA        NA           NA\n",
              "2 24300  535881.1  1 1977.514  89.67212 3.058293e-21"
            ]
          },
          "metadata": {}
        },
        {
          "output_type": "display_data",
          "data": {
            "text/html": [
              "<table class=\"dataframe\">\n",
              "<caption>A data.frame: 2 × 2</caption>\n",
              "<thead>\n",
              "\t<tr><th></th><th scope=col>df</th><th scope=col>AIC</th></tr>\n",
              "\t<tr><th></th><th scope=col>&lt;dbl&gt;</th><th scope=col>&lt;dbl&gt;</th></tr>\n",
              "</thead>\n",
              "<tbody>\n",
              "\t<tr><th scope=row>gs.lm</th><td>3</td><td>144241.2</td></tr>\n",
              "\t<tr><th scope=row>fit.lm</th><td>4</td><td>144153.7</td></tr>\n",
              "</tbody>\n",
              "</table>\n"
            ],
            "text/markdown": "\nA data.frame: 2 × 2\n\n| <!--/--> | df &lt;dbl&gt; | AIC &lt;dbl&gt; |\n|---|---|---|\n| gs.lm | 3 | 144241.2 |\n| fit.lm | 4 | 144153.7 |\n\n",
            "text/latex": "A data.frame: 2 × 2\n\\begin{tabular}{r|ll}\n  & df & AIC\\\\\n  & <dbl> & <dbl>\\\\\n\\hline\n\tgs.lm & 3 & 144241.2\\\\\n\tfit.lm & 4 & 144153.7\\\\\n\\end{tabular}\n",
            "text/plain": [
              "       df AIC     \n",
              "gs.lm  3  144241.2\n",
              "fit.lm 4  144153.7"
            ]
          },
          "metadata": {}
        },
        {
          "output_type": "display_data",
          "data": {
            "text/html": [
              "<table class=\"dataframe\">\n",
              "<caption>A data.frame: 2 × 2</caption>\n",
              "<thead>\n",
              "\t<tr><th></th><th scope=col>df</th><th scope=col>BIC</th></tr>\n",
              "\t<tr><th></th><th scope=col>&lt;dbl&gt;</th><th scope=col>&lt;dbl&gt;</th></tr>\n",
              "</thead>\n",
              "<tbody>\n",
              "\t<tr><th scope=row>gs.lm</th><td>3</td><td>144265.5</td></tr>\n",
              "\t<tr><th scope=row>fit.lm</th><td>4</td><td>144186.1</td></tr>\n",
              "</tbody>\n",
              "</table>\n"
            ],
            "text/markdown": "\nA data.frame: 2 × 2\n\n| <!--/--> | df &lt;dbl&gt; | BIC &lt;dbl&gt; |\n|---|---|---|\n| gs.lm | 3 | 144265.5 |\n| fit.lm | 4 | 144186.1 |\n\n",
            "text/latex": "A data.frame: 2 × 2\n\\begin{tabular}{r|ll}\n  & df & BIC\\\\\n  & <dbl> & <dbl>\\\\\n\\hline\n\tgs.lm & 3 & 144265.5\\\\\n\tfit.lm & 4 & 144186.1\\\\\n\\end{tabular}\n",
            "text/plain": [
              "       df BIC     \n",
              "gs.lm  3  144265.5\n",
              "fit.lm 4  144186.1"
            ]
          },
          "metadata": {}
        }
      ],
      "source": [
        "anova(gs.lm,fit.lm)\n",
        "AIC(gs.lm,fit.lm)\n",
        "BIC(gs.lm,fit.lm)"
      ]
    },
    {
      "cell_type": "markdown",
      "metadata": {
        "id": "wZL-RUMBrqvB"
      },
      "source": [
        "*   Plot the relationship between gender schema, observational learning and sexist beliefs"
      ]
    },
    {
      "cell_type": "code",
      "execution_count": 14,
      "metadata": {
        "colab": {
          "base_uri": "https://localhost:8080/",
          "height": 455
        },
        "id": "BX2oqKJOrqPh",
        "outputId": "4af9d010-f5aa-45fe-8d77-b057efb99b01"
      },
      "outputs": [
        {
          "output_type": "stream",
          "name": "stderr",
          "text": [
            "\u001b[1m\u001b[22m`geom_smooth()` using formula = 'y ~ x'\n"
          ]
        },
        {
          "output_type": "display_data",
          "data": {
            "text/plain": [
              "plot without title"
            ],
            "image/png": "[encoded data removed]"
          },
          "metadata": {
            "image/png": {
              "width": 420,
              "height": 420
            }
          }
        }
      ],
      "source": [
        "ggplot(tgh1,aes(x=obs.learning,y=sexist,color=gen.schema))+\n",
        "  stat_summary(geom='point',fun=mean)+\n",
        "  geom_smooth(method=lm,color=\"red\")+\n",
        "  theme_minimal()"
      ]
    },
    {
      "cell_type": "markdown",
      "metadata": {
        "id": "iAx6AEPwr55z"
      },
      "source": [
        "\n",
        "\n",
        "*   Check if the linear regression assumptions stand: Normality, equal variance and linearity assumptions\n",
        "\n",
        "\n"
      ]
    },
    {
      "cell_type": "code",
      "execution_count": 15,
      "metadata": {
        "colab": {
          "base_uri": "https://localhost:8080/",
          "height": 892
        },
        "id": "eO0ynUY4sJFD",
        "outputId": "3a53b615-14c3-499a-9e9b-938a142752b9"
      },
      "outputs": [
        {
          "output_type": "display_data",
          "data": {
            "text/html": [
              "-0.0735698630839586"
            ],
            "text/markdown": "-0.0735698630839586",
            "text/latex": "-0.0735698630839586",
            "text/plain": [
              "[1] -0.07356986"
            ]
          },
          "metadata": {}
        },
        {
          "output_type": "display_data",
          "data": {
            "text/html": [
              "2.89346875632814"
            ],
            "text/markdown": "2.89346875632814",
            "text/latex": "2.89346875632814",
            "text/plain": [
              "[1] 2.893469"
            ]
          },
          "metadata": {}
        },
        {
          "output_type": "display_data",
          "data": {
            "text/plain": [
              "Plot with title “Normal Q-Q Plot”"
            ],
            "image/png": "[encoded data removed]"
          },
          "metadata": {
            "image/png": {
              "width": 420,
              "height": 420
            }
          }
        },
        {
          "output_type": "display_data",
          "data": {
            "text/plain": [
              "plot without title"
            ],
            "image/png": "[encoded data removed]"
          },
          "metadata": {
            "image/png": {
              "width": 420,
              "height": 420
            }
          }
        }
      ],
      "source": [
        "#Normality assumption\n",
        "res1<-residuals(fit.lm)\n",
        "qqnorm(res1)\n",
        "qqline(res1)\n",
        "skewness(res1)\n",
        "kurtosis(res1)\n",
        "#Equal Variance and Linearity assumption\n",
        "fits1<-fitted(fit.lm)\n",
        "plot(fits1,res1,\n",
        "     pch=16,xlab=\"fitted values\",ylab=\"residuals\")\n",
        "abline(h=0)"
      ]
    },
    {
      "cell_type": "markdown",
      "metadata": {
        "id": "774hPZ_ysPIC"
      },
      "source": [
        "### **5. Mediation analysis**\n",
        "\n",
        "\n",
        "\n",
        "*   Mediation model 1: Observational learning and sexist beliefs with one mediator: gender schema"
      ]
    },
    {
      "cell_type": "code",
      "execution_count": 16,
      "metadata": {
        "colab": {
          "base_uri": "https://localhost:8080/",
          "height": 1000
        },
        "id": "AdfJ18Z5s_HG",
        "outputId": "e776ef28-1fc8-4e18-dd2a-5fe2cc7db987"
      },
      "outputs": [
        {
          "output_type": "stream",
          "name": "stderr",
          "text": [
            "Installing package into ‘/usr/local/lib/R/site-library’\n",
            "(as ‘lib’ is unspecified)\n",
            "\n",
            "also installing the dependencies ‘rbibutils’, ‘checkmate’, ‘Rdpack’, ‘zoo’, ‘gridExtra’, ‘htmlTable’, ‘viridis’, ‘Formula’, ‘minqa’, ‘nloptr’, ‘reformulas’, ‘RcppEigen’, ‘mvtnorm’, ‘sandwich’, ‘lpSolve’, ‘Hmisc’, ‘lme4’\n",
            "\n",
            "\n",
            "Loading required package: MASS\n",
            "\n",
            "\n",
            "Attaching package: ‘MASS’\n",
            "\n",
            "\n",
            "The following object is masked from ‘package:dplyr’:\n",
            "\n",
            "    select\n",
            "\n",
            "\n",
            "Loading required package: Matrix\n",
            "\n",
            "\n",
            "Attaching package: ‘Matrix’\n",
            "\n",
            "\n",
            "The following object is masked from ‘package:reshape’:\n",
            "\n",
            "    expand\n",
            "\n",
            "\n",
            "The following objects are masked from ‘package:tidyr’:\n",
            "\n",
            "    expand, pack, unpack\n",
            "\n",
            "\n",
            "Loading required package: mvtnorm\n",
            "\n",
            "Loading required package: sandwich\n",
            "\n",
            "mediation: Causal Mediation Analysis\n",
            "Version: 4.5.0\n",
            "\n",
            "\n"
          ]
        },
        {
          "output_type": "display_data",
          "data": {
            "text/plain": [
              "\n",
              "Call:\n",
              "lm(formula = gen.schema ~ obs.learning, data = tgh1)\n",
              "\n",
              "Residuals:\n",
              "    Min      1Q  Median      3Q     Max \n",
              "-6.8719 -2.8234  0.1943  3.1722  5.2384 \n",
              "\n",
              "Coefficients:\n",
              "              Estimate Std. Error t value Pr(>|t|)    \n",
              "(Intercept)   0.871893   0.068382  12.750   <2e-16 ***\n",
              "obs.learning -0.008825   0.010702  -0.825     0.41    \n",
              "---\n",
              "Signif. codes:  0 ‘***’ 0.001 ‘**’ 0.01 ‘*’ 0.05 ‘.’ 0.1 ‘ ’ 1\n",
              "\n",
              "Residual standard error: 3.648 on 24301 degrees of freedom\n",
              "Multiple R-squared:  2.798e-05,\tAdjusted R-squared:  -1.317e-05 \n",
              "F-statistic: 0.6799 on 1 and 24301 DF,  p-value: 0.4096\n"
            ]
          },
          "metadata": {}
        },
        {
          "output_type": "display_data",
          "data": {
            "text/plain": [
              "\n",
              "Call:\n",
              "lm(formula = sexist ~ gen.schema + obs.learning, data = tgh1)\n",
              "\n",
              "Residuals:\n",
              "    Min      1Q  Median      3Q     Max \n",
              "-16.943  -3.196   0.157   3.228  18.727 \n",
              "\n",
              "Coefficients:\n",
              "              Estimate Std. Error t value Pr(>|t|)    \n",
              "(Intercept)  21.536537   0.088321  243.84   <2e-16 ***\n",
              "gen.schema   -0.293550   0.008258  -35.55   <2e-16 ***\n",
              "obs.learning  0.130464   0.013777    9.47   <2e-16 ***\n",
              "---\n",
              "Signif. codes:  0 ‘***’ 0.001 ‘**’ 0.01 ‘*’ 0.05 ‘.’ 0.1 ‘ ’ 1\n",
              "\n",
              "Residual standard error: 4.696 on 24300 degrees of freedom\n",
              "Multiple R-squared:  0.05289,\tAdjusted R-squared:  0.05281 \n",
              "F-statistic: 678.5 on 2 and 24300 DF,  p-value: < 2.2e-16\n"
            ]
          },
          "metadata": {}
        },
        {
          "output_type": "stream",
          "name": "stderr",
          "text": [
            "Running nonparametric bootstrap\n",
            "\n",
            "\n"
          ]
        },
        {
          "output_type": "display_data",
          "data": {
            "text/plain": [
              "\n",
              "Causal Mediation Analysis \n",
              "\n",
              "Nonparametric Bootstrap Confidence Intervals with the Percentile Method\n",
              "\n",
              "               Estimate 95% CI Lower 95% CI Upper p-value    \n",
              "ACME            0.00259     -0.00321         0.01     0.4    \n",
              "ADE             0.13046      0.10417         0.16  <2e-16 ***\n",
              "Total Effect    0.13305      0.10486         0.16  <2e-16 ***\n",
              "Prop. Mediated  0.01947     -0.02637         0.06     0.4    \n",
              "---\n",
              "Signif. codes:  0 ‘***’ 0.001 ‘**’ 0.01 ‘*’ 0.05 ‘.’ 0.1 ‘ ’ 1\n",
              "\n",
              "Sample Size Used: 24303 \n",
              "\n",
              "\n",
              "Simulations: 1000 \n"
            ]
          },
          "metadata": {}
        }
      ],
      "source": [
        "#Load mediation library\n",
        "install.packages(\"mediation\")\n",
        "library(mediation)\n",
        "set.seed(1954)\n",
        "fitM<-lm(gen.schema~obs.learning,data=tgh1) #Fit model of the relationship between IV and the mediator\n",
        "fitY<-lm(sexist~gen.schema+obs.learning,data=tgh1) #Fit model of the relationship of IV and the mediator on DV\n",
        "summary(fitM)\n",
        "summary(fitY)\n",
        "fitMed<-mediate(fitM,fitY,treat=\"obs.learning\", mediator=\"gen.schema\",boot=TRUE) #Fit mediation model\n",
        "summary(fitMed)"
      ]
    },
    {
      "cell_type": "markdown",
      "metadata": {
        "id": "APUZOvSHv92C"
      },
      "source": [
        "\n",
        "\n",
        "*   Mediation model 2: Gender and sexist beliefs with two mediators: Observational learning and gender schema (sequential)\n",
        "\n"
      ]
    },
    {
      "cell_type": "code",
      "execution_count": 17,
      "metadata": {
        "colab": {
          "base_uri": "https://localhost:8080/",
          "height": 1000
        },
        "id": "u2eenqcGwGFw",
        "outputId": "f4eff2af-9e13-4477-a8d6-6d5ac2ad9744"
      },
      "outputs": [
        {
          "output_type": "stream",
          "name": "stderr",
          "text": [
            "Installing package into ‘/usr/local/lib/R/site-library’\n",
            "(as ‘lib’ is unspecified)\n",
            "\n",
            "also installing the dependencies ‘mnormt’, ‘pbivnorm’, ‘numDeriv’, ‘quadprog’\n",
            "\n",
            "\n",
            "This is lavaan 0.6-19\n",
            "lavaan is FREE software! Please report any bugs.\n",
            "\n"
          ]
        },
        {
          "output_type": "display_data",
          "data": {
            "text/html": [
              "<dl>\n",
              "\t<dt>$header</dt>\n",
              "\t\t<dd><dl>\n",
              "\t<dt>$lavaan.version</dt>\n",
              "\t\t<dd>'0.6-19'</dd>\n",
              "\t<dt>$sam.approach</dt>\n",
              "\t\t<dd>FALSE</dd>\n",
              "\t<dt>$optim.method</dt>\n",
              "\t\t<dd>'nlminb'</dd>\n",
              "\t<dt>$optim.iterations</dt>\n",
              "\t\t<dd>8</dd>\n",
              "\t<dt>$optim.converged</dt>\n",
              "\t\t<dd>TRUE</dd>\n",
              "</dl>\n",
              "</dd>\n",
              "\t<dt>$optim</dt>\n",
              "\t\t<dd><dl>\n",
              "\t<dt>$estimator</dt>\n",
              "\t\t<dd>'ML'</dd>\n",
              "\t<dt>$estimator.args</dt>\n",
              "\t\t<dd><ol>\n",
              "</ol>\n",
              "</dd>\n",
              "\t<dt>$optim.method</dt>\n",
              "\t\t<dd>'nlminb'</dd>\n",
              "\t<dt>$npar</dt>\n",
              "\t\t<dd>7</dd>\n",
              "\t<dt>$eq.constraints</dt>\n",
              "\t\t<dd>FALSE</dd>\n",
              "\t<dt>$nrow.ceq.jac</dt>\n",
              "\t\t<dd>0</dd>\n",
              "\t<dt>$nrow.cin.jac</dt>\n",
              "\t\t<dd>0</dd>\n",
              "\t<dt>$nrow.con.jac</dt>\n",
              "\t\t<dd>0</dd>\n",
              "\t<dt>$con.jac.rank</dt>\n",
              "\t\t<dd>0</dd>\n",
              "</dl>\n",
              "</dd>\n",
              "\t<dt>$data</dt>\n",
              "\t\t<dd><dl>\n",
              "\t<dt>$ngroups</dt>\n",
              "\t\t<dd>1</dd>\n",
              "\t<dt>$nobs</dt>\n",
              "\t\t<dd>24303</dd>\n",
              "</dl>\n",
              "</dd>\n",
              "\t<dt>$test</dt>\n",
              "\t\t<dd><strong>$standard</strong> = <dl>\n",
              "\t<dt>$test</dt>\n",
              "\t\t<dd>'standard'</dd>\n",
              "\t<dt>$stat</dt>\n",
              "\t\t<dd>19560.1903157347</dd>\n",
              "\t<dt>$stat.group</dt>\n",
              "\t\t<dd>19560.1903157347</dd>\n",
              "\t<dt>$df</dt>\n",
              "\t\t<dd>2</dd>\n",
              "\t<dt>$refdistr</dt>\n",
              "\t\t<dd>'chisq'</dd>\n",
              "\t<dt>$pvalue</dt>\n",
              "\t\t<dd>0</dd>\n",
              "</dl>\n",
              "</dd>\n",
              "\t<dt>$fit</dt>\n",
              "\t\t<dd><style>\n",
              ".dl-inline {width: auto; margin:0; padding: 0}\n",
              ".dl-inline>dt, .dl-inline>dd {float: none; width: auto; display: inline-block}\n",
              ".dl-inline>dt::after {content: \":\\0020\"; padding-right: .5ex}\n",
              ".dl-inline>dt:not(:first-of-type) {padding-left: .5ex}\n",
              "</style><dl class=dl-inline><dt>npar</dt><dd>7</dd><dt>fmin</dt><dd>0.402423369866574</dd><dt>chisq</dt><dd>19560.1903157347</dd><dt>df</dt><dd>2</dd><dt>pvalue</dt><dd>0</dd><dt>baseline.chisq</dt><dd>21278.513983258</dd><dt>baseline.df</dt><dd>6</dd><dt>baseline.pvalue</dt><dd>0</dd><dt>cfi</dt><dd>0.0805886727291619</dd><dt>tli</dt><dd>-1.75823398181251</dd><dt>logl</dt><dd>-191306.713963588</dd><dt>unrestricted.logl</dt><dd>-181526.61880572</dd><dt>aic</dt><dd>382627.427927176</dd><dt>bic</dt><dd>382684.116412725</dd><dt>ntotal</dt><dd>24303</dd><dt>bic2</dt><dd>382661.87061195</dd><dt>rmsea</dt><dd>0.634336048702184</dd><dt>rmsea.ci.lower</dt><dd>0.626891421724527</dd><dt>rmsea.ci.upper</dt><dd>0.641813106658877</dd><dt>rmsea.ci.level</dt><dd>0.9</dd><dt>rmsea.pvalue</dt><dd>0</dd><dt>rmsea.close.h0</dt><dd>0.05</dd><dt>rmsea.notclose.pvalue</dt><dd>1</dd><dt>rmsea.notclose.h0</dt><dd>0.08</dd><dt>srmr</dt><dd>0.240929555711579</dd></dl>\n",
              "</dd>\n",
              "\t<dt>$pe</dt>\n",
              "\t\t<dd><table class=\"dataframe\">\n",
              "<caption>A data.frame: 14 × 12</caption>\n",
              "<thead>\n",
              "\t<tr><th scope=col>lhs</th><th scope=col>op</th><th scope=col>rhs</th><th scope=col>label</th><th scope=col>exo</th><th scope=col>est</th><th scope=col>se</th><th scope=col>z</th><th scope=col>pvalue</th><th scope=col>std.lv</th><th scope=col>std.all</th><th scope=col>std.nox</th></tr>\n",
              "\t<tr><th scope=col>&lt;chr&gt;</th><th scope=col>&lt;chr&gt;</th><th scope=col>&lt;chr&gt;</th><th scope=col>&lt;chr&gt;</th><th scope=col>&lt;int&gt;</th><th scope=col>&lt;dbl&gt;</th><th scope=col>&lt;dbl&gt;</th><th scope=col>&lt;dbl&gt;</th><th scope=col>&lt;dbl&gt;</th><th scope=col>&lt;dbl&gt;</th><th scope=col>&lt;dbl&gt;</th><th scope=col>&lt;dbl&gt;</th></tr>\n",
              "</thead>\n",
              "<tbody>\n",
              "\t<tr><td>sexist      </td><td>~ </td><td>Gender      </td><td>c    </td><td>0</td><td>-2.028060e+00</td><td>0.0950966983</td><td>-21.3262897</td><td>0.000000e+00</td><td>-2.028060e+00</td><td>-2.059093e-01</td><td>-4.249047e-01</td></tr>\n",
              "\t<tr><td>obs.learning</td><td>~ </td><td>Gender      </td><td>a1   </td><td>0</td><td>-7.027178e-02</td><td>0.0279208317</td><td> -2.5168224</td><td>1.184185e-02</td><td>-7.027178e-02</td><td>-1.557466e-02</td><td>-3.213913e-02</td></tr>\n",
              "\t<tr><td>gen.schema  </td><td>~ </td><td>obs.learning</td><td>b1   </td><td>0</td><td>-8.825009e-03</td><td>0.0102603529</td><td> -0.8601077</td><td>3.897297e-01</td><td>-8.825009e-03</td><td>-5.289573e-03</td><td>-5.289573e-03</td></tr>\n",
              "\t<tr><td>sexist      </td><td>~ </td><td>gen.schema  </td><td>b2   </td><td>0</td><td>-9.393053e-02</td><td>0.0123915211</td><td> -7.5802258</td><td>3.441691e-14</td><td>-9.393053e-02</td><td>-7.178916e-02</td><td>-7.178916e-02</td></tr>\n",
              "\t<tr><td>sexist      </td><td>~~</td><td>sexist      </td><td>     </td><td>0</td><td> 2.169793e+01</td><td>0.1926049584</td><td>112.6551192</td><td>0.000000e+00</td><td> 2.169793e+01</td><td> 9.524452e-01</td><td> 9.524452e-01</td></tr>\n",
              "\t<tr><td>obs.learning</td><td>~~</td><td>obs.learning</td><td>     </td><td>0</td><td> 4.779563e+00</td><td>0.0501708730</td><td> 95.2656888</td><td>0.000000e+00</td><td> 4.779563e+00</td><td> 9.997574e-01</td><td> 9.997574e-01</td></tr>\n",
              "\t<tr><td>gen.schema  </td><td>~~</td><td>gen.schema  </td><td>     </td><td>0</td><td> 1.330670e+01</td><td>0.0858768897</td><td>154.9509318</td><td>0.000000e+00</td><td> 1.330670e+01</td><td> 9.999720e-01</td><td> 9.999720e-01</td></tr>\n",
              "\t<tr><td>Gender      </td><td>~~</td><td>Gender      </td><td>     </td><td>1</td><td> 2.348383e-01</td><td>0.0000000000</td><td>         NA</td><td>          NA</td><td> 2.348383e-01</td><td> 1.000000e+00</td><td> 2.348383e-01</td></tr>\n",
              "\t<tr><td>ind1        </td><td>:=</td><td>a1*b1       </td><td>ind1 </td><td>0</td><td> 6.201490e-04</td><td>0.0009731897</td><td>  0.6372334</td><td>5.239728e-01</td><td> 6.201490e-04</td><td> 8.238330e-05</td><td> 1.700023e-04</td></tr>\n",
              "\t<tr><td>ind2        </td><td>:=</td><td>a1*b1*b2    </td><td>ind2 </td><td>0</td><td>-5.825093e-05</td><td>0.0000932176</td><td> -0.6248919</td><td>5.320420e-01</td><td>-5.825093e-05</td><td>-5.914228e-06</td><td>-1.220432e-05</td></tr>\n",
              "\t<tr><td>total       </td><td>:=</td><td>c+ind1+ind2 </td><td>total</td><td>0</td><td>-2.027498e+00</td><td>0.0950992298</td><td>-21.3198134</td><td>0.000000e+00</td><td>-2.027498e+00</td><td>-2.058328e-01</td><td>-4.247469e-01</td></tr>\n",
              "\t<tr><td>sexist      </td><td>r2</td><td>sexist      </td><td>     </td><td>0</td><td> 4.755477e-02</td><td>          NA</td><td>         NA</td><td>          NA</td><td>           NA</td><td>           NA</td><td>           NA</td></tr>\n",
              "\t<tr><td>obs.learning</td><td>r2</td><td>obs.learning</td><td>     </td><td>0</td><td> 2.425701e-04</td><td>          NA</td><td>         NA</td><td>          NA</td><td>           NA</td><td>           NA</td><td>           NA</td></tr>\n",
              "\t<tr><td>gen.schema  </td><td>r2</td><td>gen.schema  </td><td>     </td><td>0</td><td> 2.797958e-05</td><td>          NA</td><td>         NA</td><td>          NA</td><td>           NA</td><td>           NA</td><td>           NA</td></tr>\n",
              "</tbody>\n",
              "</table>\n",
              "</dd>\n",
              "</dl>\n"
            ],
            "text/markdown": "$header\n:   $lavaan.version\n:   '0.6-19'\n$sam.approach\n:   FALSE\n$optim.method\n:   'nlminb'\n$optim.iterations\n:   8\n$optim.converged\n:   TRUE\n\n\n\n$optim\n:   $estimator\n:   'ML'\n$estimator.args\n:   \n\n\n$optim.method\n:   'nlminb'\n$npar\n:   7\n$eq.constraints\n:   FALSE\n$nrow.ceq.jac\n:   0\n$nrow.cin.jac\n:   0\n$nrow.con.jac\n:   0\n$con.jac.rank\n:   0\n\n\n\n$data\n:   $ngroups\n:   1\n$nobs\n:   24303\n\n\n\n$test\n:   **$standard** = $test\n:   'standard'\n$stat\n:   19560.1903157347\n$stat.group\n:   19560.1903157347\n$df\n:   2\n$refdistr\n:   'chisq'\n$pvalue\n:   0\n\n\n\n$fit\n:   npar\n:   7fmin\n:   0.402423369866574chisq\n:   19560.1903157347df\n:   2pvalue\n:   0baseline.chisq\n:   21278.513983258baseline.df\n:   6baseline.pvalue\n:   0cfi\n:   0.0805886727291619tli\n:   -1.75823398181251logl\n:   -191306.713963588unrestricted.logl\n:   -181526.61880572aic\n:   382627.427927176bic\n:   382684.116412725ntotal\n:   24303bic2\n:   382661.87061195rmsea\n:   0.634336048702184rmsea.ci.lower\n:   0.626891421724527rmsea.ci.upper\n:   0.641813106658877rmsea.ci.level\n:   0.9rmsea.pvalue\n:   0rmsea.close.h0\n:   0.05rmsea.notclose.pvalue\n:   1rmsea.notclose.h0\n:   0.08srmr\n:   0.240929555711579\n\n\n$pe\n:   \nA data.frame: 14 × 12\n\n| lhs &lt;chr&gt; | op &lt;chr&gt; | rhs &lt;chr&gt; | label &lt;chr&gt; | exo &lt;int&gt; | est &lt;dbl&gt; | se &lt;dbl&gt; | z &lt;dbl&gt; | pvalue &lt;dbl&gt; | std.lv &lt;dbl&gt; | std.all &lt;dbl&gt; | std.nox &lt;dbl&gt; |\n|---|---|---|---|---|---|---|---|---|---|---|---|\n| sexist       | ~  | Gender       | c     | 0 | -2.028060e+00 | 0.0950966983 | -21.3262897 | 0.000000e+00 | -2.028060e+00 | -2.059093e-01 | -4.249047e-01 |\n| obs.learning | ~  | Gender       | a1    | 0 | -7.027178e-02 | 0.0279208317 |  -2.5168224 | 1.184185e-02 | -7.027178e-02 | -1.557466e-02 | -3.213913e-02 |\n| gen.schema   | ~  | obs.learning | b1    | 0 | -8.825009e-03 | 0.0102603529 |  -0.8601077 | 3.897297e-01 | -8.825009e-03 | -5.289573e-03 | -5.289573e-03 |\n| sexist       | ~  | gen.schema   | b2    | 0 | -9.393053e-02 | 0.0123915211 |  -7.5802258 | 3.441691e-14 | -9.393053e-02 | -7.178916e-02 | -7.178916e-02 |\n| sexist       | ~~ | sexist       | <!----> | 0 |  2.169793e+01 | 0.1926049584 | 112.6551192 | 0.000000e+00 |  2.169793e+01 |  9.524452e-01 |  9.524452e-01 |\n| obs.learning | ~~ | obs.learning | <!----> | 0 |  4.779563e+00 | 0.0501708730 |  95.2656888 | 0.000000e+00 |  4.779563e+00 |  9.997574e-01 |  9.997574e-01 |\n| gen.schema   | ~~ | gen.schema   | <!----> | 0 |  1.330670e+01 | 0.0858768897 | 154.9509318 | 0.000000e+00 |  1.330670e+01 |  9.999720e-01 |  9.999720e-01 |\n| Gender       | ~~ | Gender       | <!----> | 1 |  2.348383e-01 | 0.0000000000 |          NA |           NA |  2.348383e-01 |  1.000000e+00 |  2.348383e-01 |\n| ind1         | := | a1*b1        | ind1  | 0 |  6.201490e-04 | 0.0009731897 |   0.6372334 | 5.239728e-01 |  6.201490e-04 |  8.238330e-05 |  1.700023e-04 |\n| ind2         | := | a1*b1*b2     | ind2  | 0 | -5.825093e-05 | 0.0000932176 |  -0.6248919 | 5.320420e-01 | -5.825093e-05 | -5.914228e-06 | -1.220432e-05 |\n| total        | := | c+ind1+ind2  | total | 0 | -2.027498e+00 | 0.0950992298 | -21.3198134 | 0.000000e+00 | -2.027498e+00 | -2.058328e-01 | -4.247469e-01 |\n| sexist       | r2 | sexist       | <!----> | 0 |  4.755477e-02 |           NA |          NA |           NA |            NA |            NA |            NA |\n| obs.learning | r2 | obs.learning | <!----> | 0 |  2.425701e-04 |           NA |          NA |           NA |            NA |            NA |            NA |\n| gen.schema   | r2 | gen.schema   | <!----> | 0 |  2.797958e-05 |           NA |          NA |           NA |            NA |            NA |            NA |\n\n\n\n\n",
            "text/latex": "\\begin{description}\n\\item[\\$header] \\begin{description}\n\\item[\\$lavaan.version] '0.6-19'\n\\item[\\$sam.approach] FALSE\n\\item[\\$optim.method] 'nlminb'\n\\item[\\$optim.iterations] 8\n\\item[\\$optim.converged] TRUE\n\\end{description}\n\n\\item[\\$optim] \\begin{description}\n\\item[\\$estimator] 'ML'\n\\item[\\$estimator.args] \\begin{enumerate}\n\\end{enumerate}\n\n\\item[\\$optim.method] 'nlminb'\n\\item[\\$npar] 7\n\\item[\\$eq.constraints] FALSE\n\\item[\\$nrow.ceq.jac] 0\n\\item[\\$nrow.cin.jac] 0\n\\item[\\$nrow.con.jac] 0\n\\item[\\$con.jac.rank] 0\n\\end{description}\n\n\\item[\\$data] \\begin{description}\n\\item[\\$ngroups] 1\n\\item[\\$nobs] 24303\n\\end{description}\n\n\\item[\\$test] \\textbf{\\$standard} = \\begin{description}\n\\item[\\$test] 'standard'\n\\item[\\$stat] 19560.1903157347\n\\item[\\$stat.group] 19560.1903157347\n\\item[\\$df] 2\n\\item[\\$refdistr] 'chisq'\n\\item[\\$pvalue] 0\n\\end{description}\n\n\\item[\\$fit] \\begin{description*}\n\\item[npar] 7\n\\item[fmin] 0.402423369866574\n\\item[chisq] 19560.1903157347\n\\item[df] 2\n\\item[pvalue] 0\n\\item[baseline.chisq] 21278.513983258\n\\item[baseline.df] 6\n\\item[baseline.pvalue] 0\n\\item[cfi] 0.0805886727291619\n\\item[tli] -1.75823398181251\n\\item[logl] -191306.713963588\n\\item[unrestricted.logl] -181526.61880572\n\\item[aic] 382627.427927176\n\\item[bic] 382684.116412725\n\\item[ntotal] 24303\n\\item[bic2] 382661.87061195\n\\item[rmsea] 0.634336048702184\n\\item[rmsea.ci.lower] 0.626891421724527\n\\item[rmsea.ci.upper] 0.641813106658877\n\\item[rmsea.ci.level] 0.9\n\\item[rmsea.pvalue] 0\n\\item[rmsea.close.h0] 0.05\n\\item[rmsea.notclose.pvalue] 1\n\\item[rmsea.notclose.h0] 0.08\n\\item[srmr] 0.240929555711579\n\\end{description*}\n\n\\item[\\$pe] A data.frame: 14 × 12\n\\begin{tabular}{llllllllllll}\n lhs & op & rhs & label & exo & est & se & z & pvalue & std.lv & std.all & std.nox\\\\\n <chr> & <chr> & <chr> & <chr> & <int> & <dbl> & <dbl> & <dbl> & <dbl> & <dbl> & <dbl> & <dbl>\\\\\n\\hline\n\t sexist       & \\textasciitilde{}  & Gender       & c     & 0 & -2.028060e+00 & 0.0950966983 & -21.3262897 & 0.000000e+00 & -2.028060e+00 & -2.059093e-01 & -4.249047e-01\\\\\n\t obs.learning & \\textasciitilde{}  & Gender       & a1    & 0 & -7.027178e-02 & 0.0279208317 &  -2.5168224 & 1.184185e-02 & -7.027178e-02 & -1.557466e-02 & -3.213913e-02\\\\\n\t gen.schema   & \\textasciitilde{}  & obs.learning & b1    & 0 & -8.825009e-03 & 0.0102603529 &  -0.8601077 & 3.897297e-01 & -8.825009e-03 & -5.289573e-03 & -5.289573e-03\\\\\n\t sexist       & \\textasciitilde{}  & gen.schema   & b2    & 0 & -9.393053e-02 & 0.0123915211 &  -7.5802258 & 3.441691e-14 & -9.393053e-02 & -7.178916e-02 & -7.178916e-02\\\\\n\t sexist       & \\textasciitilde{}\\textasciitilde{} & sexist       &       & 0 &  2.169793e+01 & 0.1926049584 & 112.6551192 & 0.000000e+00 &  2.169793e+01 &  9.524452e-01 &  9.524452e-01\\\\\n\t obs.learning & \\textasciitilde{}\\textasciitilde{} & obs.learning &       & 0 &  4.779563e+00 & 0.0501708730 &  95.2656888 & 0.000000e+00 &  4.779563e+00 &  9.997574e-01 &  9.997574e-01\\\\\n\t gen.schema   & \\textasciitilde{}\\textasciitilde{} & gen.schema   &       & 0 &  1.330670e+01 & 0.0858768897 & 154.9509318 & 0.000000e+00 &  1.330670e+01 &  9.999720e-01 &  9.999720e-01\\\\\n\t Gender       & \\textasciitilde{}\\textasciitilde{} & Gender       &       & 1 &  2.348383e-01 & 0.0000000000 &          NA &           NA &  2.348383e-01 &  1.000000e+00 &  2.348383e-01\\\\\n\t ind1         & := & a1*b1        & ind1  & 0 &  6.201490e-04 & 0.0009731897 &   0.6372334 & 5.239728e-01 &  6.201490e-04 &  8.238330e-05 &  1.700023e-04\\\\\n\t ind2         & := & a1*b1*b2     & ind2  & 0 & -5.825093e-05 & 0.0000932176 &  -0.6248919 & 5.320420e-01 & -5.825093e-05 & -5.914228e-06 & -1.220432e-05\\\\\n\t total        & := & c+ind1+ind2  & total & 0 & -2.027498e+00 & 0.0950992298 & -21.3198134 & 0.000000e+00 & -2.027498e+00 & -2.058328e-01 & -4.247469e-01\\\\\n\t sexist       & r2 & sexist       &       & 0 &  4.755477e-02 &           NA &          NA &           NA &            NA &            NA &            NA\\\\\n\t obs.learning & r2 & obs.learning &       & 0 &  2.425701e-04 &           NA &          NA &           NA &            NA &            NA &            NA\\\\\n\t gen.schema   & r2 & gen.schema   &       & 0 &  2.797958e-05 &           NA &          NA &           NA &            NA &            NA &            NA\\\\\n\\end{tabular}\n\n\\end{description}\n",
            "text/plain": [
              "lavaan 0.6-19 ended normally after 8 iterations\n",
              "\n",
              "  Estimator                                         ML\n",
              "  Optimization method                           NLMINB\n",
              "  Number of model parameters                         7\n",
              "\n",
              "  Number of observations                         24303\n",
              "\n",
              "Model Test User Model:\n",
              "                                                       \n",
              "  Test statistic                              19560.190\n",
              "  Degrees of freedom                                  2\n",
              "  P-value (Chi-square)                            0.000\n",
              "\n",
              "Model Test Baseline Model:\n",
              "\n",
              "  Test statistic                             21278.514\n",
              "  Degrees of freedom                                 6\n",
              "  P-value                                        0.000\n",
              "\n",
              "User Model versus Baseline Model:\n",
              "\n",
              "  Comparative Fit Index (CFI)                    0.081\n",
              "  Tucker-Lewis Index (TLI)                      -1.758\n",
              "\n",
              "Loglikelihood and Information Criteria:\n",
              "\n",
              "  Loglikelihood user model (H0)            -191306.714\n",
              "  Loglikelihood unrestricted model (H1)    -181526.619\n",
              "                                                      \n",
              "  Akaike (AIC)                              382627.428\n",
              "  Bayesian (BIC)                            382684.116\n",
              "  Sample-size adjusted Bayesian (SABIC)     382661.871\n",
              "\n",
              "Root Mean Square Error of Approximation:\n",
              "\n",
              "  RMSEA                                          0.634\n",
              "  90 Percent confidence interval - lower         0.627\n",
              "  90 Percent confidence interval - upper         0.642\n",
              "  P-value H_0: RMSEA <= 0.050                    0.000\n",
              "  P-value H_0: RMSEA >= 0.080                    1.000\n",
              "\n",
              "Standardized Root Mean Square Residual:\n",
              "\n",
              "  SRMR                                           0.241\n",
              "\n",
              "Parameter Estimates:\n",
              "\n",
              "  Standard errors                            Bootstrap\n",
              "  Number of requested bootstrap draws             5000\n",
              "  Number of successful bootstrap draws            5000\n",
              "\n",
              "Regressions:\n",
              "                   Estimate  Std.Err  z-value  P(>|z|)   Std.lv  Std.all\n",
              "  sexist ~                                                              \n",
              "    Gender     (c)   -2.028    0.095  -21.326    0.000   -2.028   -0.206\n",
              "  obs.learning ~                                                        \n",
              "    Gender    (a1)   -0.070    0.028   -2.517    0.012   -0.070   -0.016\n",
              "  gen.schema ~                                                          \n",
              "    obs.lrnng (b1)   -0.009    0.010   -0.860    0.390   -0.009   -0.005\n",
              "  sexist ~                                                              \n",
              "    gen.schem (b2)   -0.094    0.012   -7.580    0.000   -0.094   -0.072\n",
              "\n",
              "Variances:\n",
              "                   Estimate  Std.Err  z-value  P(>|z|)   Std.lv  Std.all\n",
              "   .sexist           21.698    0.193  112.655    0.000   21.698    0.952\n",
              "   .obs.learning      4.780    0.050   95.266    0.000    4.780    1.000\n",
              "   .gen.schema       13.307    0.086  154.951    0.000   13.307    1.000\n",
              "\n",
              "R-Square:\n",
              "                   Estimate\n",
              "    sexist            0.048\n",
              "    obs.learning      0.000\n",
              "    gen.schema        0.000\n",
              "\n",
              "Defined Parameters:\n",
              "                   Estimate  Std.Err  z-value  P(>|z|)   Std.lv  Std.all\n",
              "    ind1              0.001    0.001    0.637    0.524    0.001    0.000\n",
              "    ind2             -0.000    0.000   -0.625    0.532   -0.000   -0.000\n",
              "    total            -2.027    0.095  -21.320    0.000   -2.027   -0.206\n"
            ]
          },
          "metadata": {}
        }
      ],
      "source": [
        "#Load lavaan, semPlot and semptools libraries\n",
        "install.packages(\"lavaan\")\n",
        "library(lavaan)\n",
        "set.seed(1954)\n",
        "#Transform Gender variable to numeric\n",
        "tgh1$Gender<-ifelse(tgh1$Gender==\"Female\",1,0)\n",
        "#Model specification\n",
        "model<-\"\n",
        "  #direct effects\n",
        "  sexist~c*Gender\n",
        "  #mediator models\n",
        "  obs.learning~a1*Gender\n",
        "  gen.schema~b1*obs.learning\n",
        "  sexist~b2*gen.schema\n",
        "  #indirect effecs\n",
        "  ind1:=a1*b1\n",
        "  ind2:=a1*b1*b2\n",
        "  total:=c+ind1+ind2\n",
        "\"\n",
        "#Fit the mediation model\n",
        "fitMed2<-sem(model=model,data=tgh1,se=\"bootstrap\",bootstrap=5000)\n",
        "summary(fitMed2,standardized=T,fit.measures=T,rsquare=T)"
      ]
    },
    {
      "cell_type": "markdown",
      "metadata": {
        "id": "Rj8YkjU2FjD3"
      },
      "source": [
        "*   Mediation model 3: Gender and sexist beliefs with two mediators: Observational learning and gender schema (parallel)"
      ]
    },
    {
      "cell_type": "code",
      "execution_count": 18,
      "metadata": {
        "colab": {
          "base_uri": "https://localhost:8080/",
          "height": 1000
        },
        "id": "ZzUYOcmIFjD3",
        "outputId": "b9d2bbd6-2b6b-429c-f098-f7da754a5d7c"
      },
      "outputs": [
        {
          "output_type": "stream",
          "name": "stderr",
          "text": [
            "Warning message:\n",
            "“lavaan->lav_model_nvcov_bootstrap():  \n",
            "   113 bootstrap runs failed or did not converge.”\n"
          ]
        },
        {
          "output_type": "display_data",
          "data": {
            "text/html": [
              "<dl>\n",
              "\t<dt>$header</dt>\n",
              "\t\t<dd><dl>\n",
              "\t<dt>$lavaan.version</dt>\n",
              "\t\t<dd>'0.6-19'</dd>\n",
              "\t<dt>$sam.approach</dt>\n",
              "\t\t<dd>FALSE</dd>\n",
              "\t<dt>$optim.method</dt>\n",
              "\t\t<dd>'nlminb'</dd>\n",
              "\t<dt>$optim.iterations</dt>\n",
              "\t\t<dd>9</dd>\n",
              "\t<dt>$optim.converged</dt>\n",
              "\t\t<dd>TRUE</dd>\n",
              "</dl>\n",
              "</dd>\n",
              "\t<dt>$optim</dt>\n",
              "\t\t<dd><dl>\n",
              "\t<dt>$estimator</dt>\n",
              "\t\t<dd>'ML'</dd>\n",
              "\t<dt>$estimator.args</dt>\n",
              "\t\t<dd><ol>\n",
              "</ol>\n",
              "</dd>\n",
              "\t<dt>$optim.method</dt>\n",
              "\t\t<dd>'nlminb'</dd>\n",
              "\t<dt>$npar</dt>\n",
              "\t\t<dd>8</dd>\n",
              "\t<dt>$eq.constraints</dt>\n",
              "\t\t<dd>FALSE</dd>\n",
              "\t<dt>$nrow.ceq.jac</dt>\n",
              "\t\t<dd>0</dd>\n",
              "\t<dt>$nrow.cin.jac</dt>\n",
              "\t\t<dd>0</dd>\n",
              "\t<dt>$nrow.con.jac</dt>\n",
              "\t\t<dd>0</dd>\n",
              "\t<dt>$con.jac.rank</dt>\n",
              "\t\t<dd>0</dd>\n",
              "</dl>\n",
              "</dd>\n",
              "\t<dt>$data</dt>\n",
              "\t\t<dd><dl>\n",
              "\t<dt>$ngroups</dt>\n",
              "\t\t<dd>1</dd>\n",
              "\t<dt>$nobs</dt>\n",
              "\t\t<dd>24303</dd>\n",
              "</dl>\n",
              "</dd>\n",
              "\t<dt>$test</dt>\n",
              "\t\t<dd><strong>$standard</strong> = <dl>\n",
              "\t<dt>$test</dt>\n",
              "\t\t<dd>'standard'</dd>\n",
              "\t<dt>$stat</dt>\n",
              "\t\t<dd>2.13270481095695</dd>\n",
              "\t<dt>$stat.group</dt>\n",
              "\t\t<dd>2.13270481095695</dd>\n",
              "\t<dt>$df</dt>\n",
              "\t\t<dd>1</dd>\n",
              "\t<dt>$refdistr</dt>\n",
              "\t\t<dd>'chisq'</dd>\n",
              "\t<dt>$pvalue</dt>\n",
              "\t\t<dd>0.144186130292484</dd>\n",
              "</dl>\n",
              "</dd>\n",
              "\t<dt>$fit</dt>\n",
              "\t\t<dd><style>\n",
              ".dl-inline {width: auto; margin:0; padding: 0}\n",
              ".dl-inline>dt, .dl-inline>dd {float: none; width: auto; display: inline-block}\n",
              ".dl-inline>dt::after {content: \":\\0020\"; padding-right: .5ex}\n",
              ".dl-inline>dt:not(:first-of-type) {padding-left: .5ex}\n",
              "</style><dl class=dl-inline><dt>npar</dt><dd>8</dd><dt>fmin</dt><dd>4.38773980775409e-05</dd><dt>chisq</dt><dd>2.13270481095695</dd><dt>df</dt><dd>1</dd><dt>pvalue</dt><dd>0.144186130292484</dd><dt>baseline.chisq</dt><dd>21278.513983258</dd><dt>baseline.df</dt><dd>6</dd><dt>baseline.pvalue</dt><dd>0</dd><dt>cfi</dt><dd>0.999946752658767</dd><dt>tli</dt><dd>0.9996805159526</dd><dt>logl</dt><dd>-181527.685158126</dd><dt>unrestricted.logl</dt><dd>-181526.61880572</dd><dt>aic</dt><dd>363071.370316252</dd><dt>bic</dt><dd>363136.15715688</dd><dt>ntotal</dt><dd>24303</dd><dt>bic2</dt><dd>363110.733384565</dd><dt>rmsea</dt><dd>0.0068269768331078</dd><dt>rmsea.ci.lower</dt><dd>0</dd><dt>rmsea.ci.upper</dt><dd>0.0199186880878772</dd><dt>rmsea.ci.level</dt><dd>0.9</dd><dt>rmsea.pvalue</dt><dd>0.999999999880814</dd><dt>rmsea.close.h0</dt><dd>0.05</dd><dt>rmsea.notclose.pvalue</dt><dd>1.68819259903788e-28</dd><dt>rmsea.notclose.h0</dt><dd>0.08</dd><dt>srmr</dt><dd>0.00199247958257283</dd></dl>\n",
              "</dd>\n",
              "\t<dt>$pe</dt>\n",
              "\t\t<dd><table class=\"dataframe\">\n",
              "<caption>A data.frame: 15 × 12</caption>\n",
              "<thead>\n",
              "\t<tr><th scope=col>lhs</th><th scope=col>op</th><th scope=col>rhs</th><th scope=col>label</th><th scope=col>exo</th><th scope=col>est</th><th scope=col>se</th><th scope=col>z</th><th scope=col>pvalue</th><th scope=col>std.lv</th><th scope=col>std.all</th><th scope=col>std.nox</th></tr>\n",
              "\t<tr><th scope=col>&lt;chr&gt;</th><th scope=col>&lt;chr&gt;</th><th scope=col>&lt;chr&gt;</th><th scope=col>&lt;chr&gt;</th><th scope=col>&lt;int&gt;</th><th scope=col>&lt;dbl&gt;</th><th scope=col>&lt;dbl&gt;</th><th scope=col>&lt;dbl&gt;</th><th scope=col>&lt;dbl&gt;</th><th scope=col>&lt;dbl&gt;</th><th scope=col>&lt;dbl&gt;</th><th scope=col>&lt;dbl&gt;</th></tr>\n",
              "</thead>\n",
              "<tbody>\n",
              "\t<tr><td>sexist      </td><td>~ </td><td>Gender      </td><td>c    </td><td>0</td><td>-2.0133895057</td><td>0.094949666</td><td>-21.204809</td><td>0.000000e+00</td><td>-2.013389506</td><td>-0.2022076016</td><td>-0.417266035</td></tr>\n",
              "\t<tr><td>obs.learning</td><td>~ </td><td>Gender      </td><td>a1   </td><td>0</td><td>-0.0702717759</td><td>0.027955017</td><td> -2.513745</td><td>1.194569e-02</td><td>-0.070271776</td><td>-0.0155747642</td><td>-0.032139346</td></tr>\n",
              "\t<tr><td>gen.schema  </td><td>~ </td><td>Gender      </td><td>a2   </td><td>0</td><td> 5.5890788533</td><td>0.033575476</td><td>166.463132</td><td>0.000000e+00</td><td> 5.589078853</td><td> 0.7424728337</td><td> 1.532131794</td></tr>\n",
              "\t<tr><td>sexist      </td><td>~ </td><td>obs.learning</td><td>b1   </td><td>0</td><td> 0.1252666959</td><td>0.013840543</td><td>  9.050707</td><td>0.000000e+00</td><td> 0.125266696</td><td> 0.0567629226</td><td> 0.056762923</td></tr>\n",
              "\t<tr><td>sexist      </td><td>~ </td><td>gen.schema  </td><td>b2   </td><td>0</td><td>-0.0949803460</td><td>0.012351161</td><td> -7.689993</td><td>1.465494e-14</td><td>-0.094980346</td><td>-0.0718063900</td><td>-0.071806390</td></tr>\n",
              "\t<tr><td>sexist      </td><td>~~</td><td>sexist      </td><td>     </td><td>0</td><td>21.6229424422</td><td>0.192181011</td><td>112.513418</td><td>0.000000e+00</td><td>21.622942442</td><td> 0.9287209898</td><td> 0.928720990</td></tr>\n",
              "\t<tr><td>obs.learning</td><td>~~</td><td>obs.learning</td><td>     </td><td>0</td><td> 4.7794995125</td><td>0.050097315</td><td> 95.404305</td><td>0.000000e+00</td><td> 4.779499512</td><td> 0.9997574267</td><td> 0.999757427</td></tr>\n",
              "\t<tr><td>gen.schema  </td><td>~~</td><td>gen.schema  </td><td>     </td><td>0</td><td> 5.9714154730</td><td>0.058541583</td><td>102.002972</td><td>0.000000e+00</td><td> 5.971415473</td><td> 0.4487340912</td><td> 0.448734091</td></tr>\n",
              "\t<tr><td>Gender      </td><td>~~</td><td>Gender      </td><td>     </td><td>1</td><td> 0.2348382775</td><td>0.000000000</td><td>        NA</td><td>          NA</td><td> 0.234838277</td><td> 1.0000000000</td><td> 0.234838277</td></tr>\n",
              "\t<tr><td>ind1        </td><td>:=</td><td>a1*b1       </td><td>ind1 </td><td>0</td><td>-0.0088027132</td><td>0.003674031</td><td> -2.395928</td><td>1.657836e-02</td><td>-0.008802713</td><td>-0.0008840691</td><td>-0.001824323</td></tr>\n",
              "\t<tr><td>ind2        </td><td>:=</td><td>a2*b2       </td><td>ind2 </td><td>0</td><td>-0.5308526433</td><td>0.069169629</td><td> -7.674649</td><td>1.665335e-14</td><td>-0.530852643</td><td>-0.0533142939</td><td>-0.110016853</td></tr>\n",
              "\t<tr><td>total       </td><td>:=</td><td>c+ind1+ind2 </td><td>total</td><td>0</td><td>-2.5530448622</td><td>0.061914487</td><td>-41.235016</td><td>0.000000e+00</td><td>-2.553044862</td><td>-0.2564059647</td><td>-0.529107211</td></tr>\n",
              "\t<tr><td>sexist      </td><td>r2</td><td>sexist      </td><td>     </td><td>0</td><td> 0.0712790102</td><td>         NA</td><td>        NA</td><td>          NA</td><td>          NA</td><td>           NA</td><td>          NA</td></tr>\n",
              "\t<tr><td>obs.learning</td><td>r2</td><td>obs.learning</td><td>     </td><td>0</td><td> 0.0002425733</td><td>         NA</td><td>        NA</td><td>          NA</td><td>          NA</td><td>           NA</td><td>          NA</td></tr>\n",
              "\t<tr><td>gen.schema  </td><td>r2</td><td>gen.schema  </td><td>     </td><td>0</td><td> 0.5512659088</td><td>         NA</td><td>        NA</td><td>          NA</td><td>          NA</td><td>           NA</td><td>          NA</td></tr>\n",
              "</tbody>\n",
              "</table>\n",
              "</dd>\n",
              "</dl>\n"
            ],
            "text/markdown": "$header\n:   $lavaan.version\n:   '0.6-19'\n$sam.approach\n:   FALSE\n$optim.method\n:   'nlminb'\n$optim.iterations\n:   9\n$optim.converged\n:   TRUE\n\n\n\n$optim\n:   $estimator\n:   'ML'\n$estimator.args\n:   \n\n\n$optim.method\n:   'nlminb'\n$npar\n:   8\n$eq.constraints\n:   FALSE\n$nrow.ceq.jac\n:   0\n$nrow.cin.jac\n:   0\n$nrow.con.jac\n:   0\n$con.jac.rank\n:   0\n\n\n\n$data\n:   $ngroups\n:   1\n$nobs\n:   24303\n\n\n\n$test\n:   **$standard** = $test\n:   'standard'\n$stat\n:   2.13270481095695\n$stat.group\n:   2.13270481095695\n$df\n:   1\n$refdistr\n:   'chisq'\n$pvalue\n:   0.144186130292484\n\n\n\n$fit\n:   npar\n:   8fmin\n:   4.38773980775409e-05chisq\n:   2.13270481095695df\n:   1pvalue\n:   0.144186130292484baseline.chisq\n:   21278.513983258baseline.df\n:   6baseline.pvalue\n:   0cfi\n:   0.999946752658767tli\n:   0.9996805159526logl\n:   -181527.685158126unrestricted.logl\n:   -181526.61880572aic\n:   363071.370316252bic\n:   363136.15715688ntotal\n:   24303bic2\n:   363110.733384565rmsea\n:   0.0068269768331078rmsea.ci.lower\n:   0rmsea.ci.upper\n:   0.0199186880878772rmsea.ci.level\n:   0.9rmsea.pvalue\n:   0.999999999880814rmsea.close.h0\n:   0.05rmsea.notclose.pvalue\n:   1.68819259903788e-28rmsea.notclose.h0\n:   0.08srmr\n:   0.00199247958257283\n\n\n$pe\n:   \nA data.frame: 15 × 12\n\n| lhs &lt;chr&gt; | op &lt;chr&gt; | rhs &lt;chr&gt; | label &lt;chr&gt; | exo &lt;int&gt; | est &lt;dbl&gt; | se &lt;dbl&gt; | z &lt;dbl&gt; | pvalue &lt;dbl&gt; | std.lv &lt;dbl&gt; | std.all &lt;dbl&gt; | std.nox &lt;dbl&gt; |\n|---|---|---|---|---|---|---|---|---|---|---|---|\n| sexist       | ~  | Gender       | c     | 0 | -2.0133895057 | 0.094949666 | -21.204809 | 0.000000e+00 | -2.013389506 | -0.2022076016 | -0.417266035 |\n| obs.learning | ~  | Gender       | a1    | 0 | -0.0702717759 | 0.027955017 |  -2.513745 | 1.194569e-02 | -0.070271776 | -0.0155747642 | -0.032139346 |\n| gen.schema   | ~  | Gender       | a2    | 0 |  5.5890788533 | 0.033575476 | 166.463132 | 0.000000e+00 |  5.589078853 |  0.7424728337 |  1.532131794 |\n| sexist       | ~  | obs.learning | b1    | 0 |  0.1252666959 | 0.013840543 |   9.050707 | 0.000000e+00 |  0.125266696 |  0.0567629226 |  0.056762923 |\n| sexist       | ~  | gen.schema   | b2    | 0 | -0.0949803460 | 0.012351161 |  -7.689993 | 1.465494e-14 | -0.094980346 | -0.0718063900 | -0.071806390 |\n| sexist       | ~~ | sexist       | <!----> | 0 | 21.6229424422 | 0.192181011 | 112.513418 | 0.000000e+00 | 21.622942442 |  0.9287209898 |  0.928720990 |\n| obs.learning | ~~ | obs.learning | <!----> | 0 |  4.7794995125 | 0.050097315 |  95.404305 | 0.000000e+00 |  4.779499512 |  0.9997574267 |  0.999757427 |\n| gen.schema   | ~~ | gen.schema   | <!----> | 0 |  5.9714154730 | 0.058541583 | 102.002972 | 0.000000e+00 |  5.971415473 |  0.4487340912 |  0.448734091 |\n| Gender       | ~~ | Gender       | <!----> | 1 |  0.2348382775 | 0.000000000 |         NA |           NA |  0.234838277 |  1.0000000000 |  0.234838277 |\n| ind1         | := | a1*b1        | ind1  | 0 | -0.0088027132 | 0.003674031 |  -2.395928 | 1.657836e-02 | -0.008802713 | -0.0008840691 | -0.001824323 |\n| ind2         | := | a2*b2        | ind2  | 0 | -0.5308526433 | 0.069169629 |  -7.674649 | 1.665335e-14 | -0.530852643 | -0.0533142939 | -0.110016853 |\n| total        | := | c+ind1+ind2  | total | 0 | -2.5530448622 | 0.061914487 | -41.235016 | 0.000000e+00 | -2.553044862 | -0.2564059647 | -0.529107211 |\n| sexist       | r2 | sexist       | <!----> | 0 |  0.0712790102 |          NA |         NA |           NA |           NA |            NA |           NA |\n| obs.learning | r2 | obs.learning | <!----> | 0 |  0.0002425733 |          NA |         NA |           NA |           NA |            NA |           NA |\n| gen.schema   | r2 | gen.schema   | <!----> | 0 |  0.5512659088 |          NA |         NA |           NA |           NA |            NA |           NA |\n\n\n\n\n",
            "text/latex": "\\begin{description}\n\\item[\\$header] \\begin{description}\n\\item[\\$lavaan.version] '0.6-19'\n\\item[\\$sam.approach] FALSE\n\\item[\\$optim.method] 'nlminb'\n\\item[\\$optim.iterations] 9\n\\item[\\$optim.converged] TRUE\n\\end{description}\n\n\\item[\\$optim] \\begin{description}\n\\item[\\$estimator] 'ML'\n\\item[\\$estimator.args] \\begin{enumerate}\n\\end{enumerate}\n\n\\item[\\$optim.method] 'nlminb'\n\\item[\\$npar] 8\n\\item[\\$eq.constraints] FALSE\n\\item[\\$nrow.ceq.jac] 0\n\\item[\\$nrow.cin.jac] 0\n\\item[\\$nrow.con.jac] 0\n\\item[\\$con.jac.rank] 0\n\\end{description}\n\n\\item[\\$data] \\begin{description}\n\\item[\\$ngroups] 1\n\\item[\\$nobs] 24303\n\\end{description}\n\n\\item[\\$test] \\textbf{\\$standard} = \\begin{description}\n\\item[\\$test] 'standard'\n\\item[\\$stat] 2.13270481095695\n\\item[\\$stat.group] 2.13270481095695\n\\item[\\$df] 1\n\\item[\\$refdistr] 'chisq'\n\\item[\\$pvalue] 0.144186130292484\n\\end{description}\n\n\\item[\\$fit] \\begin{description*}\n\\item[npar] 8\n\\item[fmin] 4.38773980775409e-05\n\\item[chisq] 2.13270481095695\n\\item[df] 1\n\\item[pvalue] 0.144186130292484\n\\item[baseline.chisq] 21278.513983258\n\\item[baseline.df] 6\n\\item[baseline.pvalue] 0\n\\item[cfi] 0.999946752658767\n\\item[tli] 0.9996805159526\n\\item[logl] -181527.685158126\n\\item[unrestricted.logl] -181526.61880572\n\\item[aic] 363071.370316252\n\\item[bic] 363136.15715688\n\\item[ntotal] 24303\n\\item[bic2] 363110.733384565\n\\item[rmsea] 0.0068269768331078\n\\item[rmsea.ci.lower] 0\n\\item[rmsea.ci.upper] 0.0199186880878772\n\\item[rmsea.ci.level] 0.9\n\\item[rmsea.pvalue] 0.999999999880814\n\\item[rmsea.close.h0] 0.05\n\\item[rmsea.notclose.pvalue] 1.68819259903788e-28\n\\item[rmsea.notclose.h0] 0.08\n\\item[srmr] 0.00199247958257283\n\\end{description*}\n\n\\item[\\$pe] A data.frame: 15 × 12\n\\begin{tabular}{llllllllllll}\n lhs & op & rhs & label & exo & est & se & z & pvalue & std.lv & std.all & std.nox\\\\\n <chr> & <chr> & <chr> & <chr> & <int> & <dbl> & <dbl> & <dbl> & <dbl> & <dbl> & <dbl> & <dbl>\\\\\n\\hline\n\t sexist       & \\textasciitilde{}  & Gender       & c     & 0 & -2.0133895057 & 0.094949666 & -21.204809 & 0.000000e+00 & -2.013389506 & -0.2022076016 & -0.417266035\\\\\n\t obs.learning & \\textasciitilde{}  & Gender       & a1    & 0 & -0.0702717759 & 0.027955017 &  -2.513745 & 1.194569e-02 & -0.070271776 & -0.0155747642 & -0.032139346\\\\\n\t gen.schema   & \\textasciitilde{}  & Gender       & a2    & 0 &  5.5890788533 & 0.033575476 & 166.463132 & 0.000000e+00 &  5.589078853 &  0.7424728337 &  1.532131794\\\\\n\t sexist       & \\textasciitilde{}  & obs.learning & b1    & 0 &  0.1252666959 & 0.013840543 &   9.050707 & 0.000000e+00 &  0.125266696 &  0.0567629226 &  0.056762923\\\\\n\t sexist       & \\textasciitilde{}  & gen.schema   & b2    & 0 & -0.0949803460 & 0.012351161 &  -7.689993 & 1.465494e-14 & -0.094980346 & -0.0718063900 & -0.071806390\\\\\n\t sexist       & \\textasciitilde{}\\textasciitilde{} & sexist       &       & 0 & 21.6229424422 & 0.192181011 & 112.513418 & 0.000000e+00 & 21.622942442 &  0.9287209898 &  0.928720990\\\\\n\t obs.learning & \\textasciitilde{}\\textasciitilde{} & obs.learning &       & 0 &  4.7794995125 & 0.050097315 &  95.404305 & 0.000000e+00 &  4.779499512 &  0.9997574267 &  0.999757427\\\\\n\t gen.schema   & \\textasciitilde{}\\textasciitilde{} & gen.schema   &       & 0 &  5.9714154730 & 0.058541583 & 102.002972 & 0.000000e+00 &  5.971415473 &  0.4487340912 &  0.448734091\\\\\n\t Gender       & \\textasciitilde{}\\textasciitilde{} & Gender       &       & 1 &  0.2348382775 & 0.000000000 &         NA &           NA &  0.234838277 &  1.0000000000 &  0.234838277\\\\\n\t ind1         & := & a1*b1        & ind1  & 0 & -0.0088027132 & 0.003674031 &  -2.395928 & 1.657836e-02 & -0.008802713 & -0.0008840691 & -0.001824323\\\\\n\t ind2         & := & a2*b2        & ind2  & 0 & -0.5308526433 & 0.069169629 &  -7.674649 & 1.665335e-14 & -0.530852643 & -0.0533142939 & -0.110016853\\\\\n\t total        & := & c+ind1+ind2  & total & 0 & -2.5530448622 & 0.061914487 & -41.235016 & 0.000000e+00 & -2.553044862 & -0.2564059647 & -0.529107211\\\\\n\t sexist       & r2 & sexist       &       & 0 &  0.0712790102 &          NA &         NA &           NA &           NA &            NA &           NA\\\\\n\t obs.learning & r2 & obs.learning &       & 0 &  0.0002425733 &          NA &         NA &           NA &           NA &            NA &           NA\\\\\n\t gen.schema   & r2 & gen.schema   &       & 0 &  0.5512659088 &          NA &         NA &           NA &           NA &            NA &           NA\\\\\n\\end{tabular}\n\n\\end{description}\n",
            "text/plain": [
              "lavaan 0.6-19 ended normally after 9 iterations\n",
              "\n",
              "  Estimator                                         ML\n",
              "  Optimization method                           NLMINB\n",
              "  Number of model parameters                         8\n",
              "\n",
              "  Number of observations                         24303\n",
              "\n",
              "Model Test User Model:\n",
              "                                                      \n",
              "  Test statistic                                 2.133\n",
              "  Degrees of freedom                                 1\n",
              "  P-value (Chi-square)                           0.144\n",
              "\n",
              "Model Test Baseline Model:\n",
              "\n",
              "  Test statistic                             21278.514\n",
              "  Degrees of freedom                                 6\n",
              "  P-value                                        0.000\n",
              "\n",
              "User Model versus Baseline Model:\n",
              "\n",
              "  Comparative Fit Index (CFI)                    1.000\n",
              "  Tucker-Lewis Index (TLI)                       1.000\n",
              "\n",
              "Loglikelihood and Information Criteria:\n",
              "\n",
              "  Loglikelihood user model (H0)            -181527.685\n",
              "  Loglikelihood unrestricted model (H1)    -181526.619\n",
              "                                                      \n",
              "  Akaike (AIC)                              363071.370\n",
              "  Bayesian (BIC)                            363136.157\n",
              "  Sample-size adjusted Bayesian (SABIC)     363110.733\n",
              "\n",
              "Root Mean Square Error of Approximation:\n",
              "\n",
              "  RMSEA                                          0.007\n",
              "  90 Percent confidence interval - lower         0.000\n",
              "  90 Percent confidence interval - upper         0.020\n",
              "  P-value H_0: RMSEA <= 0.050                    1.000\n",
              "  P-value H_0: RMSEA >= 0.080                    0.000\n",
              "\n",
              "Standardized Root Mean Square Residual:\n",
              "\n",
              "  SRMR                                           0.002\n",
              "\n",
              "Parameter Estimates:\n",
              "\n",
              "  Standard errors                            Bootstrap\n",
              "  Number of requested bootstrap draws             5000\n",
              "  Number of successful bootstrap draws            4887\n",
              "\n",
              "Regressions:\n",
              "                   Estimate  Std.Err  z-value  P(>|z|)   Std.lv  Std.all\n",
              "  sexist ~                                                              \n",
              "    Gender     (c)   -2.013    0.095  -21.205    0.000   -2.013   -0.202\n",
              "  obs.learning ~                                                        \n",
              "    Gender    (a1)   -0.070    0.028   -2.514    0.012   -0.070   -0.016\n",
              "  gen.schema ~                                                          \n",
              "    Gender    (a2)    5.589    0.034  166.463    0.000    5.589    0.742\n",
              "  sexist ~                                                              \n",
              "    obs.lrnng (b1)    0.125    0.014    9.051    0.000    0.125    0.057\n",
              "    gen.schem (b2)   -0.095    0.012   -7.690    0.000   -0.095   -0.072\n",
              "\n",
              "Variances:\n",
              "                   Estimate  Std.Err  z-value  P(>|z|)   Std.lv  Std.all\n",
              "   .sexist           21.623    0.192  112.513    0.000   21.623    0.929\n",
              "   .obs.learning      4.779    0.050   95.404    0.000    4.779    1.000\n",
              "   .gen.schema        5.971    0.059  102.003    0.000    5.971    0.449\n",
              "\n",
              "R-Square:\n",
              "                   Estimate\n",
              "    sexist            0.071\n",
              "    obs.learning      0.000\n",
              "    gen.schema        0.551\n",
              "\n",
              "Defined Parameters:\n",
              "                   Estimate  Std.Err  z-value  P(>|z|)   Std.lv  Std.all\n",
              "    ind1             -0.009    0.004   -2.396    0.017   -0.009   -0.001\n",
              "    ind2             -0.531    0.069   -7.675    0.000   -0.531   -0.053\n",
              "    total            -2.553    0.062  -41.235    0.000   -2.553   -0.256\n"
            ]
          },
          "metadata": {}
        }
      ],
      "source": [
        "set.seed(1954)\n",
        "model2<-\"\n",
        "  #direct effect\n",
        "  sexist~c*Gender\n",
        "  #mediator models\n",
        "  obs.learning~a1*Gender\n",
        "  gen.schema~a2*Gender\n",
        "  #mediators to outcome\n",
        "  sexist~b1*obs.learning+b2*gen.schema\n",
        "  #indirect effecs\n",
        "  ind1:=a1*b1\n",
        "  ind2:=a2*b2\n",
        "  total:=c+ind1+ind2\n",
        "\"\n",
        "fitMed3<-sem(model=model2,data=tgh1,se=\"bootstrap\",bootstrap=5000)\n",
        "summary(fitMed3,standardized=T,fit.measures=T,rsquare=T)"
      ]
    },
    {
      "cell_type": "markdown",
      "metadata": {
        "id": "fRQhXj_WFjD4"
      },
      "source": [
        "*   Plot mediation model 3 using fully standardized estimates"
      ]
    },
    {
      "cell_type": "code",
      "execution_count": null,
      "metadata": {
        "id": "jxGKRfoqFjD4",
        "outputId": "0585e3aa-94f5-4290-fc9d-0114e8fc2034"
      },
      "outputs": [
        {
          "data": {
            "image/png": "[encoded data removed]",
            "text/plain": [
              "plot without title"
            ]
          },
          "metadata": {
            "image/png": {
              "height": 420,
              "width": 420
            }
          },
          "output_type": "display_data"
        }
      ],
      "source": [
        "install.packages(\"semPlot\")\n",
        "install.packages(\"semptools\")\n",
        "library(semPlot)\n",
        "library(semptools)\n",
        "MedPlot<-semPaths(fitMed3,what=\"std\", layout=\"tree\", edge.label.cex = 1.2,\n",
        "                  sizeMan=12,nCharNodes=0,residuals=FALSE,title=FALSE)"
      ]
    },
    {
      "cell_type": "markdown",
      "source": [
        "### **6. Moderation analysis**\n",
        "\n",
        "\n",
        "*   Moderation model 1: Gender salience as a moderator for Gender without mediation\n",
        "\n"
      ],
      "metadata": {
        "id": "eqfQmJeEdCPg"
      }
    },
    {
      "cell_type": "code",
      "execution_count": null,
      "metadata": {
        "id": "PEzgSS7zFjD4",
        "outputId": "31803301-610d-4326-9f6d-99f8914767ae"
      },
      "outputs": [
        {
          "data": {
            "text/plain": [
              "\n",
              "Call:\n",
              "lm(formula = sexist ~ gen.schema + obs.learning + Gender * Identification_with_gender_group, \n",
              "    data = tgh1)\n",
              "\n",
              "Residuals:\n",
              "     Min       1Q   Median       3Q      Max \n",
              "-17.2108  -3.0871   0.1579   3.0898  18.8442 \n",
              "\n",
              "Coefficients:\n",
              "                                        Estimate Std. Error t value Pr(>|t|)\n",
              "(Intercept)                             20.23281    0.14215 142.332  < 2e-16\n",
              "gen.schema                              -0.08914    0.01253  -7.116 1.14e-12\n",
              "obs.learning                             0.10688    0.01346   7.940 2.11e-15\n",
              "Gender                                  -0.78096    0.15905  -4.910 9.17e-07\n",
              "Identification_with_gender_group         0.56958    0.02446  23.286  < 2e-16\n",
              "Gender:Identification_with_gender_group -0.29906    0.03253  -9.195  < 2e-16\n",
              "                                           \n",
              "(Intercept)                             ***\n",
              "gen.schema                              ***\n",
              "obs.learning                            ***\n",
              "Gender                                  ***\n",
              "Identification_with_gender_group        ***\n",
              "Gender:Identification_with_gender_group ***\n",
              "---\n",
              "Signif. codes:  0 ‘***’ 0.001 ‘**’ 0.01 ‘*’ 0.05 ‘.’ 0.1 ‘ ’ 1\n",
              "\n",
              "Residual standard error: 4.582 on 24297 degrees of freedom\n",
              "Multiple R-squared:  0.09862,\tAdjusted R-squared:  0.09844 \n",
              "F-statistic: 531.7 on 5 and 24297 DF,  p-value: < 2.2e-16\n"
            ]
          },
          "metadata": {},
          "output_type": "display_data"
        }
      ],
      "source": [
        "fit.mod1<-lm(sexist~gen.schema+obs.learning+Gender*Identification_with_gender_group,data=tgh1)\n",
        "summary(fit.mod1)"
      ]
    },
    {
      "cell_type": "markdown",
      "source": [
        "\n",
        "\n",
        "*   Compare the best lineal regression (model 2) against the new moderation model (with Gender salience as an interactive term)\n",
        "\n"
      ],
      "metadata": {
        "id": "Eu3_o86_da2T"
      }
    },
    {
      "cell_type": "code",
      "execution_count": null,
      "metadata": {
        "id": "FJMjNOBXFjD4",
        "outputId": "54e6346a-5f06-483c-bff3-bd0487e25bf8"
      },
      "outputs": [
        {
          "data": {
            "text/html": [
              "<table class=\"dataframe\">\n",
              "<caption>A anova: 2 × 6</caption>\n",
              "<thead>\n",
              "\t<tr><th></th><th scope=col>Res.Df</th><th scope=col>RSS</th><th scope=col>Df</th><th scope=col>Sum of Sq</th><th scope=col>F</th><th scope=col>Pr(&gt;F)</th></tr>\n",
              "\t<tr><th></th><th scope=col>&lt;dbl&gt;</th><th scope=col>&lt;dbl&gt;</th><th scope=col>&lt;dbl&gt;</th><th scope=col>&lt;dbl&gt;</th><th scope=col>&lt;dbl&gt;</th><th scope=col>&lt;dbl&gt;</th></tr>\n",
              "</thead>\n",
              "<tbody>\n",
              "\t<tr><th scope=row>1</th><td>24300</td><td>535881.1</td><td>NA</td><td>      NA</td><td>      NA</td><td>           NA</td></tr>\n",
              "\t<tr><th scope=row>2</th><td>24297</td><td>510004.4</td><td> 3</td><td>25876.61</td><td>410.9271</td><td>2.050254e-260</td></tr>\n",
              "</tbody>\n",
              "</table>\n"
            ],
            "text/latex": [
              "A anova: 2 × 6\n",
              "\\begin{tabular}{r|llllll}\n",
              "  & Res.Df & RSS & Df & Sum of Sq & F & Pr(>F)\\\\\n",
              "  & <dbl> & <dbl> & <dbl> & <dbl> & <dbl> & <dbl>\\\\\n",
              "\\hline\n",
              "\t1 & 24300 & 535881.1 & NA &       NA &       NA &            NA\\\\\n",
              "\t2 & 24297 & 510004.4 &  3 & 25876.61 & 410.9271 & 2.050254e-260\\\\\n",
              "\\end{tabular}\n"
            ],
            "text/markdown": [
              "\n",
              "A anova: 2 × 6\n",
              "\n",
              "| <!--/--> | Res.Df &lt;dbl&gt; | RSS &lt;dbl&gt; | Df &lt;dbl&gt; | Sum of Sq &lt;dbl&gt; | F &lt;dbl&gt; | Pr(&gt;F) &lt;dbl&gt; |\n",
              "|---|---|---|---|---|---|---|\n",
              "| 1 | 24300 | 535881.1 | NA |       NA |       NA |            NA |\n",
              "| 2 | 24297 | 510004.4 |  3 | 25876.61 | 410.9271 | 2.050254e-260 |\n",
              "\n"
            ],
            "text/plain": [
              "  Res.Df RSS      Df Sum of Sq F        Pr(>F)       \n",
              "1 24300  535881.1 NA       NA        NA            NA\n",
              "2 24297  510004.4  3 25876.61  410.9271 2.050254e-260"
            ]
          },
          "metadata": {},
          "output_type": "display_data"
        },
        {
          "data": {
            "text/html": [
              "<table class=\"dataframe\">\n",
              "<caption>A data.frame: 2 × 2</caption>\n",
              "<thead>\n",
              "\t<tr><th></th><th scope=col>df</th><th scope=col>AIC</th></tr>\n",
              "\t<tr><th></th><th scope=col>&lt;dbl&gt;</th><th scope=col>&lt;dbl&gt;</th></tr>\n",
              "</thead>\n",
              "<tbody>\n",
              "\t<tr><th scope=row>gs.lm</th><td>3</td><td>144241.2</td></tr>\n",
              "\t<tr><th scope=row>fit.mod1</th><td>7</td><td>142956.9</td></tr>\n",
              "</tbody>\n",
              "</table>\n"
            ],
            "text/latex": [
              "A data.frame: 2 × 2\n",
              "\\begin{tabular}{r|ll}\n",
              "  & df & AIC\\\\\n",
              "  & <dbl> & <dbl>\\\\\n",
              "\\hline\n",
              "\tgs.lm & 3 & 144241.2\\\\\n",
              "\tfit.mod1 & 7 & 142956.9\\\\\n",
              "\\end{tabular}\n"
            ],
            "text/markdown": [
              "\n",
              "A data.frame: 2 × 2\n",
              "\n",
              "| <!--/--> | df &lt;dbl&gt; | AIC &lt;dbl&gt; |\n",
              "|---|---|---|\n",
              "| gs.lm | 3 | 144241.2 |\n",
              "| fit.mod1 | 7 | 142956.9 |\n",
              "\n"
            ],
            "text/plain": [
              "         df AIC     \n",
              "gs.lm    3  144241.2\n",
              "fit.mod1 7  142956.9"
            ]
          },
          "metadata": {},
          "output_type": "display_data"
        },
        {
          "data": {
            "text/html": [
              "<table class=\"dataframe\">\n",
              "<caption>A data.frame: 2 × 2</caption>\n",
              "<thead>\n",
              "\t<tr><th></th><th scope=col>df</th><th scope=col>BIC</th></tr>\n",
              "\t<tr><th></th><th scope=col>&lt;dbl&gt;</th><th scope=col>&lt;dbl&gt;</th></tr>\n",
              "</thead>\n",
              "<tbody>\n",
              "\t<tr><th scope=row>gs.lm</th><td>3</td><td>144265.5</td></tr>\n",
              "\t<tr><th scope=row>fit.mod1</th><td>7</td><td>143013.6</td></tr>\n",
              "</tbody>\n",
              "</table>\n"
            ],
            "text/latex": [
              "A data.frame: 2 × 2\n",
              "\\begin{tabular}{r|ll}\n",
              "  & df & BIC\\\\\n",
              "  & <dbl> & <dbl>\\\\\n",
              "\\hline\n",
              "\tgs.lm & 3 & 144265.5\\\\\n",
              "\tfit.mod1 & 7 & 143013.6\\\\\n",
              "\\end{tabular}\n"
            ],
            "text/markdown": [
              "\n",
              "A data.frame: 2 × 2\n",
              "\n",
              "| <!--/--> | df &lt;dbl&gt; | BIC &lt;dbl&gt; |\n",
              "|---|---|---|\n",
              "| gs.lm | 3 | 144265.5 |\n",
              "| fit.mod1 | 7 | 143013.6 |\n",
              "\n"
            ],
            "text/plain": [
              "         df BIC     \n",
              "gs.lm    3  144265.5\n",
              "fit.mod1 7  143013.6"
            ]
          },
          "metadata": {},
          "output_type": "display_data"
        }
      ],
      "source": [
        "anova(fit.lm,fit.mod1)\n",
        "AIC(gs.lm,fit.mod1)\n",
        "BIC(gs.lm,fit.mod1)"
      ]
    },
    {
      "cell_type": "markdown",
      "source": [
        "\n",
        "\n",
        "*   Moderation model 2: Gender salience as a moderator for Gender with mediation (moderated mediation)\n",
        "\n",
        "\n"
      ],
      "metadata": {
        "id": "o5sMmfXJegDi"
      }
    },
    {
      "cell_type": "code",
      "execution_count": null,
      "metadata": {
        "id": "LgR6keB-FjD4",
        "outputId": "fcfdd769-74af-4cf2-deb3-01041cba451a"
      },
      "outputs": [
        {
          "data": {
            "text/html": [
              "<dl>\n",
              "\t<dt>$header</dt>\n",
              "\t\t<dd><dl>\n",
              "\t<dt>$lavaan.version</dt>\n",
              "\t\t<dd>'0.6-19'</dd>\n",
              "\t<dt>$sam.approach</dt>\n",
              "\t\t<dd>FALSE</dd>\n",
              "\t<dt>$optim.method</dt>\n",
              "\t\t<dd>'nlminb'</dd>\n",
              "\t<dt>$optim.iterations</dt>\n",
              "\t\t<dd>1</dd>\n",
              "\t<dt>$optim.converged</dt>\n",
              "\t\t<dd>TRUE</dd>\n",
              "</dl>\n",
              "</dd>\n",
              "\t<dt>$optim</dt>\n",
              "\t\t<dd><dl>\n",
              "\t<dt>$estimator</dt>\n",
              "\t\t<dd>'ML'</dd>\n",
              "\t<dt>$estimator.args</dt>\n",
              "\t\t<dd><ol>\n",
              "</ol>\n",
              "</dd>\n",
              "\t<dt>$optim.method</dt>\n",
              "\t\t<dd>'nlminb'</dd>\n",
              "\t<dt>$npar</dt>\n",
              "\t\t<dd>12</dd>\n",
              "\t<dt>$eq.constraints</dt>\n",
              "\t\t<dd>FALSE</dd>\n",
              "\t<dt>$nrow.ceq.jac</dt>\n",
              "\t\t<dd>0</dd>\n",
              "\t<dt>$nrow.cin.jac</dt>\n",
              "\t\t<dd>0</dd>\n",
              "\t<dt>$nrow.con.jac</dt>\n",
              "\t\t<dd>0</dd>\n",
              "\t<dt>$con.jac.rank</dt>\n",
              "\t\t<dd>0</dd>\n",
              "</dl>\n",
              "</dd>\n",
              "\t<dt>$data</dt>\n",
              "\t\t<dd><dl>\n",
              "\t<dt>$ngroups</dt>\n",
              "\t\t<dd>1</dd>\n",
              "\t<dt>$nobs</dt>\n",
              "\t\t<dd>24303</dd>\n",
              "</dl>\n",
              "</dd>\n",
              "\t<dt>$test</dt>\n",
              "\t\t<dd><strong>$standard</strong> = <dl>\n",
              "\t<dt>$test</dt>\n",
              "\t\t<dd>'standard'</dd>\n",
              "\t<dt>$stat</dt>\n",
              "\t\t<dd>729.454794999506</dd>\n",
              "\t<dt>$stat.group</dt>\n",
              "\t\t<dd>729.454794999506</dd>\n",
              "\t<dt>$df</dt>\n",
              "\t\t<dd>3</dd>\n",
              "\t<dt>$refdistr</dt>\n",
              "\t\t<dd>'chisq'</dd>\n",
              "\t<dt>$pvalue</dt>\n",
              "\t\t<dd>0</dd>\n",
              "</dl>\n",
              "</dd>\n",
              "\t<dt>$fit</dt>\n",
              "\t\t<dd><style>\n",
              ".dl-inline {width: auto; margin:0; padding: 0}\n",
              ".dl-inline>dt, .dl-inline>dd {float: none; width: auto; display: inline-block}\n",
              ".dl-inline>dt::after {content: \":\\0020\"; padding-right: .5ex}\n",
              ".dl-inline>dt:not(:first-of-type) {padding-left: .5ex}\n",
              "</style><dl class=dl-inline><dt>npar</dt><dd>12</dd><dt>fmin</dt><dd>0.0150075051433878</dd><dt>chisq</dt><dd>729.454794999506</dd><dt>df</dt><dd>3</dd><dt>pvalue</dt><dd>0</dd><dt>baseline.chisq</dt><dd>24045.4683940088</dd><dt>baseline.df</dt><dd>12</dd><dt>baseline.pvalue</dt><dd>0</dd><dt>cfi</dt><dd>0.969773201974435</dd><dt>tli</dt><dd>0.87909280789774</dd><dt>logl</dt><dd>-180507.868997843</dd><dt>unrestricted.logl</dt><dd>-180143.141600343</dd><dt>aic</dt><dd>361039.737995685</dd><dt>bic</dt><dd>361136.918256627</dd><dt>ntotal</dt><dd>24303</dd><dt>bic2</dt><dd>361098.782598155</dd><dt>rmsea</dt><dd>0.0998191176350998</dd><dt>rmsea.ci.lower</dt><dd>0.0937917238021499</dd><dt>rmsea.ci.upper</dt><dd>0.105983465246544</dd><dt>rmsea.ci.level</dt><dd>0.9</dd><dt>rmsea.pvalue</dt><dd>2.22044604925031e-16</dd><dt>rmsea.close.h0</dt><dd>0.05</dd><dt>rmsea.notclose.pvalue</dt><dd>0.999999959695784</dd><dt>rmsea.notclose.h0</dt><dd>0.08</dd><dt>srmr</dt><dd>0.0383077132122362</dd></dl>\n",
              "</dd>\n",
              "\t<dt>$pe</dt>\n",
              "\t\t<dd><table class=\"dataframe\">\n",
              "<caption>A data.frame: 24 × 12</caption>\n",
              "<thead>\n",
              "\t<tr><th scope=col>lhs</th><th scope=col>op</th><th scope=col>rhs</th><th scope=col>label</th><th scope=col>exo</th><th scope=col>est</th><th scope=col>se</th><th scope=col>z</th><th scope=col>pvalue</th><th scope=col>std.lv</th><th scope=col>std.all</th><th scope=col>std.nox</th></tr>\n",
              "\t<tr><th scope=col>&lt;chr&gt;</th><th scope=col>&lt;chr&gt;</th><th scope=col>&lt;chr&gt;</th><th scope=col>&lt;chr&gt;</th><th scope=col>&lt;int&gt;</th><th scope=col>&lt;dbl&gt;</th><th scope=col>&lt;dbl&gt;</th><th scope=col>&lt;dbl&gt;</th><th scope=col>&lt;dbl&gt;</th><th scope=col>&lt;dbl&gt;</th><th scope=col>&lt;dbl&gt;</th><th scope=col>&lt;dbl&gt;</th></tr>\n",
              "</thead>\n",
              "<tbody>\n",
              "\t<tr><td>gen.schema    </td><td>~ </td><td>Gender             </td><td>a1            </td><td>0</td><td> 5.601819709</td><td>0.032701567</td><td>171.301262</td><td>0.000000e+00</td><td> 5.601819709</td><td> 0.744165374</td><td> 1.5356244390</td></tr>\n",
              "\t<tr><td>gen.schema    </td><td>~ </td><td>gen.sal.z          </td><td>a2            </td><td>0</td><td>-0.308777279</td><td>0.014259944</td><td>-21.653471</td><td>0.000000e+00</td><td>-0.308777279</td><td>-0.162030688</td><td>-0.0846449834</td></tr>\n",
              "\t<tr><td>gen.schema    </td><td>~ </td><td>gen.x.sal          </td><td>a3            </td><td>0</td><td> 0.696535616</td><td>0.017851942</td><td> 39.017359</td><td>0.000000e+00</td><td> 0.696535616</td><td> 0.281000913</td><td> 0.1909410102</td></tr>\n",
              "\t<tr><td>obs.learning  </td><td>~ </td><td>Gender             </td><td>a4            </td><td>0</td><td>-0.087386405</td><td>0.027936141</td><td> -3.128077</td><td>1.759540e-03</td><td>-0.087386405</td><td>-0.019367984</td><td>-0.0399668554</td></tr>\n",
              "\t<tr><td>obs.learning  </td><td>~ </td><td>gen.sal.z          </td><td>a5            </td><td>0</td><td> 0.072663913</td><td>0.011812497</td><td>  6.151444</td><td>7.678067e-10</td><td> 0.072663913</td><td> 0.063616671</td><td> 0.0332334088</td></tr>\n",
              "\t<tr><td>obs.learning  </td><td>~ </td><td>gen.x.sal          </td><td>a6            </td><td>0</td><td>-0.027866635</td><td>0.015676500</td><td> -1.777606</td><td>7.546865e-02</td><td>-0.027866635</td><td>-0.018756386</td><td>-0.0127450233</td></tr>\n",
              "\t<tr><td>sexist        </td><td>~ </td><td>gen.schema         </td><td>b1            </td><td>0</td><td>-0.094980346</td><td>0.012368163</td><td> -7.679422</td><td>1.598721e-14</td><td>-0.094980346</td><td>-0.071806548</td><td>-0.0718065477</td></tr>\n",
              "\t<tr><td>sexist        </td><td>~ </td><td>obs.learning       </td><td>b2            </td><td>0</td><td> 0.125266696</td><td>0.013849490</td><td>  9.044860</td><td>0.000000e+00</td><td> 0.125266696</td><td> 0.056763047</td><td> 0.0567630472</td></tr>\n",
              "\t<tr><td>sexist        </td><td>~ </td><td>Gender             </td><td>c             </td><td>0</td><td>-2.013389506</td><td>0.095018886</td><td>-21.189361</td><td>0.000000e+00</td><td>-2.013389506</td><td>-0.202208046</td><td>-0.4172669513</td></tr>\n",
              "\t<tr><td>gen.schema    </td><td>~~</td><td>gen.schema         </td><td>              </td><td>0</td><td> 5.504737042</td><td>0.059876295</td><td> 91.935164</td><td>0.000000e+00</td><td> 5.504737042</td><td> 0.413664597</td><td> 0.4136645968</td></tr>\n",
              "\t<tr><td>obs.learning  </td><td>~~</td><td>obs.learning       </td><td>              </td><td>0</td><td> 4.767326695</td><td>0.049956041</td><td> 95.430435</td><td>0.000000e+00</td><td> 4.767326695</td><td> 0.997211163</td><td> 0.9972111631</td></tr>\n",
              "\t<tr><td>sexist        </td><td>~~</td><td>sexist             </td><td>              </td><td>0</td><td>21.622942442</td><td>0.192004952</td><td>112.616587</td><td>0.000000e+00</td><td>21.622942442</td><td> 0.928725069</td><td> 0.9287250690</td></tr>\n",
              "\t<tr><td>Gender        </td><td>~~</td><td>Gender             </td><td>              </td><td>1</td><td> 0.234838277</td><td>0.000000000</td><td>        NA</td><td>          NA</td><td> 0.234838277</td><td> 1.000000000</td><td> 0.2348382775</td></tr>\n",
              "\t<tr><td>Gender        </td><td>~~</td><td>gen.sal.z          </td><td>              </td><td>1</td><td> 0.064656488</td><td>0.000000000</td><td>        NA</td><td>          NA</td><td> 0.064656488</td><td> 0.069699813</td><td> 0.0646564878</td></tr>\n",
              "\t<tr><td>Gender        </td><td>~~</td><td>gen.x.sal          </td><td>              </td><td>1</td><td> 0.024366900</td><td>0.000000000</td><td>        NA</td><td>          NA</td><td> 0.024366900</td><td> 0.034167037</td><td> 0.0243669001</td></tr>\n",
              "\t<tr><td>gen.sal.z     </td><td>~~</td><td>gen.sal.z          </td><td>              </td><td>1</td><td> 3.664309121</td><td>0.000000000</td><td>        NA</td><td>          NA</td><td> 3.664309121</td><td> 1.000000000</td><td> 3.6643091208</td></tr>\n",
              "\t<tr><td>gen.sal.z     </td><td>~~</td><td>gen.x.sal          </td><td>              </td><td>1</td><td> 2.169973888</td><td>0.000000000</td><td>        NA</td><td>          NA</td><td> 2.169973888</td><td> 0.770282339</td><td> 2.1699738884</td></tr>\n",
              "\t<tr><td>gen.x.sal     </td><td>~~</td><td>gen.x.sal          </td><td>              </td><td>1</td><td> 2.165793427</td><td>0.000000000</td><td>        NA</td><td>          NA</td><td> 2.165793427</td><td> 1.000000000</td><td> 2.1657934270</td></tr>\n",
              "\t<tr><td>indirect1     </td><td>:=</td><td>a1*b1              </td><td>indirect1     </td><td>0</td><td>-0.532062774</td><td>0.069464702</td><td> -7.659470</td><td>1.865175e-14</td><td>-0.532062774</td><td>-0.053435946</td><td>-0.1102678896</td></tr>\n",
              "\t<tr><td>indirect2     </td><td>:=</td><td>a4*b2              </td><td>indirect2     </td><td>0</td><td>-0.010946606</td><td>0.003754730</td><td> -2.915418</td><td>3.552126e-03</td><td>-0.010946606</td><td>-0.001099386</td><td>-0.0022686405</td></tr>\n",
              "\t<tr><td>total_indirect</td><td>:=</td><td>indirect1+indirect2</td><td>total_indirect</td><td>0</td><td>-0.543009380</td><td>0.069569347</td><td> -7.805296</td><td>5.995204e-15</td><td>-0.543009380</td><td>-0.054535332</td><td>-0.1125365301</td></tr>\n",
              "\t<tr><td>total         </td><td>:=</td><td>total_indirect+c   </td><td>total         </td><td>0</td><td>-2.556398886</td><td>0.061819273</td><td>-41.352782</td><td>0.000000e+00</td><td>-2.556398886</td><td>-0.256743378</td><td>-0.5298034814</td></tr>\n",
              "\t<tr><td>mod_indirect1 </td><td>:=</td><td>a3*b1              </td><td>mod_indirect1 </td><td>0</td><td>-0.066157194</td><td>0.008967212</td><td> -7.377677</td><td>1.609823e-13</td><td>-0.066157194</td><td>-0.020177706</td><td>-0.0137108148</td></tr>\n",
              "\t<tr><td>mod_indirect2 </td><td>:=</td><td>a6*b2              </td><td>mod_indirect2 </td><td>0</td><td>-0.003490761</td><td>0.002019017</td><td> -1.728941</td><td>8.381969e-02</td><td>-0.003490761</td><td>-0.001064670</td><td>-0.0007234464</td></tr>\n",
              "</tbody>\n",
              "</table>\n",
              "</dd>\n",
              "</dl>\n"
            ],
            "text/latex": [
              "\\begin{description}\n",
              "\\item[\\$header] \\begin{description}\n",
              "\\item[\\$lavaan.version] '0.6-19'\n",
              "\\item[\\$sam.approach] FALSE\n",
              "\\item[\\$optim.method] 'nlminb'\n",
              "\\item[\\$optim.iterations] 1\n",
              "\\item[\\$optim.converged] TRUE\n",
              "\\end{description}\n",
              "\n",
              "\\item[\\$optim] \\begin{description}\n",
              "\\item[\\$estimator] 'ML'\n",
              "\\item[\\$estimator.args] \\begin{enumerate}\n",
              "\\end{enumerate}\n",
              "\n",
              "\\item[\\$optim.method] 'nlminb'\n",
              "\\item[\\$npar] 12\n",
              "\\item[\\$eq.constraints] FALSE\n",
              "\\item[\\$nrow.ceq.jac] 0\n",
              "\\item[\\$nrow.cin.jac] 0\n",
              "\\item[\\$nrow.con.jac] 0\n",
              "\\item[\\$con.jac.rank] 0\n",
              "\\end{description}\n",
              "\n",
              "\\item[\\$data] \\begin{description}\n",
              "\\item[\\$ngroups] 1\n",
              "\\item[\\$nobs] 24303\n",
              "\\end{description}\n",
              "\n",
              "\\item[\\$test] \\textbf{\\$standard} = \\begin{description}\n",
              "\\item[\\$test] 'standard'\n",
              "\\item[\\$stat] 729.454794999506\n",
              "\\item[\\$stat.group] 729.454794999506\n",
              "\\item[\\$df] 3\n",
              "\\item[\\$refdistr] 'chisq'\n",
              "\\item[\\$pvalue] 0\n",
              "\\end{description}\n",
              "\n",
              "\\item[\\$fit] \\begin{description*}\n",
              "\\item[npar] 12\n",
              "\\item[fmin] 0.0150075051433878\n",
              "\\item[chisq] 729.454794999506\n",
              "\\item[df] 3\n",
              "\\item[pvalue] 0\n",
              "\\item[baseline.chisq] 24045.4683940088\n",
              "\\item[baseline.df] 12\n",
              "\\item[baseline.pvalue] 0\n",
              "\\item[cfi] 0.969773201974435\n",
              "\\item[tli] 0.87909280789774\n",
              "\\item[logl] -180507.868997843\n",
              "\\item[unrestricted.logl] -180143.141600343\n",
              "\\item[aic] 361039.737995685\n",
              "\\item[bic] 361136.918256627\n",
              "\\item[ntotal] 24303\n",
              "\\item[bic2] 361098.782598155\n",
              "\\item[rmsea] 0.0998191176350998\n",
              "\\item[rmsea.ci.lower] 0.0937917238021499\n",
              "\\item[rmsea.ci.upper] 0.105983465246544\n",
              "\\item[rmsea.ci.level] 0.9\n",
              "\\item[rmsea.pvalue] 2.22044604925031e-16\n",
              "\\item[rmsea.close.h0] 0.05\n",
              "\\item[rmsea.notclose.pvalue] 0.999999959695784\n",
              "\\item[rmsea.notclose.h0] 0.08\n",
              "\\item[srmr] 0.0383077132122362\n",
              "\\end{description*}\n",
              "\n",
              "\\item[\\$pe] A data.frame: 24 × 12\n",
              "\\begin{tabular}{llllllllllll}\n",
              " lhs & op & rhs & label & exo & est & se & z & pvalue & std.lv & std.all & std.nox\\\\\n",
              " <chr> & <chr> & <chr> & <chr> & <int> & <dbl> & <dbl> & <dbl> & <dbl> & <dbl> & <dbl> & <dbl>\\\\\n",
              "\\hline\n",
              "\t gen.schema     & \\textasciitilde{}  & Gender              & a1             & 0 &  5.601819709 & 0.032701567 & 171.301262 & 0.000000e+00 &  5.601819709 &  0.744165374 &  1.5356244390\\\\\n",
              "\t gen.schema     & \\textasciitilde{}  & gen.sal.z           & a2             & 0 & -0.308777279 & 0.014259944 & -21.653471 & 0.000000e+00 & -0.308777279 & -0.162030688 & -0.0846449834\\\\\n",
              "\t gen.schema     & \\textasciitilde{}  & gen.x.sal           & a3             & 0 &  0.696535616 & 0.017851942 &  39.017359 & 0.000000e+00 &  0.696535616 &  0.281000913 &  0.1909410102\\\\\n",
              "\t obs.learning   & \\textasciitilde{}  & Gender              & a4             & 0 & -0.087386405 & 0.027936141 &  -3.128077 & 1.759540e-03 & -0.087386405 & -0.019367984 & -0.0399668554\\\\\n",
              "\t obs.learning   & \\textasciitilde{}  & gen.sal.z           & a5             & 0 &  0.072663913 & 0.011812497 &   6.151444 & 7.678067e-10 &  0.072663913 &  0.063616671 &  0.0332334088\\\\\n",
              "\t obs.learning   & \\textasciitilde{}  & gen.x.sal           & a6             & 0 & -0.027866635 & 0.015676500 &  -1.777606 & 7.546865e-02 & -0.027866635 & -0.018756386 & -0.0127450233\\\\\n",
              "\t sexist         & \\textasciitilde{}  & gen.schema          & b1             & 0 & -0.094980346 & 0.012368163 &  -7.679422 & 1.598721e-14 & -0.094980346 & -0.071806548 & -0.0718065477\\\\\n",
              "\t sexist         & \\textasciitilde{}  & obs.learning        & b2             & 0 &  0.125266696 & 0.013849490 &   9.044860 & 0.000000e+00 &  0.125266696 &  0.056763047 &  0.0567630472\\\\\n",
              "\t sexist         & \\textasciitilde{}  & Gender              & c              & 0 & -2.013389506 & 0.095018886 & -21.189361 & 0.000000e+00 & -2.013389506 & -0.202208046 & -0.4172669513\\\\\n",
              "\t gen.schema     & \\textasciitilde{}\\textasciitilde{} & gen.schema          &                & 0 &  5.504737042 & 0.059876295 &  91.935164 & 0.000000e+00 &  5.504737042 &  0.413664597 &  0.4136645968\\\\\n",
              "\t obs.learning   & \\textasciitilde{}\\textasciitilde{} & obs.learning        &                & 0 &  4.767326695 & 0.049956041 &  95.430435 & 0.000000e+00 &  4.767326695 &  0.997211163 &  0.9972111631\\\\\n",
              "\t sexist         & \\textasciitilde{}\\textasciitilde{} & sexist              &                & 0 & 21.622942442 & 0.192004952 & 112.616587 & 0.000000e+00 & 21.622942442 &  0.928725069 &  0.9287250690\\\\\n",
              "\t Gender         & \\textasciitilde{}\\textasciitilde{} & Gender              &                & 1 &  0.234838277 & 0.000000000 &         NA &           NA &  0.234838277 &  1.000000000 &  0.2348382775\\\\\n",
              "\t Gender         & \\textasciitilde{}\\textasciitilde{} & gen.sal.z           &                & 1 &  0.064656488 & 0.000000000 &         NA &           NA &  0.064656488 &  0.069699813 &  0.0646564878\\\\\n",
              "\t Gender         & \\textasciitilde{}\\textasciitilde{} & gen.x.sal           &                & 1 &  0.024366900 & 0.000000000 &         NA &           NA &  0.024366900 &  0.034167037 &  0.0243669001\\\\\n",
              "\t gen.sal.z      & \\textasciitilde{}\\textasciitilde{} & gen.sal.z           &                & 1 &  3.664309121 & 0.000000000 &         NA &           NA &  3.664309121 &  1.000000000 &  3.6643091208\\\\\n",
              "\t gen.sal.z      & \\textasciitilde{}\\textasciitilde{} & gen.x.sal           &                & 1 &  2.169973888 & 0.000000000 &         NA &           NA &  2.169973888 &  0.770282339 &  2.1699738884\\\\\n",
              "\t gen.x.sal      & \\textasciitilde{}\\textasciitilde{} & gen.x.sal           &                & 1 &  2.165793427 & 0.000000000 &         NA &           NA &  2.165793427 &  1.000000000 &  2.1657934270\\\\\n",
              "\t indirect1      & := & a1*b1               & indirect1      & 0 & -0.532062774 & 0.069464702 &  -7.659470 & 1.865175e-14 & -0.532062774 & -0.053435946 & -0.1102678896\\\\\n",
              "\t indirect2      & := & a4*b2               & indirect2      & 0 & -0.010946606 & 0.003754730 &  -2.915418 & 3.552126e-03 & -0.010946606 & -0.001099386 & -0.0022686405\\\\\n",
              "\t total\\_indirect & := & indirect1+indirect2 & total\\_indirect & 0 & -0.543009380 & 0.069569347 &  -7.805296 & 5.995204e-15 & -0.543009380 & -0.054535332 & -0.1125365301\\\\\n",
              "\t total          & := & total\\_indirect+c    & total          & 0 & -2.556398886 & 0.061819273 & -41.352782 & 0.000000e+00 & -2.556398886 & -0.256743378 & -0.5298034814\\\\\n",
              "\t mod\\_indirect1  & := & a3*b1               & mod\\_indirect1  & 0 & -0.066157194 & 0.008967212 &  -7.377677 & 1.609823e-13 & -0.066157194 & -0.020177706 & -0.0137108148\\\\\n",
              "\t mod\\_indirect2  & := & a6*b2               & mod\\_indirect2  & 0 & -0.003490761 & 0.002019017 &  -1.728941 & 8.381969e-02 & -0.003490761 & -0.001064670 & -0.0007234464\\\\\n",
              "\\end{tabular}\n",
              "\n",
              "\\end{description}\n"
            ],
            "text/markdown": [
              "$header\n",
              ":   $lavaan.version\n",
              ":   '0.6-19'\n",
              "$sam.approach\n",
              ":   FALSE\n",
              "$optim.method\n",
              ":   'nlminb'\n",
              "$optim.iterations\n",
              ":   1\n",
              "$optim.converged\n",
              ":   TRUE\n",
              "\n",
              "\n",
              "\n",
              "$optim\n",
              ":   $estimator\n",
              ":   'ML'\n",
              "$estimator.args\n",
              ":   \n",
              "\n",
              "\n",
              "$optim.method\n",
              ":   'nlminb'\n",
              "$npar\n",
              ":   12\n",
              "$eq.constraints\n",
              ":   FALSE\n",
              "$nrow.ceq.jac\n",
              ":   0\n",
              "$nrow.cin.jac\n",
              ":   0\n",
              "$nrow.con.jac\n",
              ":   0\n",
              "$con.jac.rank\n",
              ":   0\n",
              "\n",
              "\n",
              "\n",
              "$data\n",
              ":   $ngroups\n",
              ":   1\n",
              "$nobs\n",
              ":   24303\n",
              "\n",
              "\n",
              "\n",
              "$test\n",
              ":   **$standard** = $test\n",
              ":   'standard'\n",
              "$stat\n",
              ":   729.454794999506\n",
              "$stat.group\n",
              ":   729.454794999506\n",
              "$df\n",
              ":   3\n",
              "$refdistr\n",
              ":   'chisq'\n",
              "$pvalue\n",
              ":   0\n",
              "\n",
              "\n",
              "\n",
              "$fit\n",
              ":   npar\n",
              ":   12fmin\n",
              ":   0.0150075051433878chisq\n",
              ":   729.454794999506df\n",
              ":   3pvalue\n",
              ":   0baseline.chisq\n",
              ":   24045.4683940088baseline.df\n",
              ":   12baseline.pvalue\n",
              ":   0cfi\n",
              ":   0.969773201974435tli\n",
              ":   0.87909280789774logl\n",
              ":   -180507.868997843unrestricted.logl\n",
              ":   -180143.141600343aic\n",
              ":   361039.737995685bic\n",
              ":   361136.918256627ntotal\n",
              ":   24303bic2\n",
              ":   361098.782598155rmsea\n",
              ":   0.0998191176350998rmsea.ci.lower\n",
              ":   0.0937917238021499rmsea.ci.upper\n",
              ":   0.105983465246544rmsea.ci.level\n",
              ":   0.9rmsea.pvalue\n",
              ":   2.22044604925031e-16rmsea.close.h0\n",
              ":   0.05rmsea.notclose.pvalue\n",
              ":   0.999999959695784rmsea.notclose.h0\n",
              ":   0.08srmr\n",
              ":   0.0383077132122362\n",
              "\n",
              "\n",
              "$pe\n",
              ":   \n",
              "A data.frame: 24 × 12\n",
              "\n",
              "| lhs &lt;chr&gt; | op &lt;chr&gt; | rhs &lt;chr&gt; | label &lt;chr&gt; | exo &lt;int&gt; | est &lt;dbl&gt; | se &lt;dbl&gt; | z &lt;dbl&gt; | pvalue &lt;dbl&gt; | std.lv &lt;dbl&gt; | std.all &lt;dbl&gt; | std.nox &lt;dbl&gt; |\n",
              "|---|---|---|---|---|---|---|---|---|---|---|---|\n",
              "| gen.schema     | ~  | Gender              | a1             | 0 |  5.601819709 | 0.032701567 | 171.301262 | 0.000000e+00 |  5.601819709 |  0.744165374 |  1.5356244390 |\n",
              "| gen.schema     | ~  | gen.sal.z           | a2             | 0 | -0.308777279 | 0.014259944 | -21.653471 | 0.000000e+00 | -0.308777279 | -0.162030688 | -0.0846449834 |\n",
              "| gen.schema     | ~  | gen.x.sal           | a3             | 0 |  0.696535616 | 0.017851942 |  39.017359 | 0.000000e+00 |  0.696535616 |  0.281000913 |  0.1909410102 |\n",
              "| obs.learning   | ~  | Gender              | a4             | 0 | -0.087386405 | 0.027936141 |  -3.128077 | 1.759540e-03 | -0.087386405 | -0.019367984 | -0.0399668554 |\n",
              "| obs.learning   | ~  | gen.sal.z           | a5             | 0 |  0.072663913 | 0.011812497 |   6.151444 | 7.678067e-10 |  0.072663913 |  0.063616671 |  0.0332334088 |\n",
              "| obs.learning   | ~  | gen.x.sal           | a6             | 0 | -0.027866635 | 0.015676500 |  -1.777606 | 7.546865e-02 | -0.027866635 | -0.018756386 | -0.0127450233 |\n",
              "| sexist         | ~  | gen.schema          | b1             | 0 | -0.094980346 | 0.012368163 |  -7.679422 | 1.598721e-14 | -0.094980346 | -0.071806548 | -0.0718065477 |\n",
              "| sexist         | ~  | obs.learning        | b2             | 0 |  0.125266696 | 0.013849490 |   9.044860 | 0.000000e+00 |  0.125266696 |  0.056763047 |  0.0567630472 |\n",
              "| sexist         | ~  | Gender              | c              | 0 | -2.013389506 | 0.095018886 | -21.189361 | 0.000000e+00 | -2.013389506 | -0.202208046 | -0.4172669513 |\n",
              "| gen.schema     | ~~ | gen.schema          | <!----> | 0 |  5.504737042 | 0.059876295 |  91.935164 | 0.000000e+00 |  5.504737042 |  0.413664597 |  0.4136645968 |\n",
              "| obs.learning   | ~~ | obs.learning        | <!----> | 0 |  4.767326695 | 0.049956041 |  95.430435 | 0.000000e+00 |  4.767326695 |  0.997211163 |  0.9972111631 |\n",
              "| sexist         | ~~ | sexist              | <!----> | 0 | 21.622942442 | 0.192004952 | 112.616587 | 0.000000e+00 | 21.622942442 |  0.928725069 |  0.9287250690 |\n",
              "| Gender         | ~~ | Gender              | <!----> | 1 |  0.234838277 | 0.000000000 |         NA |           NA |  0.234838277 |  1.000000000 |  0.2348382775 |\n",
              "| Gender         | ~~ | gen.sal.z           | <!----> | 1 |  0.064656488 | 0.000000000 |         NA |           NA |  0.064656488 |  0.069699813 |  0.0646564878 |\n",
              "| Gender         | ~~ | gen.x.sal           | <!----> | 1 |  0.024366900 | 0.000000000 |         NA |           NA |  0.024366900 |  0.034167037 |  0.0243669001 |\n",
              "| gen.sal.z      | ~~ | gen.sal.z           | <!----> | 1 |  3.664309121 | 0.000000000 |         NA |           NA |  3.664309121 |  1.000000000 |  3.6643091208 |\n",
              "| gen.sal.z      | ~~ | gen.x.sal           | <!----> | 1 |  2.169973888 | 0.000000000 |         NA |           NA |  2.169973888 |  0.770282339 |  2.1699738884 |\n",
              "| gen.x.sal      | ~~ | gen.x.sal           | <!----> | 1 |  2.165793427 | 0.000000000 |         NA |           NA |  2.165793427 |  1.000000000 |  2.1657934270 |\n",
              "| indirect1      | := | a1*b1               | indirect1      | 0 | -0.532062774 | 0.069464702 |  -7.659470 | 1.865175e-14 | -0.532062774 | -0.053435946 | -0.1102678896 |\n",
              "| indirect2      | := | a4*b2               | indirect2      | 0 | -0.010946606 | 0.003754730 |  -2.915418 | 3.552126e-03 | -0.010946606 | -0.001099386 | -0.0022686405 |\n",
              "| total_indirect | := | indirect1+indirect2 | total_indirect | 0 | -0.543009380 | 0.069569347 |  -7.805296 | 5.995204e-15 | -0.543009380 | -0.054535332 | -0.1125365301 |\n",
              "| total          | := | total_indirect+c    | total          | 0 | -2.556398886 | 0.061819273 | -41.352782 | 0.000000e+00 | -2.556398886 | -0.256743378 | -0.5298034814 |\n",
              "| mod_indirect1  | := | a3*b1               | mod_indirect1  | 0 | -0.066157194 | 0.008967212 |  -7.377677 | 1.609823e-13 | -0.066157194 | -0.020177706 | -0.0137108148 |\n",
              "| mod_indirect2  | := | a6*b2               | mod_indirect2  | 0 | -0.003490761 | 0.002019017 |  -1.728941 | 8.381969e-02 | -0.003490761 | -0.001064670 | -0.0007234464 |\n",
              "\n",
              "\n",
              "\n",
              "\n"
            ],
            "text/plain": [
              "lavaan 0.6-19 ended normally after 1 iteration\n",
              "\n",
              "  Estimator                                         ML\n",
              "  Optimization method                           NLMINB\n",
              "  Number of model parameters                        12\n",
              "\n",
              "  Number of observations                         24303\n",
              "\n",
              "Model Test User Model:\n",
              "                                                      \n",
              "  Test statistic                               729.455\n",
              "  Degrees of freedom                                 3\n",
              "  P-value (Chi-square)                           0.000\n",
              "\n",
              "Model Test Baseline Model:\n",
              "\n",
              "  Test statistic                             24045.468\n",
              "  Degrees of freedom                                12\n",
              "  P-value                                        0.000\n",
              "\n",
              "User Model versus Baseline Model:\n",
              "\n",
              "  Comparative Fit Index (CFI)                    0.970\n",
              "  Tucker-Lewis Index (TLI)                       0.879\n",
              "\n",
              "Loglikelihood and Information Criteria:\n",
              "\n",
              "  Loglikelihood user model (H0)            -180507.869\n",
              "  Loglikelihood unrestricted model (H1)    -180143.142\n",
              "                                                      \n",
              "  Akaike (AIC)                              361039.738\n",
              "  Bayesian (BIC)                            361136.918\n",
              "  Sample-size adjusted Bayesian (SABIC)     361098.783\n",
              "\n",
              "Root Mean Square Error of Approximation:\n",
              "\n",
              "  RMSEA                                          0.100\n",
              "  90 Percent confidence interval - lower         0.094\n",
              "  90 Percent confidence interval - upper         0.106\n",
              "  P-value H_0: RMSEA <= 0.050                    0.000\n",
              "  P-value H_0: RMSEA >= 0.080                    1.000\n",
              "\n",
              "Standardized Root Mean Square Residual:\n",
              "\n",
              "  SRMR                                           0.038\n",
              "\n",
              "Parameter Estimates:\n",
              "\n",
              "  Standard errors                            Bootstrap\n",
              "  Number of requested bootstrap draws             5000\n",
              "  Number of successful bootstrap draws            5000\n",
              "\n",
              "Regressions:\n",
              "                   Estimate  Std.Err  z-value  P(>|z|)   Std.lv  Std.all\n",
              "  gen.schema ~                                                          \n",
              "    Gender    (a1)    5.602    0.033  171.301    0.000    5.602    0.744\n",
              "    gen.sal.z (a2)   -0.309    0.014  -21.653    0.000   -0.309   -0.162\n",
              "    gen.x.sal (a3)    0.697    0.018   39.017    0.000    0.697    0.281\n",
              "  obs.learning ~                                                        \n",
              "    Gender    (a4)   -0.087    0.028   -3.128    0.002   -0.087   -0.019\n",
              "    gen.sal.z (a5)    0.073    0.012    6.151    0.000    0.073    0.064\n",
              "    gen.x.sal (a6)   -0.028    0.016   -1.778    0.075   -0.028   -0.019\n",
              "  sexist ~                                                              \n",
              "    gen.schem (b1)   -0.095    0.012   -7.679    0.000   -0.095   -0.072\n",
              "    obs.lrnng (b2)    0.125    0.014    9.045    0.000    0.125    0.057\n",
              "    Gender     (c)   -2.013    0.095  -21.189    0.000   -2.013   -0.202\n",
              "\n",
              "Variances:\n",
              "                   Estimate  Std.Err  z-value  P(>|z|)   Std.lv  Std.all\n",
              "   .gen.schema        5.505    0.060   91.935    0.000    5.505    0.414\n",
              "   .obs.learning      4.767    0.050   95.430    0.000    4.767    0.997\n",
              "   .sexist           21.623    0.192  112.617    0.000   21.623    0.929\n",
              "\n",
              "Defined Parameters:\n",
              "                   Estimate  Std.Err  z-value  P(>|z|)   Std.lv  Std.all\n",
              "    indirect1        -0.532    0.069   -7.659    0.000   -0.532   -0.053\n",
              "    indirect2        -0.011    0.004   -2.915    0.004   -0.011   -0.001\n",
              "    total_indirect   -0.543    0.070   -7.805    0.000   -0.543   -0.055\n",
              "    total            -2.556    0.062  -41.353    0.000   -2.556   -0.257\n",
              "    mod_indirect1    -0.066    0.009   -7.378    0.000   -0.066   -0.020\n",
              "    mod_indirect2    -0.003    0.002   -1.729    0.084   -0.003   -0.001\n"
            ]
          },
          "metadata": {},
          "output_type": "display_data"
        }
      ],
      "source": [
        "tgh1$gen.sal.z <- scale(tgh1$Identification_with_gender_group, scale = FALSE) #Center the Gender salience variable\n",
        "tgh1$gen.x.sal <- tgh1$Gender * tgh1$gen.sal.z #Create the interaction term\n",
        "#Model specification\n",
        "model.mod <- '\n",
        "  # Moderated paths (Gender * Salience → Mediators)\n",
        "  gen.schema ~ a1*Gender + a2*gen.sal.z + a3*gen.x.sal\n",
        " obs.learning ~ a4*Gender + a5*gen.sal.z + a6*gen.x.sal\n",
        "\n",
        "  # Mediators to outcome\n",
        "  sexist ~ b1*gen.schema + b2*obs.learning + c*Gender\n",
        "\n",
        "  # Indirect effects\n",
        "  indirect1 := a1 * b1\n",
        "  indirect2 := a4 * b2\n",
        "  total_indirect := indirect1 + indirect2\n",
        "  total := total_indirect + c\n",
        "\n",
        "  # Moderated indirect effects\n",
        "  mod_indirect1 := a3 * b1\n",
        "  mod_indirect2 := a6 * b2\n",
        "'\n",
        "fit.mod2 <- sem(model.mod, data = tgh1, se = \"bootstrap\", bootstrap = 5000)\n",
        "summary(fit.mod2, fit.measures = TRUE, standardized = TRUE)"
      ]
    },
    {
      "cell_type": "markdown",
      "source": [
        "\n",
        "\n",
        "*   Plot moderation model 2 showing the fully standardized estimates\n",
        "\n"
      ],
      "metadata": {
        "id": "Iycga9GbfIbV"
      }
    },
    {
      "cell_type": "code",
      "execution_count": null,
      "metadata": {
        "id": "8FaLKQzMFjD5",
        "outputId": "6a2df73f-fe14-4abd-f9f3-e09d2d427ac3"
      },
      "outputs": [
        {
          "data": {
            "image/png": "[encoded data removed]",
            "text/plain": [
              "plot without title"
            ]
          },
          "metadata": {
            "image/png": {
              "height": 420,
              "width": 420
            }
          },
          "output_type": "display_data"
        }
      ],
      "source": [
        "ModPlot<-semPaths(fit.mod2,what=\"std\", layout=\"tree\", edge.label.cex = 1.2,\n",
        "                  sizeMan=12,nCharNodes=0,residuals=FALSE,title=FALSE)"
      ]
    },
    {
      "cell_type": "markdown",
      "source": [
        "## **Conclusions**"
      ],
      "metadata": {
        "id": "FQSUyEV4jPn_"
      }
    },
    {
      "cell_type": "markdown",
      "source": [
        "## **References**\n",
        "\n",
        "Carr-Chellman, D. and Levitan, J. (2016). Adult Learning and Pragmatic Identity Theory. Adult Education Research Conference. https://newprairiepress.org/aerc/2016/papers/7\n",
        "\n",
        "Cross, E., Overall, N., Low, R. and McNulty, J. (2018). An Interdependence Account of Sexism and Power: Men’s Hostile Sexism, Biased Perceptions of Low Power, and Relationship Aggression. *Journal of Personality and Social Psychology*. 117(2). pp. 338 –363\n",
        "\n",
        "Davidai, S. and Tepper, S. (2023). The psychology of zero-sum beliefs. *Nature Reviews Psychology*. 2. pp. 472–482\n",
        "\n",
        "Glick, P. and Fiske, S. (1996) The Ambivalent Sexism Inventory: Differentiating Hostile and Benevolent Sexism. *Journal of Personality and Social Psychology*. 70(3). pp. 491-512\n",
        "\n",
        "Glick, P. and Whitehead, J. (2010). Hostility Toward Men and the Perceived Stability of Male Dominance. *Social Psychology*. 41(3). pp. 177-185\n",
        "\n",
        "Heyman, G. and Giles, J. (2006). Gender and Psychological Essentialism. *Enfance*. 58(3). pp. 293–310.\n",
        "\n",
        "Kim, Y. and Zhang, Y. (2014). The Impact of Power-Distance Belief on Consumers’ Preference for Status Brands. *Journal of Global Marketing*. 27(1). pp. 13-29\n",
        "\n",
        "Kosakowska-Berezecka, N., Besta, T., Jurek, P., Olech, M., Sobiecki, J., Bosson, J., Vandello, J., Best, D., Zawisza, M., Safdar, S., Wlodarczyk, A., Zadkowska, M. (2024). Toward Gender Harmony Dataset: Gender Beliefs and Gender Stereotypes in 62 Countries. *Nature Scientific Data*. 11(392). pp. 1-8\n",
        "\n",
        "Proudfoot, D. and Kay, A. (2022). Communal Expectations Conflict With Autonomy Motives: The Western Drive for Autonomy Shapes Women’s Negative Responses to\n",
        "Positive Gender Stereotypes. *American Psychological Association*. 124(1). pp. 1-21\n",
        "\n",
        "Stewart, A. (2017). Men’s Collective Action Willingness: Testing Different Theoretical Models of Protesting Gender Inequality for Women and Men. *Psychology of Men & Masculinity*. 18(4). pp. 372–381\n",
        "\n",
        "Stryker, S. and Serpe, R. (1994). Identity Salience and Psychology Centrality: Equivalent, Overlapping, or Complementary Concepts?. *Social Psychology Quarterly*. 57(1). pp. 16-35\n",
        "\n",
        "Vandello, J., Bosson, J., Cohen, D., Burnaford, R. and Weaver, J. (2008). Precarious Manhood. *Journal of Personality and Social Psychology*. 95(6). pp. 1325-1339\n"
      ],
      "metadata": {
        "id": "Y_mnJ5RSykVF"
      }
    }
  ],
  "metadata": {
    "colab": {
      "provenance": [],
      "collapsed_sections": [
        "Lk3piOfBKCAN"
      ],
      "include_colab_link": true
    },
    "kernelspec": {
      "display_name": "R",
      "language": "R",
      "name": "ir"
    },
    "language_info": {
      "codemirror_mode": "r",
      "file_extension": ".r",
      "mimetype": "text/x-r-source",
      "name": "R",
      "pygments_lexer": "r",
      "version": "4.4.2"
    }
  },
  "nbformat": 4,
  "nbformat_minor": 0
}